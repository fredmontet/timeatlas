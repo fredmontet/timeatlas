{
 "cells": [
  {
   "cell_type": "markdown",
   "metadata": {},
   "source": [
    "IO Operations\n",
    "============="
   ]
  },
  {
   "cell_type": "code",
   "execution_count": null,
   "outputs": [],
   "source": [
    "import timeatlas as ta"
   ],
   "metadata": {
    "collapsed": false,
    "pycharm": {
     "name": "#%%\n"
    }
   }
  },
  {
   "cell_type": "markdown",
   "source": [
    "The object TimeSeries and TimeSeries data have multiple way to be written into a file.\n",
    "\n",
    "With TimeSeries\n",
    "---------------\n",
    "\n",
    "First we create some TimeSeries and a TimeSeriesDataset"
   ],
   "metadata": {
    "collapsed": false,
    "pycharm": {
     "name": "#%% md\n"
    }
   }
  },
  {
   "cell_type": "code",
   "execution_count": 90,
   "metadata": {
    "pycharm": {
     "name": "#%%\n"
    }
   },
   "outputs": [],
   "source": [
    "from timeatlas.read_write import read_text, read_pickle, read_tsd, csv_to_tsd\n",
    "\n",
    "ts = ta.TimeSeries.create('2019-01-01', '2019-01-04', freq='1D')\n",
    "ts = ts.fill([i for i in range(len(ts))])\n",
    "ts.class_label = \"test label\"\n",
    "ts.metadata = ta.Metadata({'test': \"metadata test\"})\n",
    "\n",
    "ts2 = ta.TimeSeries.create('2019-01-01', '2019-01-04', freq='H')\n",
    "ts2 = ts2.fill([i for i in range(len(ts2))])\n",
    "\n",
    "ts3 = ta.TimeSeries.create('2019-01-01', '2019-01-10', freq='1D')\n",
    "ts3 = ts3.fill([i for i in range(len(ts3))])\n",
    "\n",
    "tsd = ta.TimeSeriesDataset([ts, ts2, ts3])"
   ]
  },
  {
   "cell_type": "markdown",
   "metadata": {},
   "source": [
    "In time timeatlas we try to keep the TimeSeries and their Metadata close to each\n",
    " other. With the ```TimeSeries.to_text(path)``` we write the TimeSeries data\n",
    "into data.csv and the metadata into meta.json."
   ]
  },
  {
   "cell_type": "code",
   "execution_count": 91,
   "metadata": {},
   "outputs": [],
   "source": [
    "ts.to_text('./data/timeseries/to_text/')"
   ]
  },
  {
   "cell_type": "markdown",
   "metadata": {},
   "source": [
    "This will save the TimeSeries in a csv-files (data.csv) and the metadata\n",
    "(meta.json)."
   ]
  },
  {
   "cell_type": "code",
   "execution_count": 92,
   "metadata": {},
   "outputs": [],
   "source": [
    "ts = read_text('./data/timeseries/to_text/')"
   ]
  },
  {
   "cell_type": "code",
   "execution_count": null,
   "outputs": [],
   "source": [
    "ts"
   ],
   "metadata": {
    "collapsed": false,
    "pycharm": {
     "name": "#%%\n"
    }
   }
  },
  {
   "cell_type": "code",
   "execution_count": 94,
   "metadata": {},
   "outputs": [
    {
     "data": {
      "text/plain": [
       "{'label': 'test label', 'test': 'metadata test'}"
      ]
     },
     "execution_count": 94,
     "metadata": {},
     "output_type": "execute_result"
    }
   ],
   "source": [
    "ts.metadata"
   ]
  },
  {
   "cell_type": "markdown",
   "metadata": {},
   "source": [
    "In addtion to `to_text(path)`, TimeAtlas implements :\n",
    "\n",
    "- `to_pickle(path)` saving the TimeSeries as pickle,\n",
    "- `to_df()` returning a Pandas Dataframe,\n",
    "- `to_array()` returning a np.array,\n",
    "- `to_darts()` the format form [u8darts](https://github.com/unit8co/darts).\n",
    "\n",
    "\n",
    "With TimeSeriesDataset\n",
    "----------------------\n",
    "\n",
    "TimeSeriesDataset implements the most of the same functions as in TimeSeries as\n",
    "both extends the abstract base class `AbstarctBaseTimeSeries` (excl.\n",
    "`to_darts()`)\n",
    "\n",
    "`TimeSeriesDataset.to_text(path)` will create a subfolder in path for each\n",
    "TimeSeries in the TimeSeriesDataset to keep the data.csv and the meta.json\n",
    "together.\n",
    "\n",
    "```\n",
    "data\n",
    "├──time_series_dataset\n",
    "│  ├── 0\n",
    "│  │   ├── data.csv\n",
    "│  │   └── meta.json\n",
    ".  └── 1\n",
    ".      ├── data.csv\n",
    ".      └── meta.jsondata.csv\n",
    "```"
   ]
  },
  {
   "cell_type": "code",
   "execution_count": 95,
   "metadata": {},
   "outputs": [
    {
     "data": {
      "text/plain": [
       "   minimum  maximum  mean  median  kurtosis  skewness\n",
       "0        0        3   1.5     1.5      -1.2       0.0\n",
       "1        0       72  36.0    36.0      -1.2       0.0\n",
       "2        0        9   4.5     4.5      -1.2       0.0"
      ]
     },
     "execution_count": 95,
     "metadata": {},
     "output_type": "execute_result"
    }
   ],
   "source": [
    "tsd"
   ]
  },
  {
   "cell_type": "code",
   "execution_count": 96,
   "metadata": {},
   "outputs": [],
   "source": [
    "tsd.to_text('./data/timeseriesdataset/to_text/')"
   ]
  },
  {
   "cell_type": "markdown",
   "metadata": {},
   "source": [
    "To load the TimeSeriesDataset will search the given folder for the subfolders\n",
    "and if they contain files in the acceptable format."
   ]
  },
  {
   "cell_type": "code",
   "execution_count": 97,
   "metadata": {},
   "outputs": [],
   "source": [
    "tsd_loaded = read_tsd('./data/timeseriesdataset/to_text/')"
   ]
  },
  {
   "cell_type": "code",
   "execution_count": 98,
   "metadata": {},
   "outputs": [
    {
     "data": {
      "text/plain": [
       "   minimum  maximum  mean  median  kurtosis  skewness\n",
       "0        0        3   1.5     1.5      -1.2       0.0\n",
       "1        0       72  36.0    36.0      -1.2       0.0\n",
       "2        0        9   4.5     4.5      -1.2       0.0"
      ]
     },
     "execution_count": 98,
     "metadata": {},
     "output_type": "execute_result"
    }
   ],
   "source": [
    "tsd_loaded"
   ]
  },
  {
   "cell_type": "markdown",
   "metadata": {},
   "source": [
    "Additionally there is a possibility to load a csv-file as TimeSeriesDataset.\n",
    "Each column in the csv will be loaded as TimeSeries and added to the\n",
    "TimeSeriesDataset"
   ]
  },
  {
   "cell_type": "code",
   "execution_count": 99,
   "metadata": {},
   "outputs": [],
   "source": [
    "tsd_loaded.to_df().to_csv(\"./data/timeseriesdataset/tsd.csv\")"
   ]
  },
  {
   "cell_type": "code",
   "execution_count": 101,
   "metadata": {},
   "outputs": [],
   "source": [
    "tsd_from_csv = csv_to_tsd(\"./data/timeseriesdataset/tsd.csv\")"
   ]
  },
  {
   "cell_type": "code",
   "execution_count": 105,
   "metadata": {},
   "outputs": [
    {
     "data": {
      "text/html": [
       "<div>\n",
       "<style scoped>\n",
       "    .dataframe tbody tr th:only-of-type {\n",
       "        vertical-align: middle;\n",
       "    }\n",
       "\n",
       "    .dataframe tbody tr th {\n",
       "        vertical-align: top;\n",
       "    }\n",
       "\n",
       "    .dataframe thead th {\n",
       "        text-align: right;\n",
       "    }\n",
       "</style>\n",
       "<table border=\"1\" class=\"dataframe\">\n",
       "  <thead>\n",
       "    <tr style=\"text-align: right;\">\n",
       "      <th></th>\n",
       "      <th>0_values</th>\n",
       "      <th>1_values</th>\n",
       "      <th>2_values</th>\n",
       "    </tr>\n",
       "    <tr>\n",
       "      <th>index</th>\n",
       "      <th></th>\n",
       "      <th></th>\n",
       "      <th></th>\n",
       "    </tr>\n",
       "  </thead>\n",
       "  <tbody>\n",
       "    <tr>\n",
       "      <th>2019-01-01 00:00:00</th>\n",
       "      <td>0.0</td>\n",
       "      <td>0.0</td>\n",
       "      <td>0.0</td>\n",
       "    </tr>\n",
       "    <tr>\n",
       "      <th>2019-01-01 01:00:00</th>\n",
       "      <td>NaN</td>\n",
       "      <td>1.0</td>\n",
       "      <td>NaN</td>\n",
       "    </tr>\n",
       "    <tr>\n",
       "      <th>2019-01-01 02:00:00</th>\n",
       "      <td>NaN</td>\n",
       "      <td>2.0</td>\n",
       "      <td>NaN</td>\n",
       "    </tr>\n",
       "    <tr>\n",
       "      <th>2019-01-01 03:00:00</th>\n",
       "      <td>NaN</td>\n",
       "      <td>3.0</td>\n",
       "      <td>NaN</td>\n",
       "    </tr>\n",
       "    <tr>\n",
       "      <th>2019-01-01 04:00:00</th>\n",
       "      <td>NaN</td>\n",
       "      <td>4.0</td>\n",
       "      <td>NaN</td>\n",
       "    </tr>\n",
       "    <tr>\n",
       "      <th>...</th>\n",
       "      <td>...</td>\n",
       "      <td>...</td>\n",
       "      <td>...</td>\n",
       "    </tr>\n",
       "    <tr>\n",
       "      <th>2019-01-06 00:00:00</th>\n",
       "      <td>NaN</td>\n",
       "      <td>NaN</td>\n",
       "      <td>5.0</td>\n",
       "    </tr>\n",
       "    <tr>\n",
       "      <th>2019-01-07 00:00:00</th>\n",
       "      <td>NaN</td>\n",
       "      <td>NaN</td>\n",
       "      <td>6.0</td>\n",
       "    </tr>\n",
       "    <tr>\n",
       "      <th>2019-01-08 00:00:00</th>\n",
       "      <td>NaN</td>\n",
       "      <td>NaN</td>\n",
       "      <td>7.0</td>\n",
       "    </tr>\n",
       "    <tr>\n",
       "      <th>2019-01-09 00:00:00</th>\n",
       "      <td>NaN</td>\n",
       "      <td>NaN</td>\n",
       "      <td>8.0</td>\n",
       "    </tr>\n",
       "    <tr>\n",
       "      <th>2019-01-10 00:00:00</th>\n",
       "      <td>NaN</td>\n",
       "      <td>NaN</td>\n",
       "      <td>9.0</td>\n",
       "    </tr>\n",
       "  </tbody>\n",
       "</table>\n",
       "<p>79 rows × 3 columns</p>\n",
       "</div>"
      ],
      "text/plain": [
       "                     0_values  1_values  2_values\n",
       "index                                            \n",
       "2019-01-01 00:00:00       0.0       0.0       0.0\n",
       "2019-01-01 01:00:00       NaN       1.0       NaN\n",
       "2019-01-01 02:00:00       NaN       2.0       NaN\n",
       "2019-01-01 03:00:00       NaN       3.0       NaN\n",
       "2019-01-01 04:00:00       NaN       4.0       NaN\n",
       "...                       ...       ...       ...\n",
       "2019-01-06 00:00:00       NaN       NaN       5.0\n",
       "2019-01-07 00:00:00       NaN       NaN       6.0\n",
       "2019-01-08 00:00:00       NaN       NaN       7.0\n",
       "2019-01-09 00:00:00       NaN       NaN       8.0\n",
       "2019-01-10 00:00:00       NaN       NaN       9.0\n",
       "\n",
       "[79 rows x 3 columns]"
      ]
     },
     "execution_count": 105,
     "metadata": {},
     "output_type": "execute_result"
    }
   ],
   "source": [
    "tsd_from_csv.to_df()"
   ]
  },
  {
   "cell_type": "markdown",
   "metadata": {
    "pycharm": {
     "name": "#%% md\n"
    }
   },
   "source": [
    "In version 0.1.1 there are few restrictions on the format of the csv:\n",
    "\n",
    "1. Each column has to start with a number and an underscore (eg. 0_)\n",
    "2. The integer has to be followed by \"values\"\n",
    "\n",
    "The reason for these restrictions is the inclution of timestamp labels in the\n",
    "TimeSeries that are named \"0_labels_XY\"."
   ]
  }
 ],
 "metadata": {
  "kernelspec": {
   "display_name": "PyCharm (timeatlas)",
   "language": "python",
   "name": "pycharm-9df7f84f"
  },
  "language_info": {
   "codemirror_mode": {
    "name": "ipython",
    "version": 3
   },
   "file_extension": ".py",
   "mimetype": "text/x-python",
   "name": "python",
   "nbconvert_exporter": "python",
   "pygments_lexer": "ipython3",
   "version": "3.7.5"
  }
 },
 "nbformat": 4,
 "nbformat_minor": 1
}