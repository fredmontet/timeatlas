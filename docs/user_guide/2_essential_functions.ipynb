{
 "cells": [
  {
   "cell_type": "markdown",
   "metadata": {
    "collapsed": true
   },
   "source": [
    "Essential Functions\n",
    "==================="
   ]
  },
  {
   "cell_type": "code",
   "execution_count": null,
   "outputs": [],
   "source": [
    "import timeatlas as ta\n",
    "import numpy as np"
   ],
   "metadata": {
    "collapsed": false,
    "pycharm": {
     "name": "#%%\n"
    }
   }
  },
  {
   "cell_type": "markdown",
   "source": [
    "In this guide, we present you some examples where TimeAtlas can be used.\n",
    "\n",
    "Creating TimeSeries\n",
    "-------------------"
   ],
   "metadata": {
    "collapsed": false,
    "pycharm": {
     "name": "#%% md\n"
    }
   }
  },
  {
   "cell_type": "code",
   "execution_count": 4,
   "metadata": {
    "pycharm": {
     "name": "#%%\n"
    }
   },
   "outputs": [],
   "source": [
    "values = np.random.randn(100)\n",
    "values.ravel()[np.random.choice(values.size, 10, replace=False)] = np.nan\n",
    "\n",
    "ts1 = ta.TimeSeries.create('2019-03-01', '2019-06-08', freq='1D')\n",
    "ts1 = ts1.fill(values)\n",
    "\n",
    "values = np.random.randn(60)\n",
    "values.ravel()[np.random.choice(values.size, 10, replace=False)] = np.nan\n",
    "\n",
    "ts2 = ta.TimeSeries.create('2020-03-01', '2020-04-29', freq='1D')\n",
    "ts2 = ts2.fill(values)\n"
   ]
  },
  {
   "cell_type": "markdown",
   "source": [
    "Dealing with different length of TimeSeries\n",
    "-------------------------------------------\n",
    "\n",
    "There the possibility of padding the TimeSeries.\n",
    "It will pad it with np.nan until the given timestamp"
   ],
   "metadata": {
    "collapsed": false,
    "pycharm": {
     "name": "#%% md\n",
     "is_executing": true
    }
   }
  },
  {
   "cell_type": "code",
   "execution_count": 33,
   "outputs": [
    {
     "data": {
      "text/plain": "              values\n2019-06-08       NaN\n2019-06-09       NaN\n2019-06-10       NaN\n2019-06-11       NaN\n2019-06-12       NaN\n...              ...\n2020-04-25  0.596698\n2020-04-26 -0.549478\n2020-04-27 -0.062611\n2020-04-28  0.979095\n2020-04-29 -1.150297\n\n[327 rows x 1 columns]"
     },
     "execution_count": 33,
     "metadata": {},
     "output_type": "execute_result"
    }
   ],
   "source": [
    "ts2_padded = ts2.pad(limit='2019-06-08')\n",
    "ts2_padded"
   ],
   "metadata": {
    "collapsed": false,
    "pycharm": {
     "name": "#%%\n"
    }
   }
  },
  {
   "cell_type": "markdown",
   "source": [
    "It might also be adventitious to remove the np.nan from the left, right or both\n",
    "sides of the TimeSeries."
   ],
   "metadata": {
    "collapsed": false,
    "pycharm": {
     "name": "#%% md\n"
    }
   }
  },
  {
   "cell_type": "code",
   "execution_count": 34,
   "outputs": [
    {
     "data": {
      "text/plain": "              values\n2020-03-01  1.297396\n2020-03-02 -0.026979\n2020-03-03  2.525833\n2020-03-04 -0.907044\n2020-03-05  2.251274\n2020-03-06  0.773656\n2020-03-07       NaN\n2020-03-08  0.127736\n2020-03-09  0.210494\n2020-03-10  0.394397\n2020-03-11       NaN\n2020-03-12 -0.837164\n2020-03-13  1.359918\n2020-03-14  0.606832\n2020-03-15  0.129245\n2020-03-16 -0.796973\n2020-03-17       NaN\n2020-03-18  0.103552\n2020-03-19 -0.047688\n2020-03-20 -0.932393\n2020-03-21 -0.540284\n2020-03-22 -0.468820\n2020-03-23       NaN\n2020-03-24  0.584597\n2020-03-25  0.825047\n2020-03-26  0.669108\n2020-03-27       NaN\n2020-03-28  0.811758\n2020-03-29 -0.971524\n2020-03-30 -1.625764\n2020-03-31  0.478373\n2020-04-01  0.266248\n2020-04-02 -0.120767\n2020-04-03 -1.209642\n2020-04-04 -0.564476\n2020-04-05  0.231693\n2020-04-06  0.316299\n2020-04-07       NaN\n2020-04-08 -0.783829\n2020-04-09 -0.571719\n2020-04-10 -0.102494\n2020-04-11  0.492242\n2020-04-12       NaN\n2020-04-13       NaN\n2020-04-14 -0.175210\n2020-04-15       NaN\n2020-04-16 -0.239909\n2020-04-17 -1.302179\n2020-04-18 -2.026889\n2020-04-19 -0.359681\n2020-04-20  0.959360\n2020-04-21  0.210031\n2020-04-22 -0.536432\n2020-04-23  0.030768\n2020-04-24       NaN\n2020-04-25  0.596698\n2020-04-26 -0.549478\n2020-04-27 -0.062611\n2020-04-28  0.979095\n2020-04-29 -1.150297"
     },
     "execution_count": 34,
     "metadata": {},
     "output_type": "execute_result"
    }
   ],
   "source": [
    "ts_trimmed = ts2_padded.trim(side='both')\n",
    "ts_trimmed"
   ],
   "metadata": {
    "collapsed": false,
    "pycharm": {
     "name": "#%%\n"
    }
   }
  },
  {
   "cell_type": "markdown",
   "source": [
    "Merging TimeSeries\n",
    "------------------\n",
    "\n",
    "Merge two TimeSeries is as easy as baking carrot cake."
   ],
   "metadata": {
    "collapsed": false,
    "pycharm": {
     "name": "#%% md\n"
    }
   }
  },
  {
   "cell_type": "code",
   "execution_count": 35,
   "outputs": [],
   "source": [
    "ts_merged = ts_trimmed.merge(ts1)"
   ],
   "metadata": {
    "collapsed": false,
    "pycharm": {
     "name": "#%%\n"
    }
   }
  },
  {
   "cell_type": "markdown",
   "source": [
    "TimeAtlas (v0.1.1) is not yet taking care of the duplicate indices. This feature\n",
    "might follow in later versions."
   ],
   "metadata": {
    "collapsed": false,
    "pycharm": {
     "name": "#%% md\n"
    }
   }
  },
  {
   "cell_type": "code",
   "execution_count": 36,
   "outputs": [
    {
     "data": {
      "text/plain": "              values\n2019-03-01  1.496622\n2019-03-02 -1.143969\n2019-03-03       NaN\n2019-03-04       NaN\n2019-03-05 -0.196187\n...              ...\n2020-04-25  0.596698\n2020-04-26 -0.549478\n2020-04-27 -0.062611\n2020-04-28  0.979095\n2020-04-29 -1.150297\n\n[160 rows x 1 columns]"
     },
     "execution_count": 36,
     "metadata": {},
     "output_type": "execute_result"
    }
   ],
   "source": [
    "ts_merged"
   ],
   "metadata": {
    "collapsed": false,
    "pycharm": {
     "name": "#%%\n"
    }
   }
  },
  {
   "cell_type": "markdown",
   "source": [
    "Resampling a TimeSeries\n",
    "-----------------------"
   ],
   "metadata": {
    "collapsed": false,
    "pycharm": {
     "name": "#%% md\n"
    }
   }
  },
  {
   "cell_type": "code",
   "execution_count": 65,
   "outputs": [],
   "source": [
    "values = np.random.randn(366 * 24)\n",
    "values.ravel()[np.random.choice(values.size, 70, replace=False)] = np.nan\n",
    "ts3 = ta.TimeSeries.create(\"2020-01-01\", \"2020-12-31 23:00:00\", freq=\"H\")\n",
    "ts3 = ts3.fill(values)"
   ],
   "metadata": {
    "collapsed": false,
    "pycharm": {
     "name": "#%%\n"
    }
   }
  },
  {
   "cell_type": "code",
   "execution_count": 66,
   "outputs": [
    {
     "data": {
      "text/plain": "                       values\n2020-01-01 00:00:00 -0.874376\n2020-01-01 01:00:00 -0.537712\n2020-01-01 02:00:00 -1.487388\n2020-01-01 03:00:00 -0.689474\n2020-01-01 04:00:00  0.148005\n...                       ...\n2020-12-31 19:00:00 -0.071308\n2020-12-31 20:00:00  0.280191\n2020-12-31 21:00:00 -0.378189\n2020-12-31 22:00:00 -1.072594\n2020-12-31 23:00:00 -0.275559\n\n[8784 rows x 1 columns]"
     },
     "execution_count": 66,
     "metadata": {},
     "output_type": "execute_result"
    }
   ],
   "source": [
    "ts3"
   ],
   "metadata": {
    "collapsed": false,
    "pycharm": {
     "name": "#%%\n"
    }
   }
  },
  {
   "cell_type": "code",
   "execution_count": 67,
   "outputs": [],
   "source": [
    "ts3_resample = ts3.resample(freq=\"1D\")"
   ],
   "metadata": {
    "collapsed": false,
    "pycharm": {
     "name": "#%%\n"
    }
   }
  },
  {
   "cell_type": "code",
   "execution_count": 68,
   "outputs": [
    {
     "data": {
      "text/plain": "              values\n2020-01-01 -0.874376\n2020-01-02 -0.418154\n2020-01-03 -1.213908\n2020-01-04 -0.555403\n2020-01-05 -0.630505\n...              ...\n2020-12-27  1.149431\n2020-12-28  1.452904\n2020-12-29  0.439203\n2020-12-30  0.126455\n2020-12-31  1.178389\n\n[366 rows x 1 columns]"
     },
     "execution_count": 68,
     "metadata": {},
     "output_type": "execute_result"
    }
   ],
   "source": [
    "ts3_resample\n"
   ],
   "metadata": {
    "collapsed": false,
    "pycharm": {
     "name": "#%%\n"
    }
   }
  },
  {
   "cell_type": "markdown",
   "source": [
    "Simple statists are included."
   ],
   "metadata": {
    "collapsed": false,
    "pycharm": {
     "name": "#%% md\n"
    }
   }
  },
  {
   "cell_type": "code",
   "execution_count": 70,
   "outputs": [
    {
     "data": {
      "text/plain": "count    363.000000\nmean      -0.019161\nstd        0.995951\nmin       -2.777850\n25%       -0.738260\n50%       -0.038589\n75%        0.751444\nmax        2.111992\nName: values, dtype: float64"
     },
     "execution_count": 70,
     "metadata": {},
     "output_type": "execute_result"
    }
   ],
   "source": [
    "ts3_resample.describe()"
   ],
   "metadata": {
    "collapsed": false,
    "pycharm": {
     "name": "#%%\n"
    }
   }
  }
 ],
 "metadata": {
  "kernelspec": {
   "name": "pycharm-9df7f84f",
   "language": "python",
   "display_name": "PyCharm (timeatlas)"
  },
  "language_info": {
   "codemirror_mode": {
    "name": "ipython",
    "version": 3
   },
   "file_extension": ".py",
   "mimetype": "text/x-python",
   "name": "python",
   "nbconvert_exporter": "python",
   "pygments_lexer": "ipython3",
   "version": "3.8.5"
  }
 },
 "nbformat": 4,
 "nbformat_minor": 1
}