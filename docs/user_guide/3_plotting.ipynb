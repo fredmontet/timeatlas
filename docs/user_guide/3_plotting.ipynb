{
 "cells": [
  {
   "cell_type": "code",
   "execution_count": 7,
   "metadata": {
    "pycharm": {
     "name": "#%% Import\n"
    }
   },
   "outputs": [],
   "source": [
    "import numpy as np\n",
    "\n",
    "import timeatlas as ta\n",
    "from timeatlas.plots.time_series import status_plot, line_plot, kde_plot"
   ]
  },
  {
   "cell_type": "markdown",
   "metadata": {
    "pycharm": {
     "name": "#%% md\n"
    }
   },
   "source": [
    "Plotting Timeatlas\n",
    "==================="
   ]
  },
  {
   "cell_type": "markdown",
   "source": [
    "Plotting TimeSeires\n",
    "-------------------"
   ],
   "metadata": {
    "collapsed": false,
    "pycharm": {
     "name": "#%% md\n"
    }
   }
  },
  {
   "cell_type": "markdown",
   "source": [
    "Timeatlas provides different plotting functions for TimeSeries\n",
    "\n",
    "Per default it creates a `line_plot`"
   ],
   "metadata": {
    "collapsed": false,
    "pycharm": {
     "name": "#%% md\n"
    }
   }
  },
  {
   "cell_type": "code",
   "execution_count": 13,
   "outputs": [],
   "source": [
    "values = np.random.randn(4 * 24)\n",
    "values.ravel()[np.random.choice(values.size, 10, replace=False)] = np.nan\n",
    "ts1 = ta.TimeSeries.create(\"2020-01-01\", \"2020-01-04 23:00:00\", freq=\"H\")\n",
    "ts1 = ts1.fill(values)"
   ],
   "metadata": {
    "collapsed": false,
    "pycharm": {
     "name": "#%%\n"
    }
   }
  },
  {
   "cell_type": "markdown",
   "source": [
    "A classic line plot"
   ],
   "metadata": {
    "collapsed": false,
    "pycharm": {
     "name": "#%% md\n"
    }
   }
  },
  {
   "cell_type": "code",
   "execution_count": 14,
   "outputs": [
    {
     "data": {
      "application/vnd.plotly.v1+json": {
       "config": {
        "plotlyServerURL": "https://plot.ly"
       },
       "data": [
        {
         "name": "values",
         "type": "scatter",
         "x": [
          "2020-01-01T00:00:00",
          "2020-01-01T01:00:00",
          "2020-01-01T02:00:00",
          "2020-01-01T03:00:00",
          "2020-01-01T04:00:00",
          "2020-01-01T05:00:00",
          "2020-01-01T06:00:00",
          "2020-01-01T07:00:00",
          "2020-01-01T08:00:00",
          "2020-01-01T09:00:00",
          "2020-01-01T10:00:00",
          "2020-01-01T11:00:00",
          "2020-01-01T12:00:00",
          "2020-01-01T13:00:00",
          "2020-01-01T14:00:00",
          "2020-01-01T15:00:00",
          "2020-01-01T16:00:00",
          "2020-01-01T17:00:00",
          "2020-01-01T18:00:00",
          "2020-01-01T19:00:00",
          "2020-01-01T20:00:00",
          "2020-01-01T21:00:00",
          "2020-01-01T22:00:00",
          "2020-01-01T23:00:00",
          "2020-01-02T00:00:00",
          "2020-01-02T01:00:00",
          "2020-01-02T02:00:00",
          "2020-01-02T03:00:00",
          "2020-01-02T04:00:00",
          "2020-01-02T05:00:00",
          "2020-01-02T06:00:00",
          "2020-01-02T07:00:00",
          "2020-01-02T08:00:00",
          "2020-01-02T09:00:00",
          "2020-01-02T10:00:00",
          "2020-01-02T11:00:00",
          "2020-01-02T12:00:00",
          "2020-01-02T13:00:00",
          "2020-01-02T14:00:00",
          "2020-01-02T15:00:00",
          "2020-01-02T16:00:00",
          "2020-01-02T17:00:00",
          "2020-01-02T18:00:00",
          "2020-01-02T19:00:00",
          "2020-01-02T20:00:00",
          "2020-01-02T21:00:00",
          "2020-01-02T22:00:00",
          "2020-01-02T23:00:00",
          "2020-01-03T00:00:00",
          "2020-01-03T01:00:00",
          "2020-01-03T02:00:00",
          "2020-01-03T03:00:00",
          "2020-01-03T04:00:00",
          "2020-01-03T05:00:00",
          "2020-01-03T06:00:00",
          "2020-01-03T07:00:00",
          "2020-01-03T08:00:00",
          "2020-01-03T09:00:00",
          "2020-01-03T10:00:00",
          "2020-01-03T11:00:00",
          "2020-01-03T12:00:00",
          "2020-01-03T13:00:00",
          "2020-01-03T14:00:00",
          "2020-01-03T15:00:00",
          "2020-01-03T16:00:00",
          "2020-01-03T17:00:00",
          "2020-01-03T18:00:00",
          "2020-01-03T19:00:00",
          "2020-01-03T20:00:00",
          "2020-01-03T21:00:00",
          "2020-01-03T22:00:00",
          "2020-01-03T23:00:00",
          "2020-01-04T00:00:00",
          "2020-01-04T01:00:00",
          "2020-01-04T02:00:00",
          "2020-01-04T03:00:00",
          "2020-01-04T04:00:00",
          "2020-01-04T05:00:00",
          "2020-01-04T06:00:00",
          "2020-01-04T07:00:00",
          "2020-01-04T08:00:00",
          "2020-01-04T09:00:00",
          "2020-01-04T10:00:00",
          "2020-01-04T11:00:00",
          "2020-01-04T12:00:00",
          "2020-01-04T13:00:00",
          "2020-01-04T14:00:00",
          "2020-01-04T15:00:00",
          "2020-01-04T16:00:00",
          "2020-01-04T17:00:00",
          "2020-01-04T18:00:00",
          "2020-01-04T19:00:00",
          "2020-01-04T20:00:00",
          "2020-01-04T21:00:00",
          "2020-01-04T22:00:00",
          "2020-01-04T23:00:00"
         ],
         "y": [
          null,
          -0.144708838239221,
          0.47888482988652403,
          null,
          -0.6405781074860908,
          -0.7190439029517808,
          -0.28048570908034515,
          0.14149284938445145,
          null,
          0.17200631875257194,
          -0.12612669139287186,
          -1.3420561722989526,
          1.1964087158742844,
          -0.2893572194578032,
          0.7444277944406785,
          -0.11011839557109718,
          -0.8426799498422077,
          null,
          -0.3841099460241098,
          -0.16229297273845283,
          -1.6216001361734569,
          0.9329419269366803,
          null,
          -0.053252381373828046,
          -0.4443361975864591,
          -0.9701802573878905,
          -0.7349669158633361,
          -1.0105149564025364,
          0.41786338616342367,
          -0.24104199305794863,
          -0.4916167079735693,
          1.0448809817563218,
          -0.06859715000045934,
          null,
          2.099696290233329,
          -0.6826502994136198,
          null,
          0.43250933926522367,
          1.4597476412363632,
          -0.42423611256166266,
          0.7122737512585734,
          0.04212740365857318,
          -1.1138691136904508,
          0.8632308289013569,
          -0.03105554009786085,
          1.0634472465901499,
          0.9861723770694689,
          null,
          -0.7202363087973993,
          0.4234499820908985,
          -2.057337962652613,
          -2.007439935811054,
          0.39798119179643,
          -1.3921669822423879,
          null,
          -1.0447960823389892,
          0.5095576453341657,
          null,
          -1.5446209686459824,
          1.419884207208475,
          -1.1306867007466013,
          1.5278605283619962,
          0.014891303524039876,
          0.7205463286458178,
          -0.6179843542566731,
          0.704933629170461,
          0.5109076475022518,
          -0.27388858527238513,
          1.2106586735491802,
          -2.059320764342695,
          -0.5523149157971922,
          -0.11406961500253651,
          -1.2841332033460753,
          1.2229619645965735,
          -2.1638967215785794,
          1.135793094330292,
          1.0724113706929523,
          -0.5348785005336417,
          -0.15190583288753312,
          -0.15771143644367056,
          0.28353215147321637,
          -0.8366775552123841,
          -0.06988152859475807,
          -1.4939552101297855,
          -0.04660803474809567,
          0.0014867704808989423,
          0.12427250762734064,
          -0.47154204058399923,
          0.03555703758335758,
          0.020889171096703952,
          2.1799622047441187,
          -0.23248842722895377,
          -0.01806120162327503,
          0.31015491231353115,
          -1.3242089267706307,
          0.971034769536797
         ]
        }
       ],
       "layout": {
        "showlegend": true,
        "template": {
         "data": {
          "bar": [
           {
            "error_x": {
             "color": "#2a3f5f"
            },
            "error_y": {
             "color": "#2a3f5f"
            },
            "marker": {
             "line": {
              "color": "white",
              "width": 0.5
             }
            },
            "type": "bar"
           }
          ],
          "barpolar": [
           {
            "marker": {
             "line": {
              "color": "white",
              "width": 0.5
             }
            },
            "type": "barpolar"
           }
          ],
          "carpet": [
           {
            "aaxis": {
             "endlinecolor": "#2a3f5f",
             "gridcolor": "#C8D4E3",
             "linecolor": "#C8D4E3",
             "minorgridcolor": "#C8D4E3",
             "startlinecolor": "#2a3f5f"
            },
            "baxis": {
             "endlinecolor": "#2a3f5f",
             "gridcolor": "#C8D4E3",
             "linecolor": "#C8D4E3",
             "minorgridcolor": "#C8D4E3",
             "startlinecolor": "#2a3f5f"
            },
            "type": "carpet"
           }
          ],
          "choropleth": [
           {
            "colorbar": {
             "outlinewidth": 0,
             "ticks": ""
            },
            "type": "choropleth"
           }
          ],
          "contour": [
           {
            "colorbar": {
             "outlinewidth": 0,
             "ticks": ""
            },
            "colorscale": [
             [
              0.0,
              "#0d0887"
             ],
             [
              0.1111111111111111,
              "#46039f"
             ],
             [
              0.2222222222222222,
              "#7201a8"
             ],
             [
              0.3333333333333333,
              "#9c179e"
             ],
             [
              0.4444444444444444,
              "#bd3786"
             ],
             [
              0.5555555555555556,
              "#d8576b"
             ],
             [
              0.6666666666666666,
              "#ed7953"
             ],
             [
              0.7777777777777778,
              "#fb9f3a"
             ],
             [
              0.8888888888888888,
              "#fdca26"
             ],
             [
              1.0,
              "#f0f921"
             ]
            ],
            "type": "contour"
           }
          ],
          "contourcarpet": [
           {
            "colorbar": {
             "outlinewidth": 0,
             "ticks": ""
            },
            "type": "contourcarpet"
           }
          ],
          "heatmap": [
           {
            "colorbar": {
             "outlinewidth": 0,
             "ticks": ""
            },
            "colorscale": [
             [
              0.0,
              "#0d0887"
             ],
             [
              0.1111111111111111,
              "#46039f"
             ],
             [
              0.2222222222222222,
              "#7201a8"
             ],
             [
              0.3333333333333333,
              "#9c179e"
             ],
             [
              0.4444444444444444,
              "#bd3786"
             ],
             [
              0.5555555555555556,
              "#d8576b"
             ],
             [
              0.6666666666666666,
              "#ed7953"
             ],
             [
              0.7777777777777778,
              "#fb9f3a"
             ],
             [
              0.8888888888888888,
              "#fdca26"
             ],
             [
              1.0,
              "#f0f921"
             ]
            ],
            "type": "heatmap"
           }
          ],
          "heatmapgl": [
           {
            "colorbar": {
             "outlinewidth": 0,
             "ticks": ""
            },
            "colorscale": [
             [
              0.0,
              "#0d0887"
             ],
             [
              0.1111111111111111,
              "#46039f"
             ],
             [
              0.2222222222222222,
              "#7201a8"
             ],
             [
              0.3333333333333333,
              "#9c179e"
             ],
             [
              0.4444444444444444,
              "#bd3786"
             ],
             [
              0.5555555555555556,
              "#d8576b"
             ],
             [
              0.6666666666666666,
              "#ed7953"
             ],
             [
              0.7777777777777778,
              "#fb9f3a"
             ],
             [
              0.8888888888888888,
              "#fdca26"
             ],
             [
              1.0,
              "#f0f921"
             ]
            ],
            "type": "heatmapgl"
           }
          ],
          "histogram": [
           {
            "marker": {
             "colorbar": {
              "outlinewidth": 0,
              "ticks": ""
             }
            },
            "type": "histogram"
           }
          ],
          "histogram2d": [
           {
            "colorbar": {
             "outlinewidth": 0,
             "ticks": ""
            },
            "colorscale": [
             [
              0.0,
              "#0d0887"
             ],
             [
              0.1111111111111111,
              "#46039f"
             ],
             [
              0.2222222222222222,
              "#7201a8"
             ],
             [
              0.3333333333333333,
              "#9c179e"
             ],
             [
              0.4444444444444444,
              "#bd3786"
             ],
             [
              0.5555555555555556,
              "#d8576b"
             ],
             [
              0.6666666666666666,
              "#ed7953"
             ],
             [
              0.7777777777777778,
              "#fb9f3a"
             ],
             [
              0.8888888888888888,
              "#fdca26"
             ],
             [
              1.0,
              "#f0f921"
             ]
            ],
            "type": "histogram2d"
           }
          ],
          "histogram2dcontour": [
           {
            "colorbar": {
             "outlinewidth": 0,
             "ticks": ""
            },
            "colorscale": [
             [
              0.0,
              "#0d0887"
             ],
             [
              0.1111111111111111,
              "#46039f"
             ],
             [
              0.2222222222222222,
              "#7201a8"
             ],
             [
              0.3333333333333333,
              "#9c179e"
             ],
             [
              0.4444444444444444,
              "#bd3786"
             ],
             [
              0.5555555555555556,
              "#d8576b"
             ],
             [
              0.6666666666666666,
              "#ed7953"
             ],
             [
              0.7777777777777778,
              "#fb9f3a"
             ],
             [
              0.8888888888888888,
              "#fdca26"
             ],
             [
              1.0,
              "#f0f921"
             ]
            ],
            "type": "histogram2dcontour"
           }
          ],
          "mesh3d": [
           {
            "colorbar": {
             "outlinewidth": 0,
             "ticks": ""
            },
            "type": "mesh3d"
           }
          ],
          "parcoords": [
           {
            "line": {
             "colorbar": {
              "outlinewidth": 0,
              "ticks": ""
             }
            },
            "type": "parcoords"
           }
          ],
          "pie": [
           {
            "automargin": true,
            "type": "pie"
           }
          ],
          "scatter": [
           {
            "marker": {
             "colorbar": {
              "outlinewidth": 0,
              "ticks": ""
             }
            },
            "type": "scatter"
           }
          ],
          "scatter3d": [
           {
            "line": {
             "colorbar": {
              "outlinewidth": 0,
              "ticks": ""
             }
            },
            "marker": {
             "colorbar": {
              "outlinewidth": 0,
              "ticks": ""
             }
            },
            "type": "scatter3d"
           }
          ],
          "scattercarpet": [
           {
            "marker": {
             "colorbar": {
              "outlinewidth": 0,
              "ticks": ""
             }
            },
            "type": "scattercarpet"
           }
          ],
          "scattergeo": [
           {
            "marker": {
             "colorbar": {
              "outlinewidth": 0,
              "ticks": ""
             }
            },
            "type": "scattergeo"
           }
          ],
          "scattergl": [
           {
            "marker": {
             "colorbar": {
              "outlinewidth": 0,
              "ticks": ""
             }
            },
            "type": "scattergl"
           }
          ],
          "scattermapbox": [
           {
            "marker": {
             "colorbar": {
              "outlinewidth": 0,
              "ticks": ""
             }
            },
            "type": "scattermapbox"
           }
          ],
          "scatterpolar": [
           {
            "marker": {
             "colorbar": {
              "outlinewidth": 0,
              "ticks": ""
             }
            },
            "type": "scatterpolar"
           }
          ],
          "scatterpolargl": [
           {
            "marker": {
             "colorbar": {
              "outlinewidth": 0,
              "ticks": ""
             }
            },
            "type": "scatterpolargl"
           }
          ],
          "scatterternary": [
           {
            "marker": {
             "colorbar": {
              "outlinewidth": 0,
              "ticks": ""
             }
            },
            "type": "scatterternary"
           }
          ],
          "surface": [
           {
            "colorbar": {
             "outlinewidth": 0,
             "ticks": ""
            },
            "colorscale": [
             [
              0.0,
              "#0d0887"
             ],
             [
              0.1111111111111111,
              "#46039f"
             ],
             [
              0.2222222222222222,
              "#7201a8"
             ],
             [
              0.3333333333333333,
              "#9c179e"
             ],
             [
              0.4444444444444444,
              "#bd3786"
             ],
             [
              0.5555555555555556,
              "#d8576b"
             ],
             [
              0.6666666666666666,
              "#ed7953"
             ],
             [
              0.7777777777777778,
              "#fb9f3a"
             ],
             [
              0.8888888888888888,
              "#fdca26"
             ],
             [
              1.0,
              "#f0f921"
             ]
            ],
            "type": "surface"
           }
          ],
          "table": [
           {
            "cells": {
             "fill": {
              "color": "#EBF0F8"
             },
             "line": {
              "color": "white"
             }
            },
            "header": {
             "fill": {
              "color": "#C8D4E3"
             },
             "line": {
              "color": "white"
             }
            },
            "type": "table"
           }
          ]
         },
         "layout": {
          "annotationdefaults": {
           "arrowcolor": "#2a3f5f",
           "arrowhead": 0,
           "arrowwidth": 1
          },
          "coloraxis": {
           "colorbar": {
            "outlinewidth": 0,
            "ticks": ""
           }
          },
          "colorscale": {
           "diverging": [
            [
             0,
             "#8e0152"
            ],
            [
             0.1,
             "#c51b7d"
            ],
            [
             0.2,
             "#de77ae"
            ],
            [
             0.3,
             "#f1b6da"
            ],
            [
             0.4,
             "#fde0ef"
            ],
            [
             0.5,
             "#f7f7f7"
            ],
            [
             0.6,
             "#e6f5d0"
            ],
            [
             0.7,
             "#b8e186"
            ],
            [
             0.8,
             "#7fbc41"
            ],
            [
             0.9,
             "#4d9221"
            ],
            [
             1,
             "#276419"
            ]
           ],
           "sequential": [
            [
             0.0,
             "#0d0887"
            ],
            [
             0.1111111111111111,
             "#46039f"
            ],
            [
             0.2222222222222222,
             "#7201a8"
            ],
            [
             0.3333333333333333,
             "#9c179e"
            ],
            [
             0.4444444444444444,
             "#bd3786"
            ],
            [
             0.5555555555555556,
             "#d8576b"
            ],
            [
             0.6666666666666666,
             "#ed7953"
            ],
            [
             0.7777777777777778,
             "#fb9f3a"
            ],
            [
             0.8888888888888888,
             "#fdca26"
            ],
            [
             1.0,
             "#f0f921"
            ]
           ],
           "sequentialminus": [
            [
             0.0,
             "#0d0887"
            ],
            [
             0.1111111111111111,
             "#46039f"
            ],
            [
             0.2222222222222222,
             "#7201a8"
            ],
            [
             0.3333333333333333,
             "#9c179e"
            ],
            [
             0.4444444444444444,
             "#bd3786"
            ],
            [
             0.5555555555555556,
             "#d8576b"
            ],
            [
             0.6666666666666666,
             "#ed7953"
            ],
            [
             0.7777777777777778,
             "#fb9f3a"
            ],
            [
             0.8888888888888888,
             "#fdca26"
            ],
            [
             1.0,
             "#f0f921"
            ]
           ]
          },
          "colorway": [
           "#636efa",
           "#EF553B",
           "#00cc96",
           "#ab63fa",
           "#FFA15A",
           "#19d3f3",
           "#FF6692",
           "#B6E880",
           "#FF97FF",
           "#FECB52"
          ],
          "font": {
           "color": "#2a3f5f"
          },
          "geo": {
           "bgcolor": "white",
           "lakecolor": "white",
           "landcolor": "white",
           "showlakes": true,
           "showland": true,
           "subunitcolor": "#C8D4E3"
          },
          "hoverlabel": {
           "align": "left"
          },
          "hovermode": "closest",
          "mapbox": {
           "style": "light"
          },
          "paper_bgcolor": "white",
          "plot_bgcolor": "white",
          "polar": {
           "angularaxis": {
            "gridcolor": "#EBF0F8",
            "linecolor": "#EBF0F8",
            "ticks": ""
           },
           "bgcolor": "white",
           "radialaxis": {
            "gridcolor": "#EBF0F8",
            "linecolor": "#EBF0F8",
            "ticks": ""
           }
          },
          "scene": {
           "xaxis": {
            "backgroundcolor": "white",
            "gridcolor": "#DFE8F3",
            "gridwidth": 2,
            "linecolor": "#EBF0F8",
            "showbackground": true,
            "ticks": "",
            "zerolinecolor": "#EBF0F8"
           },
           "yaxis": {
            "backgroundcolor": "white",
            "gridcolor": "#DFE8F3",
            "gridwidth": 2,
            "linecolor": "#EBF0F8",
            "showbackground": true,
            "ticks": "",
            "zerolinecolor": "#EBF0F8"
           },
           "zaxis": {
            "backgroundcolor": "white",
            "gridcolor": "#DFE8F3",
            "gridwidth": 2,
            "linecolor": "#EBF0F8",
            "showbackground": true,
            "ticks": "",
            "zerolinecolor": "#EBF0F8"
           }
          },
          "shapedefaults": {
           "line": {
            "color": "#2a3f5f"
           }
          },
          "ternary": {
           "aaxis": {
            "gridcolor": "#DFE8F3",
            "linecolor": "#A2B1C6",
            "ticks": ""
           },
           "baxis": {
            "gridcolor": "#DFE8F3",
            "linecolor": "#A2B1C6",
            "ticks": ""
           },
           "bgcolor": "white",
           "caxis": {
            "gridcolor": "#DFE8F3",
            "linecolor": "#A2B1C6",
            "ticks": ""
           }
          },
          "title": {
           "x": 0.05
          },
          "xaxis": {
           "automargin": true,
           "gridcolor": "#EBF0F8",
           "linecolor": "#EBF0F8",
           "ticks": "",
           "title": {
            "standoff": 15
           },
           "zerolinecolor": "#EBF0F8",
           "zerolinewidth": 2
          },
          "yaxis": {
           "automargin": true,
           "gridcolor": "#EBF0F8",
           "linecolor": "#EBF0F8",
           "ticks": "",
           "title": {
            "standoff": 15
           },
           "zerolinecolor": "#EBF0F8",
           "zerolinewidth": 2
          }
         }
        }
       }
      },
      "text/html": "<div>                            <div id=\"6ba73466-d9e1-4128-8fea-95430b3af8a0\" class=\"plotly-graph-div\" style=\"height:525px; width:100%;\"></div>            <script type=\"text/javascript\">                require([\"plotly\"], function(Plotly) {                    window.PLOTLYENV=window.PLOTLYENV || {};                                    if (document.getElementById(\"6ba73466-d9e1-4128-8fea-95430b3af8a0\")) {                    Plotly.newPlot(                        \"6ba73466-d9e1-4128-8fea-95430b3af8a0\",                        [{\"name\": \"values\", \"type\": \"scatter\", \"x\": [\"2020-01-01T00:00:00\", \"2020-01-01T01:00:00\", \"2020-01-01T02:00:00\", \"2020-01-01T03:00:00\", \"2020-01-01T04:00:00\", \"2020-01-01T05:00:00\", \"2020-01-01T06:00:00\", \"2020-01-01T07:00:00\", \"2020-01-01T08:00:00\", \"2020-01-01T09:00:00\", \"2020-01-01T10:00:00\", \"2020-01-01T11:00:00\", \"2020-01-01T12:00:00\", \"2020-01-01T13:00:00\", \"2020-01-01T14:00:00\", \"2020-01-01T15:00:00\", \"2020-01-01T16:00:00\", \"2020-01-01T17:00:00\", \"2020-01-01T18:00:00\", \"2020-01-01T19:00:00\", \"2020-01-01T20:00:00\", \"2020-01-01T21:00:00\", \"2020-01-01T22:00:00\", \"2020-01-01T23:00:00\", \"2020-01-02T00:00:00\", \"2020-01-02T01:00:00\", \"2020-01-02T02:00:00\", \"2020-01-02T03:00:00\", \"2020-01-02T04:00:00\", \"2020-01-02T05:00:00\", \"2020-01-02T06:00:00\", \"2020-01-02T07:00:00\", \"2020-01-02T08:00:00\", \"2020-01-02T09:00:00\", \"2020-01-02T10:00:00\", \"2020-01-02T11:00:00\", \"2020-01-02T12:00:00\", \"2020-01-02T13:00:00\", \"2020-01-02T14:00:00\", \"2020-01-02T15:00:00\", \"2020-01-02T16:00:00\", \"2020-01-02T17:00:00\", \"2020-01-02T18:00:00\", \"2020-01-02T19:00:00\", \"2020-01-02T20:00:00\", \"2020-01-02T21:00:00\", \"2020-01-02T22:00:00\", \"2020-01-02T23:00:00\", \"2020-01-03T00:00:00\", \"2020-01-03T01:00:00\", \"2020-01-03T02:00:00\", \"2020-01-03T03:00:00\", \"2020-01-03T04:00:00\", \"2020-01-03T05:00:00\", \"2020-01-03T06:00:00\", \"2020-01-03T07:00:00\", \"2020-01-03T08:00:00\", \"2020-01-03T09:00:00\", \"2020-01-03T10:00:00\", \"2020-01-03T11:00:00\", \"2020-01-03T12:00:00\", \"2020-01-03T13:00:00\", \"2020-01-03T14:00:00\", \"2020-01-03T15:00:00\", \"2020-01-03T16:00:00\", \"2020-01-03T17:00:00\", \"2020-01-03T18:00:00\", \"2020-01-03T19:00:00\", \"2020-01-03T20:00:00\", \"2020-01-03T21:00:00\", \"2020-01-03T22:00:00\", \"2020-01-03T23:00:00\", \"2020-01-04T00:00:00\", \"2020-01-04T01:00:00\", \"2020-01-04T02:00:00\", \"2020-01-04T03:00:00\", \"2020-01-04T04:00:00\", \"2020-01-04T05:00:00\", \"2020-01-04T06:00:00\", \"2020-01-04T07:00:00\", \"2020-01-04T08:00:00\", \"2020-01-04T09:00:00\", \"2020-01-04T10:00:00\", \"2020-01-04T11:00:00\", \"2020-01-04T12:00:00\", \"2020-01-04T13:00:00\", \"2020-01-04T14:00:00\", \"2020-01-04T15:00:00\", \"2020-01-04T16:00:00\", \"2020-01-04T17:00:00\", \"2020-01-04T18:00:00\", \"2020-01-04T19:00:00\", \"2020-01-04T20:00:00\", \"2020-01-04T21:00:00\", \"2020-01-04T22:00:00\", \"2020-01-04T23:00:00\"], \"y\": [null, -0.144708838239221, 0.47888482988652403, null, -0.6405781074860908, -0.7190439029517808, -0.28048570908034515, 0.14149284938445145, null, 0.17200631875257194, -0.12612669139287186, -1.3420561722989526, 1.1964087158742844, -0.2893572194578032, 0.7444277944406785, -0.11011839557109718, -0.8426799498422077, null, -0.3841099460241098, -0.16229297273845283, -1.6216001361734569, 0.9329419269366803, null, -0.053252381373828046, -0.4443361975864591, -0.9701802573878905, -0.7349669158633361, -1.0105149564025364, 0.41786338616342367, -0.24104199305794863, -0.4916167079735693, 1.0448809817563218, -0.06859715000045934, null, 2.099696290233329, -0.6826502994136198, null, 0.43250933926522367, 1.4597476412363632, -0.42423611256166266, 0.7122737512585734, 0.04212740365857318, -1.1138691136904508, 0.8632308289013569, -0.03105554009786085, 1.0634472465901499, 0.9861723770694689, null, -0.7202363087973993, 0.4234499820908985, -2.057337962652613, -2.007439935811054, 0.39798119179643, -1.3921669822423879, null, -1.0447960823389892, 0.5095576453341657, null, -1.5446209686459824, 1.419884207208475, -1.1306867007466013, 1.5278605283619962, 0.014891303524039876, 0.7205463286458178, -0.6179843542566731, 0.704933629170461, 0.5109076475022518, -0.27388858527238513, 1.2106586735491802, -2.059320764342695, -0.5523149157971922, -0.11406961500253651, -1.2841332033460753, 1.2229619645965735, -2.1638967215785794, 1.135793094330292, 1.0724113706929523, -0.5348785005336417, -0.15190583288753312, -0.15771143644367056, 0.28353215147321637, -0.8366775552123841, -0.06988152859475807, -1.4939552101297855, -0.04660803474809567, 0.0014867704808989423, 0.12427250762734064, -0.47154204058399923, 0.03555703758335758, 0.020889171096703952, 2.1799622047441187, -0.23248842722895377, -0.01806120162327503, 0.31015491231353115, -1.3242089267706307, 0.971034769536797]}],                        {\"showlegend\": true, \"template\": {\"data\": {\"bar\": [{\"error_x\": {\"color\": \"#2a3f5f\"}, \"error_y\": {\"color\": \"#2a3f5f\"}, \"marker\": {\"line\": {\"color\": \"white\", \"width\": 0.5}}, \"type\": \"bar\"}], \"barpolar\": [{\"marker\": {\"line\": {\"color\": \"white\", \"width\": 0.5}}, \"type\": \"barpolar\"}], \"carpet\": [{\"aaxis\": {\"endlinecolor\": \"#2a3f5f\", \"gridcolor\": \"#C8D4E3\", \"linecolor\": \"#C8D4E3\", \"minorgridcolor\": \"#C8D4E3\", \"startlinecolor\": \"#2a3f5f\"}, \"baxis\": {\"endlinecolor\": \"#2a3f5f\", \"gridcolor\": \"#C8D4E3\", \"linecolor\": \"#C8D4E3\", \"minorgridcolor\": \"#C8D4E3\", \"startlinecolor\": \"#2a3f5f\"}, \"type\": \"carpet\"}], \"choropleth\": [{\"colorbar\": {\"outlinewidth\": 0, \"ticks\": \"\"}, \"type\": \"choropleth\"}], \"contour\": [{\"colorbar\": {\"outlinewidth\": 0, \"ticks\": \"\"}, \"colorscale\": [[0.0, \"#0d0887\"], [0.1111111111111111, \"#46039f\"], [0.2222222222222222, \"#7201a8\"], [0.3333333333333333, \"#9c179e\"], [0.4444444444444444, \"#bd3786\"], [0.5555555555555556, \"#d8576b\"], [0.6666666666666666, \"#ed7953\"], [0.7777777777777778, \"#fb9f3a\"], [0.8888888888888888, \"#fdca26\"], [1.0, \"#f0f921\"]], \"type\": \"contour\"}], \"contourcarpet\": [{\"colorbar\": {\"outlinewidth\": 0, \"ticks\": \"\"}, \"type\": \"contourcarpet\"}], \"heatmap\": [{\"colorbar\": {\"outlinewidth\": 0, \"ticks\": \"\"}, \"colorscale\": [[0.0, \"#0d0887\"], [0.1111111111111111, \"#46039f\"], [0.2222222222222222, \"#7201a8\"], [0.3333333333333333, \"#9c179e\"], [0.4444444444444444, \"#bd3786\"], [0.5555555555555556, \"#d8576b\"], [0.6666666666666666, \"#ed7953\"], [0.7777777777777778, \"#fb9f3a\"], [0.8888888888888888, \"#fdca26\"], [1.0, \"#f0f921\"]], \"type\": \"heatmap\"}], \"heatmapgl\": [{\"colorbar\": {\"outlinewidth\": 0, \"ticks\": \"\"}, \"colorscale\": [[0.0, \"#0d0887\"], [0.1111111111111111, \"#46039f\"], [0.2222222222222222, \"#7201a8\"], [0.3333333333333333, \"#9c179e\"], [0.4444444444444444, \"#bd3786\"], [0.5555555555555556, \"#d8576b\"], [0.6666666666666666, \"#ed7953\"], [0.7777777777777778, \"#fb9f3a\"], [0.8888888888888888, \"#fdca26\"], [1.0, \"#f0f921\"]], \"type\": \"heatmapgl\"}], \"histogram\": [{\"marker\": {\"colorbar\": {\"outlinewidth\": 0, \"ticks\": \"\"}}, \"type\": \"histogram\"}], \"histogram2d\": [{\"colorbar\": {\"outlinewidth\": 0, \"ticks\": \"\"}, \"colorscale\": [[0.0, \"#0d0887\"], [0.1111111111111111, \"#46039f\"], [0.2222222222222222, \"#7201a8\"], [0.3333333333333333, \"#9c179e\"], [0.4444444444444444, \"#bd3786\"], [0.5555555555555556, \"#d8576b\"], [0.6666666666666666, \"#ed7953\"], [0.7777777777777778, \"#fb9f3a\"], [0.8888888888888888, \"#fdca26\"], [1.0, \"#f0f921\"]], \"type\": \"histogram2d\"}], \"histogram2dcontour\": [{\"colorbar\": {\"outlinewidth\": 0, \"ticks\": \"\"}, \"colorscale\": [[0.0, \"#0d0887\"], [0.1111111111111111, \"#46039f\"], [0.2222222222222222, \"#7201a8\"], [0.3333333333333333, \"#9c179e\"], [0.4444444444444444, \"#bd3786\"], [0.5555555555555556, \"#d8576b\"], [0.6666666666666666, \"#ed7953\"], [0.7777777777777778, \"#fb9f3a\"], [0.8888888888888888, \"#fdca26\"], [1.0, \"#f0f921\"]], \"type\": \"histogram2dcontour\"}], \"mesh3d\": [{\"colorbar\": {\"outlinewidth\": 0, \"ticks\": \"\"}, \"type\": \"mesh3d\"}], \"parcoords\": [{\"line\": {\"colorbar\": {\"outlinewidth\": 0, \"ticks\": \"\"}}, \"type\": \"parcoords\"}], \"pie\": [{\"automargin\": true, \"type\": \"pie\"}], \"scatter\": [{\"marker\": {\"colorbar\": {\"outlinewidth\": 0, \"ticks\": \"\"}}, \"type\": \"scatter\"}], \"scatter3d\": [{\"line\": {\"colorbar\": {\"outlinewidth\": 0, \"ticks\": \"\"}}, \"marker\": {\"colorbar\": {\"outlinewidth\": 0, \"ticks\": \"\"}}, \"type\": \"scatter3d\"}], \"scattercarpet\": [{\"marker\": {\"colorbar\": {\"outlinewidth\": 0, \"ticks\": \"\"}}, \"type\": \"scattercarpet\"}], \"scattergeo\": [{\"marker\": {\"colorbar\": {\"outlinewidth\": 0, \"ticks\": \"\"}}, \"type\": \"scattergeo\"}], \"scattergl\": [{\"marker\": {\"colorbar\": {\"outlinewidth\": 0, \"ticks\": \"\"}}, \"type\": \"scattergl\"}], \"scattermapbox\": [{\"marker\": {\"colorbar\": {\"outlinewidth\": 0, \"ticks\": \"\"}}, \"type\": \"scattermapbox\"}], \"scatterpolar\": [{\"marker\": {\"colorbar\": {\"outlinewidth\": 0, \"ticks\": \"\"}}, \"type\": \"scatterpolar\"}], \"scatterpolargl\": [{\"marker\": {\"colorbar\": {\"outlinewidth\": 0, \"ticks\": \"\"}}, \"type\": \"scatterpolargl\"}], \"scatterternary\": [{\"marker\": {\"colorbar\": {\"outlinewidth\": 0, \"ticks\": \"\"}}, \"type\": \"scatterternary\"}], \"surface\": [{\"colorbar\": {\"outlinewidth\": 0, \"ticks\": \"\"}, \"colorscale\": [[0.0, \"#0d0887\"], [0.1111111111111111, \"#46039f\"], [0.2222222222222222, \"#7201a8\"], [0.3333333333333333, \"#9c179e\"], [0.4444444444444444, \"#bd3786\"], [0.5555555555555556, \"#d8576b\"], [0.6666666666666666, \"#ed7953\"], [0.7777777777777778, \"#fb9f3a\"], [0.8888888888888888, \"#fdca26\"], [1.0, \"#f0f921\"]], \"type\": \"surface\"}], \"table\": [{\"cells\": {\"fill\": {\"color\": \"#EBF0F8\"}, \"line\": {\"color\": \"white\"}}, \"header\": {\"fill\": {\"color\": \"#C8D4E3\"}, \"line\": {\"color\": \"white\"}}, \"type\": \"table\"}]}, \"layout\": {\"annotationdefaults\": {\"arrowcolor\": \"#2a3f5f\", \"arrowhead\": 0, \"arrowwidth\": 1}, \"coloraxis\": {\"colorbar\": {\"outlinewidth\": 0, \"ticks\": \"\"}}, \"colorscale\": {\"diverging\": [[0, \"#8e0152\"], [0.1, \"#c51b7d\"], [0.2, \"#de77ae\"], [0.3, \"#f1b6da\"], [0.4, \"#fde0ef\"], [0.5, \"#f7f7f7\"], [0.6, \"#e6f5d0\"], [0.7, \"#b8e186\"], [0.8, \"#7fbc41\"], [0.9, \"#4d9221\"], [1, \"#276419\"]], \"sequential\": [[0.0, \"#0d0887\"], [0.1111111111111111, \"#46039f\"], [0.2222222222222222, \"#7201a8\"], [0.3333333333333333, \"#9c179e\"], [0.4444444444444444, \"#bd3786\"], [0.5555555555555556, \"#d8576b\"], [0.6666666666666666, \"#ed7953\"], [0.7777777777777778, \"#fb9f3a\"], [0.8888888888888888, \"#fdca26\"], [1.0, \"#f0f921\"]], \"sequentialminus\": [[0.0, \"#0d0887\"], [0.1111111111111111, \"#46039f\"], [0.2222222222222222, \"#7201a8\"], [0.3333333333333333, \"#9c179e\"], [0.4444444444444444, \"#bd3786\"], [0.5555555555555556, \"#d8576b\"], [0.6666666666666666, \"#ed7953\"], [0.7777777777777778, \"#fb9f3a\"], [0.8888888888888888, \"#fdca26\"], [1.0, \"#f0f921\"]]}, \"colorway\": [\"#636efa\", \"#EF553B\", \"#00cc96\", \"#ab63fa\", \"#FFA15A\", \"#19d3f3\", \"#FF6692\", \"#B6E880\", \"#FF97FF\", \"#FECB52\"], \"font\": {\"color\": \"#2a3f5f\"}, \"geo\": {\"bgcolor\": \"white\", \"lakecolor\": \"white\", \"landcolor\": \"white\", \"showlakes\": true, \"showland\": true, \"subunitcolor\": \"#C8D4E3\"}, \"hoverlabel\": {\"align\": \"left\"}, \"hovermode\": \"closest\", \"mapbox\": {\"style\": \"light\"}, \"paper_bgcolor\": \"white\", \"plot_bgcolor\": \"white\", \"polar\": {\"angularaxis\": {\"gridcolor\": \"#EBF0F8\", \"linecolor\": \"#EBF0F8\", \"ticks\": \"\"}, \"bgcolor\": \"white\", \"radialaxis\": {\"gridcolor\": \"#EBF0F8\", \"linecolor\": \"#EBF0F8\", \"ticks\": \"\"}}, \"scene\": {\"xaxis\": {\"backgroundcolor\": \"white\", \"gridcolor\": \"#DFE8F3\", \"gridwidth\": 2, \"linecolor\": \"#EBF0F8\", \"showbackground\": true, \"ticks\": \"\", \"zerolinecolor\": \"#EBF0F8\"}, \"yaxis\": {\"backgroundcolor\": \"white\", \"gridcolor\": \"#DFE8F3\", \"gridwidth\": 2, \"linecolor\": \"#EBF0F8\", \"showbackground\": true, \"ticks\": \"\", \"zerolinecolor\": \"#EBF0F8\"}, \"zaxis\": {\"backgroundcolor\": \"white\", \"gridcolor\": \"#DFE8F3\", \"gridwidth\": 2, \"linecolor\": \"#EBF0F8\", \"showbackground\": true, \"ticks\": \"\", \"zerolinecolor\": \"#EBF0F8\"}}, \"shapedefaults\": {\"line\": {\"color\": \"#2a3f5f\"}}, \"ternary\": {\"aaxis\": {\"gridcolor\": \"#DFE8F3\", \"linecolor\": \"#A2B1C6\", \"ticks\": \"\"}, \"baxis\": {\"gridcolor\": \"#DFE8F3\", \"linecolor\": \"#A2B1C6\", \"ticks\": \"\"}, \"bgcolor\": \"white\", \"caxis\": {\"gridcolor\": \"#DFE8F3\", \"linecolor\": \"#A2B1C6\", \"ticks\": \"\"}}, \"title\": {\"x\": 0.05}, \"xaxis\": {\"automargin\": true, \"gridcolor\": \"#EBF0F8\", \"linecolor\": \"#EBF0F8\", \"ticks\": \"\", \"title\": {\"standoff\": 15}, \"zerolinecolor\": \"#EBF0F8\", \"zerolinewidth\": 2}, \"yaxis\": {\"automargin\": true, \"gridcolor\": \"#EBF0F8\", \"linecolor\": \"#EBF0F8\", \"ticks\": \"\", \"title\": {\"standoff\": 15}, \"zerolinecolor\": \"#EBF0F8\", \"zerolinewidth\": 2}}}},                        {\"responsive\": true}                    ).then(function(){\n                            \nvar gd = document.getElementById('6ba73466-d9e1-4128-8fea-95430b3af8a0');\nvar x = new MutationObserver(function (mutations, observer) {{\n        var display = window.getComputedStyle(gd).display;\n        if (!display || display === 'none') {{\n            console.log([gd, 'removed!']);\n            Plotly.purge(gd);\n            observer.disconnect();\n        }}\n}});\n\n// Listen for the removal of the full notebook cells\nvar notebookContainer = gd.closest('#notebook-container');\nif (notebookContainer) {{\n    x.observe(notebookContainer, {childList: true});\n}}\n\n// Listen for the clearing of the current output cell\nvar outputEl = gd.closest('.output');\nif (outputEl) {{\n    x.observe(outputEl, {childList: true});\n}}\n\n                        })                };                });            </script>        </div>"
     },
     "metadata": {},
     "output_type": "display_data"
    }
   ],
   "source": [
    "line_plot(ts1)"
   ],
   "metadata": {
    "collapsed": false,
    "pycharm": {
     "name": "#%%\n"
    }
   }
  },
  {
   "cell_type": "markdown",
   "source": [
    "Representing the values in a stauts plot"
   ],
   "metadata": {
    "collapsed": false,
    "pycharm": {
     "name": "#%% md\n"
    }
   }
  },
  {
   "cell_type": "code",
   "execution_count": 15,
   "outputs": [
    {
     "data": {
      "text/plain": "<Figure size 1296x72 with 2 Axes>",
      "image/png": "[encoded data removed]"
     },
     "metadata": {},
     "output_type": "display_data"
    },
    {
     "data": {
      "text/plain": "<AxesSubplot:>"
     },
     "execution_count": 15,
     "metadata": {},
     "output_type": "execute_result"
    }
   ],
   "source": [
    "status_plot(ts1)"
   ],
   "metadata": {
    "collapsed": false,
    "pycharm": {
     "name": "#%%\n"
    }
   }
  },
  {
   "cell_type": "markdown",
   "source": [
    "There are more plots in developments (e.g. `kde_plot`, etc.)"
   ],
   "metadata": {
    "collapsed": false,
    "pycharm": {
     "name": "#%% md\n"
    }
   }
  },
  {
   "cell_type": "markdown",
   "source": [
    "Plotting TimeSeriesDataset\n",
    "--------------------------\n",
    "\n",
    "Same things for TimeSeriesDataset"
   ],
   "metadata": {
    "collapsed": false,
    "pycharm": {
     "name": "#%% md\n"
    }
   }
  },
  {
   "cell_type": "code",
   "source": [
    "import timeatlas.plots.time_series_dataset\n",
    "\n",
    "from timeatlas import TimeSeriesDataset"
   ],
   "metadata": {
    "collapsed": false,
    "pycharm": {
     "name": "#%%\n"
    }
   },
   "execution_count": 21,
   "outputs": []
  },
  {
   "cell_type": "code",
   "execution_count": 22,
   "outputs": [],
   "source": [
    "values = np.random.randn(4 * 24)\n",
    "values.ravel()[np.random.choice(values.size, 10, replace=False)] = np.nan\n",
    "ts2 = ta.TimeSeries.create(\"2020-01-01\", \"2020-01-04 23:00:00\", freq=\"H\")\n",
    "ts2 = ts2.fill(values)\n",
    "\n",
    "tsd = TimeSeriesDataset([ts1, ts2])"
   ],
   "metadata": {
    "collapsed": false,
    "pycharm": {
     "name": "#%%\n"
    }
   }
  },
  {
   "cell_type": "code",
   "execution_count": 23,
   "outputs": [
    {
     "data": {
      "application/vnd.plotly.v1+json": {
       "config": {
        "plotlyServerURL": "https://plot.ly"
       },
       "data": [
        {
         "mode": "lines",
         "type": "scatter",
         "x": [
          "2020-01-01T00:00:00",
          "2020-01-01T01:00:00",
          "2020-01-01T02:00:00",
          "2020-01-01T03:00:00",
          "2020-01-01T04:00:00",
          "2020-01-01T05:00:00",
          "2020-01-01T06:00:00",
          "2020-01-01T07:00:00",
          "2020-01-01T08:00:00",
          "2020-01-01T09:00:00",
          "2020-01-01T10:00:00",
          "2020-01-01T11:00:00",
          "2020-01-01T12:00:00",
          "2020-01-01T13:00:00",
          "2020-01-01T14:00:00",
          "2020-01-01T15:00:00",
          "2020-01-01T16:00:00",
          "2020-01-01T17:00:00",
          "2020-01-01T18:00:00",
          "2020-01-01T19:00:00",
          "2020-01-01T20:00:00",
          "2020-01-01T21:00:00",
          "2020-01-01T22:00:00",
          "2020-01-01T23:00:00",
          "2020-01-02T00:00:00",
          "2020-01-02T01:00:00",
          "2020-01-02T02:00:00",
          "2020-01-02T03:00:00",
          "2020-01-02T04:00:00",
          "2020-01-02T05:00:00",
          "2020-01-02T06:00:00",
          "2020-01-02T07:00:00",
          "2020-01-02T08:00:00",
          "2020-01-02T09:00:00",
          "2020-01-02T10:00:00",
          "2020-01-02T11:00:00",
          "2020-01-02T12:00:00",
          "2020-01-02T13:00:00",
          "2020-01-02T14:00:00",
          "2020-01-02T15:00:00",
          "2020-01-02T16:00:00",
          "2020-01-02T17:00:00",
          "2020-01-02T18:00:00",
          "2020-01-02T19:00:00",
          "2020-01-02T20:00:00",
          "2020-01-02T21:00:00",
          "2020-01-02T22:00:00",
          "2020-01-02T23:00:00",
          "2020-01-03T00:00:00",
          "2020-01-03T01:00:00",
          "2020-01-03T02:00:00",
          "2020-01-03T03:00:00",
          "2020-01-03T04:00:00",
          "2020-01-03T05:00:00",
          "2020-01-03T06:00:00",
          "2020-01-03T07:00:00",
          "2020-01-03T08:00:00",
          "2020-01-03T09:00:00",
          "2020-01-03T10:00:00",
          "2020-01-03T11:00:00",
          "2020-01-03T12:00:00",
          "2020-01-03T13:00:00",
          "2020-01-03T14:00:00",
          "2020-01-03T15:00:00",
          "2020-01-03T16:00:00",
          "2020-01-03T17:00:00",
          "2020-01-03T18:00:00",
          "2020-01-03T19:00:00",
          "2020-01-03T20:00:00",
          "2020-01-03T21:00:00",
          "2020-01-03T22:00:00",
          "2020-01-03T23:00:00",
          "2020-01-04T00:00:00",
          "2020-01-04T01:00:00",
          "2020-01-04T02:00:00",
          "2020-01-04T03:00:00",
          "2020-01-04T04:00:00",
          "2020-01-04T05:00:00",
          "2020-01-04T06:00:00",
          "2020-01-04T07:00:00",
          "2020-01-04T08:00:00",
          "2020-01-04T09:00:00",
          "2020-01-04T10:00:00",
          "2020-01-04T11:00:00",
          "2020-01-04T12:00:00",
          "2020-01-04T13:00:00",
          "2020-01-04T14:00:00",
          "2020-01-04T15:00:00",
          "2020-01-04T16:00:00",
          "2020-01-04T17:00:00",
          "2020-01-04T18:00:00",
          "2020-01-04T19:00:00",
          "2020-01-04T20:00:00",
          "2020-01-04T21:00:00",
          "2020-01-04T22:00:00",
          "2020-01-04T23:00:00"
         ],
         "y": [
          null,
          -0.144708838239221,
          0.47888482988652403,
          null,
          -0.6405781074860908,
          -0.7190439029517808,
          -0.28048570908034515,
          0.14149284938445145,
          null,
          0.17200631875257194,
          -0.12612669139287186,
          -1.3420561722989526,
          1.1964087158742844,
          -0.2893572194578032,
          0.7444277944406785,
          -0.11011839557109718,
          -0.8426799498422077,
          null,
          -0.3841099460241098,
          -0.16229297273845283,
          -1.6216001361734569,
          0.9329419269366803,
          null,
          -0.053252381373828046,
          -0.4443361975864591,
          -0.9701802573878905,
          -0.7349669158633361,
          -1.0105149564025364,
          0.41786338616342367,
          -0.24104199305794863,
          -0.4916167079735693,
          1.0448809817563218,
          -0.06859715000045934,
          null,
          2.099696290233329,
          -0.6826502994136198,
          null,
          0.43250933926522367,
          1.4597476412363632,
          -0.42423611256166266,
          0.7122737512585734,
          0.04212740365857318,
          -1.1138691136904508,
          0.8632308289013569,
          -0.03105554009786085,
          1.0634472465901499,
          0.9861723770694689,
          null,
          -0.7202363087973993,
          0.4234499820908985,
          -2.057337962652613,
          -2.007439935811054,
          0.39798119179643,
          -1.3921669822423879,
          null,
          -1.0447960823389892,
          0.5095576453341657,
          null,
          -1.5446209686459824,
          1.419884207208475,
          -1.1306867007466013,
          1.5278605283619962,
          0.014891303524039876,
          0.7205463286458178,
          -0.6179843542566731,
          0.704933629170461,
          0.5109076475022518,
          -0.27388858527238513,
          1.2106586735491802,
          -2.059320764342695,
          -0.5523149157971922,
          -0.11406961500253651,
          -1.2841332033460753,
          1.2229619645965735,
          -2.1638967215785794,
          1.135793094330292,
          1.0724113706929523,
          -0.5348785005336417,
          -0.15190583288753312,
          -0.15771143644367056,
          0.28353215147321637,
          -0.8366775552123841,
          -0.06988152859475807,
          -1.4939552101297855,
          -0.04660803474809567,
          0.0014867704808989423,
          0.12427250762734064,
          -0.47154204058399923,
          0.03555703758335758,
          0.020889171096703952,
          2.1799622047441187,
          -0.23248842722895377,
          -0.01806120162327503,
          0.31015491231353115,
          -1.3242089267706307,
          0.971034769536797
         ]
        },
        {
         "mode": "lines",
         "type": "scatter",
         "x": [
          "2020-01-01T00:00:00",
          "2020-01-01T01:00:00",
          "2020-01-01T02:00:00",
          "2020-01-01T03:00:00",
          "2020-01-01T04:00:00",
          "2020-01-01T05:00:00",
          "2020-01-01T06:00:00",
          "2020-01-01T07:00:00",
          "2020-01-01T08:00:00",
          "2020-01-01T09:00:00",
          "2020-01-01T10:00:00",
          "2020-01-01T11:00:00",
          "2020-01-01T12:00:00",
          "2020-01-01T13:00:00",
          "2020-01-01T14:00:00",
          "2020-01-01T15:00:00",
          "2020-01-01T16:00:00",
          "2020-01-01T17:00:00",
          "2020-01-01T18:00:00",
          "2020-01-01T19:00:00",
          "2020-01-01T20:00:00",
          "2020-01-01T21:00:00",
          "2020-01-01T22:00:00",
          "2020-01-01T23:00:00",
          "2020-01-02T00:00:00",
          "2020-01-02T01:00:00",
          "2020-01-02T02:00:00",
          "2020-01-02T03:00:00",
          "2020-01-02T04:00:00",
          "2020-01-02T05:00:00",
          "2020-01-02T06:00:00",
          "2020-01-02T07:00:00",
          "2020-01-02T08:00:00",
          "2020-01-02T09:00:00",
          "2020-01-02T10:00:00",
          "2020-01-02T11:00:00",
          "2020-01-02T12:00:00",
          "2020-01-02T13:00:00",
          "2020-01-02T14:00:00",
          "2020-01-02T15:00:00",
          "2020-01-02T16:00:00",
          "2020-01-02T17:00:00",
          "2020-01-02T18:00:00",
          "2020-01-02T19:00:00",
          "2020-01-02T20:00:00",
          "2020-01-02T21:00:00",
          "2020-01-02T22:00:00",
          "2020-01-02T23:00:00",
          "2020-01-03T00:00:00",
          "2020-01-03T01:00:00",
          "2020-01-03T02:00:00",
          "2020-01-03T03:00:00",
          "2020-01-03T04:00:00",
          "2020-01-03T05:00:00",
          "2020-01-03T06:00:00",
          "2020-01-03T07:00:00",
          "2020-01-03T08:00:00",
          "2020-01-03T09:00:00",
          "2020-01-03T10:00:00",
          "2020-01-03T11:00:00",
          "2020-01-03T12:00:00",
          "2020-01-03T13:00:00",
          "2020-01-03T14:00:00",
          "2020-01-03T15:00:00",
          "2020-01-03T16:00:00",
          "2020-01-03T17:00:00",
          "2020-01-03T18:00:00",
          "2020-01-03T19:00:00",
          "2020-01-03T20:00:00",
          "2020-01-03T21:00:00",
          "2020-01-03T22:00:00",
          "2020-01-03T23:00:00",
          "2020-01-04T00:00:00",
          "2020-01-04T01:00:00",
          "2020-01-04T02:00:00",
          "2020-01-04T03:00:00",
          "2020-01-04T04:00:00",
          "2020-01-04T05:00:00",
          "2020-01-04T06:00:00",
          "2020-01-04T07:00:00",
          "2020-01-04T08:00:00",
          "2020-01-04T09:00:00",
          "2020-01-04T10:00:00",
          "2020-01-04T11:00:00",
          "2020-01-04T12:00:00",
          "2020-01-04T13:00:00",
          "2020-01-04T14:00:00",
          "2020-01-04T15:00:00",
          "2020-01-04T16:00:00",
          "2020-01-04T17:00:00",
          "2020-01-04T18:00:00",
          "2020-01-04T19:00:00",
          "2020-01-04T20:00:00",
          "2020-01-04T21:00:00",
          "2020-01-04T22:00:00",
          "2020-01-04T23:00:00"
         ],
         "y": [
          1.0100233231094529,
          -1.5466912593213746,
          2.0450449499999115,
          2.4077060784156887,
          null,
          -1.6982375435150643,
          0.4595557641296236,
          -0.7809866142702685,
          0.08097225989913329,
          0.7877460861811149,
          null,
          -0.09282113463047292,
          1.0757790829266272,
          null,
          -0.4683472680979439,
          null,
          0.42933164777443233,
          -0.12250829914735449,
          -0.23830431852513048,
          0.9204752502175223,
          0.6770406110286983,
          0.729560224318561,
          -1.7701613439273922,
          0.8023644801018833,
          -0.5687504081464335,
          0.2761841567330692,
          0.09451505331284317,
          1.2597954536353149,
          0.6158653574359373,
          -1.1965552462949225,
          null,
          0.0743230360087575,
          1.5846574679647898,
          0.8325596262624516,
          1.0328688323961863,
          0.08529025413994659,
          -1.4710662601385018,
          -0.7528545848978039,
          -0.4961225454017502,
          -0.7078910499163876,
          -0.38976781098786123,
          0.17915549933461633,
          -0.24428762449060287,
          -1.9325202848141734,
          null,
          -0.07358618081988251,
          1.0163315741940873,
          0.7641371336229599,
          1.0373055273019063,
          -0.3945335326524097,
          0.13155739343484207,
          -0.03029351293831717,
          0.28367685847364915,
          0.38333997720832136,
          -0.23650145858321373,
          0.8486090767952619,
          1.1975085327482624,
          -0.4041720593387906,
          null,
          0.7227426894397854,
          -1.7511291843438967,
          0.10187425092031938,
          -1.8385788012437119,
          -2.3539566864717147,
          -1.3409526684595294,
          0.8029326210933343,
          1.5472473313917858,
          1.7304204571782429,
          -0.5691301521083858,
          0.3957796182574617,
          -0.6031598025058581,
          null,
          1.2209011981450515,
          -1.130800246324964,
          -0.7680339697846907,
          null,
          -1.8422934460102005,
          -0.27779880757472836,
          -0.1621289397374316,
          0.6417627508976774,
          0.6022168237098302,
          null,
          -0.2317706688532863,
          -0.5232203450615623,
          -0.9530120166509078,
          0.687814552435912,
          0.18772518595538912,
          0.18072698265084972,
          1.5737628304346154,
          0.3366506084599337,
          -0.4302872114767618,
          -0.7174373585323376,
          0.7490621182831386,
          0.10205322115507139,
          -0.38219623078019516,
          0.3064517677297383
         ]
        }
       ],
       "layout": {
        "template": {
         "data": {
          "bar": [
           {
            "error_x": {
             "color": "#2a3f5f"
            },
            "error_y": {
             "color": "#2a3f5f"
            },
            "marker": {
             "line": {
              "color": "white",
              "width": 0.5
             }
            },
            "type": "bar"
           }
          ],
          "barpolar": [
           {
            "marker": {
             "line": {
              "color": "white",
              "width": 0.5
             }
            },
            "type": "barpolar"
           }
          ],
          "carpet": [
           {
            "aaxis": {
             "endlinecolor": "#2a3f5f",
             "gridcolor": "#C8D4E3",
             "linecolor": "#C8D4E3",
             "minorgridcolor": "#C8D4E3",
             "startlinecolor": "#2a3f5f"
            },
            "baxis": {
             "endlinecolor": "#2a3f5f",
             "gridcolor": "#C8D4E3",
             "linecolor": "#C8D4E3",
             "minorgridcolor": "#C8D4E3",
             "startlinecolor": "#2a3f5f"
            },
            "type": "carpet"
           }
          ],
          "choropleth": [
           {
            "colorbar": {
             "outlinewidth": 0,
             "ticks": ""
            },
            "type": "choropleth"
           }
          ],
          "contour": [
           {
            "colorbar": {
             "outlinewidth": 0,
             "ticks": ""
            },
            "colorscale": [
             [
              0.0,
              "#0d0887"
             ],
             [
              0.1111111111111111,
              "#46039f"
             ],
             [
              0.2222222222222222,
              "#7201a8"
             ],
             [
              0.3333333333333333,
              "#9c179e"
             ],
             [
              0.4444444444444444,
              "#bd3786"
             ],
             [
              0.5555555555555556,
              "#d8576b"
             ],
             [
              0.6666666666666666,
              "#ed7953"
             ],
             [
              0.7777777777777778,
              "#fb9f3a"
             ],
             [
              0.8888888888888888,
              "#fdca26"
             ],
             [
              1.0,
              "#f0f921"
             ]
            ],
            "type": "contour"
           }
          ],
          "contourcarpet": [
           {
            "colorbar": {
             "outlinewidth": 0,
             "ticks": ""
            },
            "type": "contourcarpet"
           }
          ],
          "heatmap": [
           {
            "colorbar": {
             "outlinewidth": 0,
             "ticks": ""
            },
            "colorscale": [
             [
              0.0,
              "#0d0887"
             ],
             [
              0.1111111111111111,
              "#46039f"
             ],
             [
              0.2222222222222222,
              "#7201a8"
             ],
             [
              0.3333333333333333,
              "#9c179e"
             ],
             [
              0.4444444444444444,
              "#bd3786"
             ],
             [
              0.5555555555555556,
              "#d8576b"
             ],
             [
              0.6666666666666666,
              "#ed7953"
             ],
             [
              0.7777777777777778,
              "#fb9f3a"
             ],
             [
              0.8888888888888888,
              "#fdca26"
             ],
             [
              1.0,
              "#f0f921"
             ]
            ],
            "type": "heatmap"
           }
          ],
          "heatmapgl": [
           {
            "colorbar": {
             "outlinewidth": 0,
             "ticks": ""
            },
            "colorscale": [
             [
              0.0,
              "#0d0887"
             ],
             [
              0.1111111111111111,
              "#46039f"
             ],
             [
              0.2222222222222222,
              "#7201a8"
             ],
             [
              0.3333333333333333,
              "#9c179e"
             ],
             [
              0.4444444444444444,
              "#bd3786"
             ],
             [
              0.5555555555555556,
              "#d8576b"
             ],
             [
              0.6666666666666666,
              "#ed7953"
             ],
             [
              0.7777777777777778,
              "#fb9f3a"
             ],
             [
              0.8888888888888888,
              "#fdca26"
             ],
             [
              1.0,
              "#f0f921"
             ]
            ],
            "type": "heatmapgl"
           }
          ],
          "histogram": [
           {
            "marker": {
             "colorbar": {
              "outlinewidth": 0,
              "ticks": ""
             }
            },
            "type": "histogram"
           }
          ],
          "histogram2d": [
           {
            "colorbar": {
             "outlinewidth": 0,
             "ticks": ""
            },
            "colorscale": [
             [
              0.0,
              "#0d0887"
             ],
             [
              0.1111111111111111,
              "#46039f"
             ],
             [
              0.2222222222222222,
              "#7201a8"
             ],
             [
              0.3333333333333333,
              "#9c179e"
             ],
             [
              0.4444444444444444,
              "#bd3786"
             ],
             [
              0.5555555555555556,
              "#d8576b"
             ],
             [
              0.6666666666666666,
              "#ed7953"
             ],
             [
              0.7777777777777778,
              "#fb9f3a"
             ],
             [
              0.8888888888888888,
              "#fdca26"
             ],
             [
              1.0,
              "#f0f921"
             ]
            ],
            "type": "histogram2d"
           }
          ],
          "histogram2dcontour": [
           {
            "colorbar": {
             "outlinewidth": 0,
             "ticks": ""
            },
            "colorscale": [
             [
              0.0,
              "#0d0887"
             ],
             [
              0.1111111111111111,
              "#46039f"
             ],
             [
              0.2222222222222222,
              "#7201a8"
             ],
             [
              0.3333333333333333,
              "#9c179e"
             ],
             [
              0.4444444444444444,
              "#bd3786"
             ],
             [
              0.5555555555555556,
              "#d8576b"
             ],
             [
              0.6666666666666666,
              "#ed7953"
             ],
             [
              0.7777777777777778,
              "#fb9f3a"
             ],
             [
              0.8888888888888888,
              "#fdca26"
             ],
             [
              1.0,
              "#f0f921"
             ]
            ],
            "type": "histogram2dcontour"
           }
          ],
          "mesh3d": [
           {
            "colorbar": {
             "outlinewidth": 0,
             "ticks": ""
            },
            "type": "mesh3d"
           }
          ],
          "parcoords": [
           {
            "line": {
             "colorbar": {
              "outlinewidth": 0,
              "ticks": ""
             }
            },
            "type": "parcoords"
           }
          ],
          "pie": [
           {
            "automargin": true,
            "type": "pie"
           }
          ],
          "scatter": [
           {
            "marker": {
             "colorbar": {
              "outlinewidth": 0,
              "ticks": ""
             }
            },
            "type": "scatter"
           }
          ],
          "scatter3d": [
           {
            "line": {
             "colorbar": {
              "outlinewidth": 0,
              "ticks": ""
             }
            },
            "marker": {
             "colorbar": {
              "outlinewidth": 0,
              "ticks": ""
             }
            },
            "type": "scatter3d"
           }
          ],
          "scattercarpet": [
           {
            "marker": {
             "colorbar": {
              "outlinewidth": 0,
              "ticks": ""
             }
            },
            "type": "scattercarpet"
           }
          ],
          "scattergeo": [
           {
            "marker": {
             "colorbar": {
              "outlinewidth": 0,
              "ticks": ""
             }
            },
            "type": "scattergeo"
           }
          ],
          "scattergl": [
           {
            "marker": {
             "colorbar": {
              "outlinewidth": 0,
              "ticks": ""
             }
            },
            "type": "scattergl"
           }
          ],
          "scattermapbox": [
           {
            "marker": {
             "colorbar": {
              "outlinewidth": 0,
              "ticks": ""
             }
            },
            "type": "scattermapbox"
           }
          ],
          "scatterpolar": [
           {
            "marker": {
             "colorbar": {
              "outlinewidth": 0,
              "ticks": ""
             }
            },
            "type": "scatterpolar"
           }
          ],
          "scatterpolargl": [
           {
            "marker": {
             "colorbar": {
              "outlinewidth": 0,
              "ticks": ""
             }
            },
            "type": "scatterpolargl"
           }
          ],
          "scatterternary": [
           {
            "marker": {
             "colorbar": {
              "outlinewidth": 0,
              "ticks": ""
             }
            },
            "type": "scatterternary"
           }
          ],
          "surface": [
           {
            "colorbar": {
             "outlinewidth": 0,
             "ticks": ""
            },
            "colorscale": [
             [
              0.0,
              "#0d0887"
             ],
             [
              0.1111111111111111,
              "#46039f"
             ],
             [
              0.2222222222222222,
              "#7201a8"
             ],
             [
              0.3333333333333333,
              "#9c179e"
             ],
             [
              0.4444444444444444,
              "#bd3786"
             ],
             [
              0.5555555555555556,
              "#d8576b"
             ],
             [
              0.6666666666666666,
              "#ed7953"
             ],
             [
              0.7777777777777778,
              "#fb9f3a"
             ],
             [
              0.8888888888888888,
              "#fdca26"
             ],
             [
              1.0,
              "#f0f921"
             ]
            ],
            "type": "surface"
           }
          ],
          "table": [
           {
            "cells": {
             "fill": {
              "color": "#EBF0F8"
             },
             "line": {
              "color": "white"
             }
            },
            "header": {
             "fill": {
              "color": "#C8D4E3"
             },
             "line": {
              "color": "white"
             }
            },
            "type": "table"
           }
          ]
         },
         "layout": {
          "annotationdefaults": {
           "arrowcolor": "#2a3f5f",
           "arrowhead": 0,
           "arrowwidth": 1
          },
          "coloraxis": {
           "colorbar": {
            "outlinewidth": 0,
            "ticks": ""
           }
          },
          "colorscale": {
           "diverging": [
            [
             0,
             "#8e0152"
            ],
            [
             0.1,
             "#c51b7d"
            ],
            [
             0.2,
             "#de77ae"
            ],
            [
             0.3,
             "#f1b6da"
            ],
            [
             0.4,
             "#fde0ef"
            ],
            [
             0.5,
             "#f7f7f7"
            ],
            [
             0.6,
             "#e6f5d0"
            ],
            [
             0.7,
             "#b8e186"
            ],
            [
             0.8,
             "#7fbc41"
            ],
            [
             0.9,
             "#4d9221"
            ],
            [
             1,
             "#276419"
            ]
           ],
           "sequential": [
            [
             0.0,
             "#0d0887"
            ],
            [
             0.1111111111111111,
             "#46039f"
            ],
            [
             0.2222222222222222,
             "#7201a8"
            ],
            [
             0.3333333333333333,
             "#9c179e"
            ],
            [
             0.4444444444444444,
             "#bd3786"
            ],
            [
             0.5555555555555556,
             "#d8576b"
            ],
            [
             0.6666666666666666,
             "#ed7953"
            ],
            [
             0.7777777777777778,
             "#fb9f3a"
            ],
            [
             0.8888888888888888,
             "#fdca26"
            ],
            [
             1.0,
             "#f0f921"
            ]
           ],
           "sequentialminus": [
            [
             0.0,
             "#0d0887"
            ],
            [
             0.1111111111111111,
             "#46039f"
            ],
            [
             0.2222222222222222,
             "#7201a8"
            ],
            [
             0.3333333333333333,
             "#9c179e"
            ],
            [
             0.4444444444444444,
             "#bd3786"
            ],
            [
             0.5555555555555556,
             "#d8576b"
            ],
            [
             0.6666666666666666,
             "#ed7953"
            ],
            [
             0.7777777777777778,
             "#fb9f3a"
            ],
            [
             0.8888888888888888,
             "#fdca26"
            ],
            [
             1.0,
             "#f0f921"
            ]
           ]
          },
          "colorway": [
           "#636efa",
           "#EF553B",
           "#00cc96",
           "#ab63fa",
           "#FFA15A",
           "#19d3f3",
           "#FF6692",
           "#B6E880",
           "#FF97FF",
           "#FECB52"
          ],
          "font": {
           "color": "#2a3f5f"
          },
          "geo": {
           "bgcolor": "white",
           "lakecolor": "white",
           "landcolor": "white",
           "showlakes": true,
           "showland": true,
           "subunitcolor": "#C8D4E3"
          },
          "hoverlabel": {
           "align": "left"
          },
          "hovermode": "closest",
          "mapbox": {
           "style": "light"
          },
          "paper_bgcolor": "white",
          "plot_bgcolor": "white",
          "polar": {
           "angularaxis": {
            "gridcolor": "#EBF0F8",
            "linecolor": "#EBF0F8",
            "ticks": ""
           },
           "bgcolor": "white",
           "radialaxis": {
            "gridcolor": "#EBF0F8",
            "linecolor": "#EBF0F8",
            "ticks": ""
           }
          },
          "scene": {
           "xaxis": {
            "backgroundcolor": "white",
            "gridcolor": "#DFE8F3",
            "gridwidth": 2,
            "linecolor": "#EBF0F8",
            "showbackground": true,
            "ticks": "",
            "zerolinecolor": "#EBF0F8"
           },
           "yaxis": {
            "backgroundcolor": "white",
            "gridcolor": "#DFE8F3",
            "gridwidth": 2,
            "linecolor": "#EBF0F8",
            "showbackground": true,
            "ticks": "",
            "zerolinecolor": "#EBF0F8"
           },
           "zaxis": {
            "backgroundcolor": "white",
            "gridcolor": "#DFE8F3",
            "gridwidth": 2,
            "linecolor": "#EBF0F8",
            "showbackground": true,
            "ticks": "",
            "zerolinecolor": "#EBF0F8"
           }
          },
          "shapedefaults": {
           "line": {
            "color": "#2a3f5f"
           }
          },
          "ternary": {
           "aaxis": {
            "gridcolor": "#DFE8F3",
            "linecolor": "#A2B1C6",
            "ticks": ""
           },
           "baxis": {
            "gridcolor": "#DFE8F3",
            "linecolor": "#A2B1C6",
            "ticks": ""
           },
           "bgcolor": "white",
           "caxis": {
            "gridcolor": "#DFE8F3",
            "linecolor": "#A2B1C6",
            "ticks": ""
           }
          },
          "title": {
           "x": 0.05
          },
          "xaxis": {
           "automargin": true,
           "gridcolor": "#EBF0F8",
           "linecolor": "#EBF0F8",
           "ticks": "",
           "title": {
            "standoff": 15
           },
           "zerolinecolor": "#EBF0F8",
           "zerolinewidth": 2
          },
          "yaxis": {
           "automargin": true,
           "gridcolor": "#EBF0F8",
           "linecolor": "#EBF0F8",
           "ticks": "",
           "title": {
            "standoff": 15
           },
           "zerolinecolor": "#EBF0F8",
           "zerolinewidth": 2
          }
         }
        }
       }
      },
      "text/html": "<div>                            <div id=\"1c36f581-58f5-4d42-9af1-9d6d813a2c98\" class=\"plotly-graph-div\" style=\"height:525px; width:100%;\"></div>            <script type=\"text/javascript\">                require([\"plotly\"], function(Plotly) {                    window.PLOTLYENV=window.PLOTLYENV || {};                                    if (document.getElementById(\"1c36f581-58f5-4d42-9af1-9d6d813a2c98\")) {                    Plotly.newPlot(                        \"1c36f581-58f5-4d42-9af1-9d6d813a2c98\",                        [{\"mode\": \"lines\", \"type\": \"scatter\", \"x\": [\"2020-01-01T00:00:00\", \"2020-01-01T01:00:00\", \"2020-01-01T02:00:00\", \"2020-01-01T03:00:00\", \"2020-01-01T04:00:00\", \"2020-01-01T05:00:00\", \"2020-01-01T06:00:00\", \"2020-01-01T07:00:00\", \"2020-01-01T08:00:00\", \"2020-01-01T09:00:00\", \"2020-01-01T10:00:00\", \"2020-01-01T11:00:00\", \"2020-01-01T12:00:00\", \"2020-01-01T13:00:00\", \"2020-01-01T14:00:00\", \"2020-01-01T15:00:00\", \"2020-01-01T16:00:00\", \"2020-01-01T17:00:00\", \"2020-01-01T18:00:00\", \"2020-01-01T19:00:00\", \"2020-01-01T20:00:00\", \"2020-01-01T21:00:00\", \"2020-01-01T22:00:00\", \"2020-01-01T23:00:00\", \"2020-01-02T00:00:00\", \"2020-01-02T01:00:00\", \"2020-01-02T02:00:00\", \"2020-01-02T03:00:00\", \"2020-01-02T04:00:00\", \"2020-01-02T05:00:00\", \"2020-01-02T06:00:00\", \"2020-01-02T07:00:00\", \"2020-01-02T08:00:00\", \"2020-01-02T09:00:00\", \"2020-01-02T10:00:00\", \"2020-01-02T11:00:00\", \"2020-01-02T12:00:00\", \"2020-01-02T13:00:00\", \"2020-01-02T14:00:00\", \"2020-01-02T15:00:00\", \"2020-01-02T16:00:00\", \"2020-01-02T17:00:00\", \"2020-01-02T18:00:00\", \"2020-01-02T19:00:00\", \"2020-01-02T20:00:00\", \"2020-01-02T21:00:00\", \"2020-01-02T22:00:00\", \"2020-01-02T23:00:00\", \"2020-01-03T00:00:00\", \"2020-01-03T01:00:00\", \"2020-01-03T02:00:00\", \"2020-01-03T03:00:00\", \"2020-01-03T04:00:00\", \"2020-01-03T05:00:00\", \"2020-01-03T06:00:00\", \"2020-01-03T07:00:00\", \"2020-01-03T08:00:00\", \"2020-01-03T09:00:00\", \"2020-01-03T10:00:00\", \"2020-01-03T11:00:00\", \"2020-01-03T12:00:00\", \"2020-01-03T13:00:00\", \"2020-01-03T14:00:00\", \"2020-01-03T15:00:00\", \"2020-01-03T16:00:00\", \"2020-01-03T17:00:00\", \"2020-01-03T18:00:00\", \"2020-01-03T19:00:00\", \"2020-01-03T20:00:00\", \"2020-01-03T21:00:00\", \"2020-01-03T22:00:00\", \"2020-01-03T23:00:00\", \"2020-01-04T00:00:00\", \"2020-01-04T01:00:00\", \"2020-01-04T02:00:00\", \"2020-01-04T03:00:00\", \"2020-01-04T04:00:00\", \"2020-01-04T05:00:00\", \"2020-01-04T06:00:00\", \"2020-01-04T07:00:00\", \"2020-01-04T08:00:00\", \"2020-01-04T09:00:00\", \"2020-01-04T10:00:00\", \"2020-01-04T11:00:00\", \"2020-01-04T12:00:00\", \"2020-01-04T13:00:00\", \"2020-01-04T14:00:00\", \"2020-01-04T15:00:00\", \"2020-01-04T16:00:00\", \"2020-01-04T17:00:00\", \"2020-01-04T18:00:00\", \"2020-01-04T19:00:00\", \"2020-01-04T20:00:00\", \"2020-01-04T21:00:00\", \"2020-01-04T22:00:00\", \"2020-01-04T23:00:00\"], \"y\": [null, -0.144708838239221, 0.47888482988652403, null, -0.6405781074860908, -0.7190439029517808, -0.28048570908034515, 0.14149284938445145, null, 0.17200631875257194, -0.12612669139287186, -1.3420561722989526, 1.1964087158742844, -0.2893572194578032, 0.7444277944406785, -0.11011839557109718, -0.8426799498422077, null, -0.3841099460241098, -0.16229297273845283, -1.6216001361734569, 0.9329419269366803, null, -0.053252381373828046, -0.4443361975864591, -0.9701802573878905, -0.7349669158633361, -1.0105149564025364, 0.41786338616342367, -0.24104199305794863, -0.4916167079735693, 1.0448809817563218, -0.06859715000045934, null, 2.099696290233329, -0.6826502994136198, null, 0.43250933926522367, 1.4597476412363632, -0.42423611256166266, 0.7122737512585734, 0.04212740365857318, -1.1138691136904508, 0.8632308289013569, -0.03105554009786085, 1.0634472465901499, 0.9861723770694689, null, -0.7202363087973993, 0.4234499820908985, -2.057337962652613, -2.007439935811054, 0.39798119179643, -1.3921669822423879, null, -1.0447960823389892, 0.5095576453341657, null, -1.5446209686459824, 1.419884207208475, -1.1306867007466013, 1.5278605283619962, 0.014891303524039876, 0.7205463286458178, -0.6179843542566731, 0.704933629170461, 0.5109076475022518, -0.27388858527238513, 1.2106586735491802, -2.059320764342695, -0.5523149157971922, -0.11406961500253651, -1.2841332033460753, 1.2229619645965735, -2.1638967215785794, 1.135793094330292, 1.0724113706929523, -0.5348785005336417, -0.15190583288753312, -0.15771143644367056, 0.28353215147321637, -0.8366775552123841, -0.06988152859475807, -1.4939552101297855, -0.04660803474809567, 0.0014867704808989423, 0.12427250762734064, -0.47154204058399923, 0.03555703758335758, 0.020889171096703952, 2.1799622047441187, -0.23248842722895377, -0.01806120162327503, 0.31015491231353115, -1.3242089267706307, 0.971034769536797]}, {\"mode\": \"lines\", \"type\": \"scatter\", \"x\": [\"2020-01-01T00:00:00\", \"2020-01-01T01:00:00\", \"2020-01-01T02:00:00\", \"2020-01-01T03:00:00\", \"2020-01-01T04:00:00\", \"2020-01-01T05:00:00\", \"2020-01-01T06:00:00\", \"2020-01-01T07:00:00\", \"2020-01-01T08:00:00\", \"2020-01-01T09:00:00\", \"2020-01-01T10:00:00\", \"2020-01-01T11:00:00\", \"2020-01-01T12:00:00\", \"2020-01-01T13:00:00\", \"2020-01-01T14:00:00\", \"2020-01-01T15:00:00\", \"2020-01-01T16:00:00\", \"2020-01-01T17:00:00\", \"2020-01-01T18:00:00\", \"2020-01-01T19:00:00\", \"2020-01-01T20:00:00\", \"2020-01-01T21:00:00\", \"2020-01-01T22:00:00\", \"2020-01-01T23:00:00\", \"2020-01-02T00:00:00\", \"2020-01-02T01:00:00\", \"2020-01-02T02:00:00\", \"2020-01-02T03:00:00\", \"2020-01-02T04:00:00\", \"2020-01-02T05:00:00\", \"2020-01-02T06:00:00\", \"2020-01-02T07:00:00\", \"2020-01-02T08:00:00\", \"2020-01-02T09:00:00\", \"2020-01-02T10:00:00\", \"2020-01-02T11:00:00\", \"2020-01-02T12:00:00\", \"2020-01-02T13:00:00\", \"2020-01-02T14:00:00\", \"2020-01-02T15:00:00\", \"2020-01-02T16:00:00\", \"2020-01-02T17:00:00\", \"2020-01-02T18:00:00\", \"2020-01-02T19:00:00\", \"2020-01-02T20:00:00\", \"2020-01-02T21:00:00\", \"2020-01-02T22:00:00\", \"2020-01-02T23:00:00\", \"2020-01-03T00:00:00\", \"2020-01-03T01:00:00\", \"2020-01-03T02:00:00\", \"2020-01-03T03:00:00\", \"2020-01-03T04:00:00\", \"2020-01-03T05:00:00\", \"2020-01-03T06:00:00\", \"2020-01-03T07:00:00\", \"2020-01-03T08:00:00\", \"2020-01-03T09:00:00\", \"2020-01-03T10:00:00\", \"2020-01-03T11:00:00\", \"2020-01-03T12:00:00\", \"2020-01-03T13:00:00\", \"2020-01-03T14:00:00\", \"2020-01-03T15:00:00\", \"2020-01-03T16:00:00\", \"2020-01-03T17:00:00\", \"2020-01-03T18:00:00\", \"2020-01-03T19:00:00\", \"2020-01-03T20:00:00\", \"2020-01-03T21:00:00\", \"2020-01-03T22:00:00\", \"2020-01-03T23:00:00\", \"2020-01-04T00:00:00\", \"2020-01-04T01:00:00\", \"2020-01-04T02:00:00\", \"2020-01-04T03:00:00\", \"2020-01-04T04:00:00\", \"2020-01-04T05:00:00\", \"2020-01-04T06:00:00\", \"2020-01-04T07:00:00\", \"2020-01-04T08:00:00\", \"2020-01-04T09:00:00\", \"2020-01-04T10:00:00\", \"2020-01-04T11:00:00\", \"2020-01-04T12:00:00\", \"2020-01-04T13:00:00\", \"2020-01-04T14:00:00\", \"2020-01-04T15:00:00\", \"2020-01-04T16:00:00\", \"2020-01-04T17:00:00\", \"2020-01-04T18:00:00\", \"2020-01-04T19:00:00\", \"2020-01-04T20:00:00\", \"2020-01-04T21:00:00\", \"2020-01-04T22:00:00\", \"2020-01-04T23:00:00\"], \"y\": [1.0100233231094529, -1.5466912593213746, 2.0450449499999115, 2.4077060784156887, null, -1.6982375435150643, 0.4595557641296236, -0.7809866142702685, 0.08097225989913329, 0.7877460861811149, null, -0.09282113463047292, 1.0757790829266272, null, -0.4683472680979439, null, 0.42933164777443233, -0.12250829914735449, -0.23830431852513048, 0.9204752502175223, 0.6770406110286983, 0.729560224318561, -1.7701613439273922, 0.8023644801018833, -0.5687504081464335, 0.2761841567330692, 0.09451505331284317, 1.2597954536353149, 0.6158653574359373, -1.1965552462949225, null, 0.0743230360087575, 1.5846574679647898, 0.8325596262624516, 1.0328688323961863, 0.08529025413994659, -1.4710662601385018, -0.7528545848978039, -0.4961225454017502, -0.7078910499163876, -0.38976781098786123, 0.17915549933461633, -0.24428762449060287, -1.9325202848141734, null, -0.07358618081988251, 1.0163315741940873, 0.7641371336229599, 1.0373055273019063, -0.3945335326524097, 0.13155739343484207, -0.03029351293831717, 0.28367685847364915, 0.38333997720832136, -0.23650145858321373, 0.8486090767952619, 1.1975085327482624, -0.4041720593387906, null, 0.7227426894397854, -1.7511291843438967, 0.10187425092031938, -1.8385788012437119, -2.3539566864717147, -1.3409526684595294, 0.8029326210933343, 1.5472473313917858, 1.7304204571782429, -0.5691301521083858, 0.3957796182574617, -0.6031598025058581, null, 1.2209011981450515, -1.130800246324964, -0.7680339697846907, null, -1.8422934460102005, -0.27779880757472836, -0.1621289397374316, 0.6417627508976774, 0.6022168237098302, null, -0.2317706688532863, -0.5232203450615623, -0.9530120166509078, 0.687814552435912, 0.18772518595538912, 0.18072698265084972, 1.5737628304346154, 0.3366506084599337, -0.4302872114767618, -0.7174373585323376, 0.7490621182831386, 0.10205322115507139, -0.38219623078019516, 0.3064517677297383]}],                        {\"template\": {\"data\": {\"bar\": [{\"error_x\": {\"color\": \"#2a3f5f\"}, \"error_y\": {\"color\": \"#2a3f5f\"}, \"marker\": {\"line\": {\"color\": \"white\", \"width\": 0.5}}, \"type\": \"bar\"}], \"barpolar\": [{\"marker\": {\"line\": {\"color\": \"white\", \"width\": 0.5}}, \"type\": \"barpolar\"}], \"carpet\": [{\"aaxis\": {\"endlinecolor\": \"#2a3f5f\", \"gridcolor\": \"#C8D4E3\", \"linecolor\": \"#C8D4E3\", \"minorgridcolor\": \"#C8D4E3\", \"startlinecolor\": \"#2a3f5f\"}, \"baxis\": {\"endlinecolor\": \"#2a3f5f\", \"gridcolor\": \"#C8D4E3\", \"linecolor\": \"#C8D4E3\", \"minorgridcolor\": \"#C8D4E3\", \"startlinecolor\": \"#2a3f5f\"}, \"type\": \"carpet\"}], \"choropleth\": [{\"colorbar\": {\"outlinewidth\": 0, \"ticks\": \"\"}, \"type\": \"choropleth\"}], \"contour\": [{\"colorbar\": {\"outlinewidth\": 0, \"ticks\": \"\"}, \"colorscale\": [[0.0, \"#0d0887\"], [0.1111111111111111, \"#46039f\"], [0.2222222222222222, \"#7201a8\"], [0.3333333333333333, \"#9c179e\"], [0.4444444444444444, \"#bd3786\"], [0.5555555555555556, \"#d8576b\"], [0.6666666666666666, \"#ed7953\"], [0.7777777777777778, \"#fb9f3a\"], [0.8888888888888888, \"#fdca26\"], [1.0, \"#f0f921\"]], \"type\": \"contour\"}], \"contourcarpet\": [{\"colorbar\": {\"outlinewidth\": 0, \"ticks\": \"\"}, \"type\": \"contourcarpet\"}], \"heatmap\": [{\"colorbar\": {\"outlinewidth\": 0, \"ticks\": \"\"}, \"colorscale\": [[0.0, \"#0d0887\"], [0.1111111111111111, \"#46039f\"], [0.2222222222222222, \"#7201a8\"], [0.3333333333333333, \"#9c179e\"], [0.4444444444444444, \"#bd3786\"], [0.5555555555555556, \"#d8576b\"], [0.6666666666666666, \"#ed7953\"], [0.7777777777777778, \"#fb9f3a\"], [0.8888888888888888, \"#fdca26\"], [1.0, \"#f0f921\"]], \"type\": \"heatmap\"}], \"heatmapgl\": [{\"colorbar\": {\"outlinewidth\": 0, \"ticks\": \"\"}, \"colorscale\": [[0.0, \"#0d0887\"], [0.1111111111111111, \"#46039f\"], [0.2222222222222222, \"#7201a8\"], [0.3333333333333333, \"#9c179e\"], [0.4444444444444444, \"#bd3786\"], [0.5555555555555556, \"#d8576b\"], [0.6666666666666666, \"#ed7953\"], [0.7777777777777778, \"#fb9f3a\"], [0.8888888888888888, \"#fdca26\"], [1.0, \"#f0f921\"]], \"type\": \"heatmapgl\"}], \"histogram\": [{\"marker\": {\"colorbar\": {\"outlinewidth\": 0, \"ticks\": \"\"}}, \"type\": \"histogram\"}], \"histogram2d\": [{\"colorbar\": {\"outlinewidth\": 0, \"ticks\": \"\"}, \"colorscale\": [[0.0, \"#0d0887\"], [0.1111111111111111, \"#46039f\"], [0.2222222222222222, \"#7201a8\"], [0.3333333333333333, \"#9c179e\"], [0.4444444444444444, \"#bd3786\"], [0.5555555555555556, \"#d8576b\"], [0.6666666666666666, \"#ed7953\"], [0.7777777777777778, \"#fb9f3a\"], [0.8888888888888888, \"#fdca26\"], [1.0, \"#f0f921\"]], \"type\": \"histogram2d\"}], \"histogram2dcontour\": [{\"colorbar\": {\"outlinewidth\": 0, \"ticks\": \"\"}, \"colorscale\": [[0.0, \"#0d0887\"], [0.1111111111111111, \"#46039f\"], [0.2222222222222222, \"#7201a8\"], [0.3333333333333333, \"#9c179e\"], [0.4444444444444444, \"#bd3786\"], [0.5555555555555556, \"#d8576b\"], [0.6666666666666666, \"#ed7953\"], [0.7777777777777778, \"#fb9f3a\"], [0.8888888888888888, \"#fdca26\"], [1.0, \"#f0f921\"]], \"type\": \"histogram2dcontour\"}], \"mesh3d\": [{\"colorbar\": {\"outlinewidth\": 0, \"ticks\": \"\"}, \"type\": \"mesh3d\"}], \"parcoords\": [{\"line\": {\"colorbar\": {\"outlinewidth\": 0, \"ticks\": \"\"}}, \"type\": \"parcoords\"}], \"pie\": [{\"automargin\": true, \"type\": \"pie\"}], \"scatter\": [{\"marker\": {\"colorbar\": {\"outlinewidth\": 0, \"ticks\": \"\"}}, \"type\": \"scatter\"}], \"scatter3d\": [{\"line\": {\"colorbar\": {\"outlinewidth\": 0, \"ticks\": \"\"}}, \"marker\": {\"colorbar\": {\"outlinewidth\": 0, \"ticks\": \"\"}}, \"type\": \"scatter3d\"}], \"scattercarpet\": [{\"marker\": {\"colorbar\": {\"outlinewidth\": 0, \"ticks\": \"\"}}, \"type\": \"scattercarpet\"}], \"scattergeo\": [{\"marker\": {\"colorbar\": {\"outlinewidth\": 0, \"ticks\": \"\"}}, \"type\": \"scattergeo\"}], \"scattergl\": [{\"marker\": {\"colorbar\": {\"outlinewidth\": 0, \"ticks\": \"\"}}, \"type\": \"scattergl\"}], \"scattermapbox\": [{\"marker\": {\"colorbar\": {\"outlinewidth\": 0, \"ticks\": \"\"}}, \"type\": \"scattermapbox\"}], \"scatterpolar\": [{\"marker\": {\"colorbar\": {\"outlinewidth\": 0, \"ticks\": \"\"}}, \"type\": \"scatterpolar\"}], \"scatterpolargl\": [{\"marker\": {\"colorbar\": {\"outlinewidth\": 0, \"ticks\": \"\"}}, \"type\": \"scatterpolargl\"}], \"scatterternary\": [{\"marker\": {\"colorbar\": {\"outlinewidth\": 0, \"ticks\": \"\"}}, \"type\": \"scatterternary\"}], \"surface\": [{\"colorbar\": {\"outlinewidth\": 0, \"ticks\": \"\"}, \"colorscale\": [[0.0, \"#0d0887\"], [0.1111111111111111, \"#46039f\"], [0.2222222222222222, \"#7201a8\"], [0.3333333333333333, \"#9c179e\"], [0.4444444444444444, \"#bd3786\"], [0.5555555555555556, \"#d8576b\"], [0.6666666666666666, \"#ed7953\"], [0.7777777777777778, \"#fb9f3a\"], [0.8888888888888888, \"#fdca26\"], [1.0, \"#f0f921\"]], \"type\": \"surface\"}], \"table\": [{\"cells\": {\"fill\": {\"color\": \"#EBF0F8\"}, \"line\": {\"color\": \"white\"}}, \"header\": {\"fill\": {\"color\": \"#C8D4E3\"}, \"line\": {\"color\": \"white\"}}, \"type\": \"table\"}]}, \"layout\": {\"annotationdefaults\": {\"arrowcolor\": \"#2a3f5f\", \"arrowhead\": 0, \"arrowwidth\": 1}, \"coloraxis\": {\"colorbar\": {\"outlinewidth\": 0, \"ticks\": \"\"}}, \"colorscale\": {\"diverging\": [[0, \"#8e0152\"], [0.1, \"#c51b7d\"], [0.2, \"#de77ae\"], [0.3, \"#f1b6da\"], [0.4, \"#fde0ef\"], [0.5, \"#f7f7f7\"], [0.6, \"#e6f5d0\"], [0.7, \"#b8e186\"], [0.8, \"#7fbc41\"], [0.9, \"#4d9221\"], [1, \"#276419\"]], \"sequential\": [[0.0, \"#0d0887\"], [0.1111111111111111, \"#46039f\"], [0.2222222222222222, \"#7201a8\"], [0.3333333333333333, \"#9c179e\"], [0.4444444444444444, \"#bd3786\"], [0.5555555555555556, \"#d8576b\"], [0.6666666666666666, \"#ed7953\"], [0.7777777777777778, \"#fb9f3a\"], [0.8888888888888888, \"#fdca26\"], [1.0, \"#f0f921\"]], \"sequentialminus\": [[0.0, \"#0d0887\"], [0.1111111111111111, \"#46039f\"], [0.2222222222222222, \"#7201a8\"], [0.3333333333333333, \"#9c179e\"], [0.4444444444444444, \"#bd3786\"], [0.5555555555555556, \"#d8576b\"], [0.6666666666666666, \"#ed7953\"], [0.7777777777777778, \"#fb9f3a\"], [0.8888888888888888, \"#fdca26\"], [1.0, \"#f0f921\"]]}, \"colorway\": [\"#636efa\", \"#EF553B\", \"#00cc96\", \"#ab63fa\", \"#FFA15A\", \"#19d3f3\", \"#FF6692\", \"#B6E880\", \"#FF97FF\", \"#FECB52\"], \"font\": {\"color\": \"#2a3f5f\"}, \"geo\": {\"bgcolor\": \"white\", \"lakecolor\": \"white\", \"landcolor\": \"white\", \"showlakes\": true, \"showland\": true, \"subunitcolor\": \"#C8D4E3\"}, \"hoverlabel\": {\"align\": \"left\"}, \"hovermode\": \"closest\", \"mapbox\": {\"style\": \"light\"}, \"paper_bgcolor\": \"white\", \"plot_bgcolor\": \"white\", \"polar\": {\"angularaxis\": {\"gridcolor\": \"#EBF0F8\", \"linecolor\": \"#EBF0F8\", \"ticks\": \"\"}, \"bgcolor\": \"white\", \"radialaxis\": {\"gridcolor\": \"#EBF0F8\", \"linecolor\": \"#EBF0F8\", \"ticks\": \"\"}}, \"scene\": {\"xaxis\": {\"backgroundcolor\": \"white\", \"gridcolor\": \"#DFE8F3\", \"gridwidth\": 2, \"linecolor\": \"#EBF0F8\", \"showbackground\": true, \"ticks\": \"\", \"zerolinecolor\": \"#EBF0F8\"}, \"yaxis\": {\"backgroundcolor\": \"white\", \"gridcolor\": \"#DFE8F3\", \"gridwidth\": 2, \"linecolor\": \"#EBF0F8\", \"showbackground\": true, \"ticks\": \"\", \"zerolinecolor\": \"#EBF0F8\"}, \"zaxis\": {\"backgroundcolor\": \"white\", \"gridcolor\": \"#DFE8F3\", \"gridwidth\": 2, \"linecolor\": \"#EBF0F8\", \"showbackground\": true, \"ticks\": \"\", \"zerolinecolor\": \"#EBF0F8\"}}, \"shapedefaults\": {\"line\": {\"color\": \"#2a3f5f\"}}, \"ternary\": {\"aaxis\": {\"gridcolor\": \"#DFE8F3\", \"linecolor\": \"#A2B1C6\", \"ticks\": \"\"}, \"baxis\": {\"gridcolor\": \"#DFE8F3\", \"linecolor\": \"#A2B1C6\", \"ticks\": \"\"}, \"bgcolor\": \"white\", \"caxis\": {\"gridcolor\": \"#DFE8F3\", \"linecolor\": \"#A2B1C6\", \"ticks\": \"\"}}, \"title\": {\"x\": 0.05}, \"xaxis\": {\"automargin\": true, \"gridcolor\": \"#EBF0F8\", \"linecolor\": \"#EBF0F8\", \"ticks\": \"\", \"title\": {\"standoff\": 15}, \"zerolinecolor\": \"#EBF0F8\", \"zerolinewidth\": 2}, \"yaxis\": {\"automargin\": true, \"gridcolor\": \"#EBF0F8\", \"linecolor\": \"#EBF0F8\", \"ticks\": \"\", \"title\": {\"standoff\": 15}, \"zerolinecolor\": \"#EBF0F8\", \"zerolinewidth\": 2}}}},                        {\"responsive\": true}                    ).then(function(){\n                            \nvar gd = document.getElementById('1c36f581-58f5-4d42-9af1-9d6d813a2c98');\nvar x = new MutationObserver(function (mutations, observer) {{\n        var display = window.getComputedStyle(gd).display;\n        if (!display || display === 'none') {{\n            console.log([gd, 'removed!']);\n            Plotly.purge(gd);\n            observer.disconnect();\n        }}\n}});\n\n// Listen for the removal of the full notebook cells\nvar notebookContainer = gd.closest('#notebook-container');\nif (notebookContainer) {{\n    x.observe(notebookContainer, {childList: true});\n}}\n\n// Listen for the clearing of the current output cell\nvar outputEl = gd.closest('.output');\nif (outputEl) {{\n    x.observe(outputEl, {childList: true});\n}}\n\n                        })                };                });            </script>        </div>"
     },
     "metadata": {},
     "output_type": "display_data"
    }
   ],
   "source": [
    "tsd.plot()"
   ],
   "metadata": {
    "collapsed": false,
    "pycharm": {
     "name": "#%%\n"
    }
   }
  }
 ],
 "metadata": {
  "kernelspec": {
   "name": "pycharm-9df7f84f",
   "language": "python",
   "display_name": "PyCharm (timeatlas)"
  },
  "language_info": {
   "codemirror_mode": {
    "name": "ipython",
    "version": 3
   },
   "file_extension": ".py",
   "mimetype": "text/x-python",
   "name": "python",
   "nbconvert_exporter": "python",
   "pygments_lexer": "ipython3",
   "version": "3.7.7"
  },
  "latex_envs": {
   "LaTeX_envs_menu_present": true,
   "autoclose": false,
   "autocomplete": true,
   "bibliofile": "biblio.bib",
   "cite_by": "apalike",
   "current_citInitial": 1,
   "eqLabelWithNumbers": true,
   "eqNumInitial": 1,
   "hotkeys": {
    "equation": "Ctrl-E",
    "itemize": "Ctrl-I"
   },
   "labels_anchors": false,
   "latex_user_defs": false,
   "report_style_numbering": false,
   "user_envs_cfg": false
  }
 },
 "nbformat": 4,
 "nbformat_minor": 1
}