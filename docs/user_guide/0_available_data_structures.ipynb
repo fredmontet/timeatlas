{
 "cells": [
  {
   "cell_type": "markdown",
   "metadata": {
    "pycharm": {
     "name": "#%% md\n"
    }
   },
   "source": [
    "Available Data Structures\n",
    "========================="
   ]
  },
  {
   "cell_type": "code",
   "execution_count": 2,
   "outputs": [],
   "source": [
    "import timeatlas as ta\n",
    "import pandas as pd"
   ],
   "metadata": {
    "collapsed": false,
    "pycharm": {
     "name": "#%%\n"
    }
   }
  },
  {
   "cell_type": "markdown",
   "source": [
    "TimeSeries\n",
    "----------\n",
    "\n",
    "> A time series is a series of data points indexed (or listed or graphed)\n",
    "> in time order. Most commonly, a time series is a sequence taken at successive\n",
    "> equally spaced points in time. - [Wikipedia](https://en.wikipedia.org/wiki/Time_series)\n",
    "\n",
    "In TimeAtlas, a time series is based on a Pandas DataFrame with a DatetimeIndex.\n",
    "There are multiple ways to create a TimeSeries directly in a notebook. For\n",
    "instance, directly with the objects :\n",
    "\n",
    "1. Create an DatetimeIndex\n",
    "2. Create the DataFrame\n",
    "3. Build the TimeSeries"
   ],
   "metadata": {
    "collapsed": false,
    "pycharm": {
     "name": "#%% md\n"
    }
   }
  },
  {
   "cell_type": "code",
   "execution_count": 3,
   "metadata": {
    "pycharm": {
     "name": "#%%\n"
    }
   },
   "outputs": [
    {
     "data": {
      "text/plain": "            values\n2019-01-01     0.4\n2019-01-02     1.0\n2019-01-03     0.7\n2019-01-04     0.6"
     },
     "execution_count": 3,
     "metadata": {},
     "output_type": "execute_result"
    }
   ],
   "source": [
    "index = pd.DatetimeIndex(['2019-01-01', '2019-01-02', '2019-01-03', '2019-01-04'])\n",
    "my_series = pd.DataFrame([0.4, 1.0, 0.7, 0.6], index=index)\n",
    "ts = ta.TimeSeries(my_series)\n",
    "ts"
   ]
  },
  {
   "cell_type": "markdown",
   "metadata": {
    "pycharm": {
     "name": "#%% md\n"
    }
   },
   "source": [
    "With `TimeSeries.create()` :\n",
    "\n",
    "1. Create the empty TimeSeries, by specifying start, end and the frequency\n",
    "2. Add values\n",
    "\n",
    ".. warning::\n",
    "    A TimeSeries in TimeAtlas is immutable."
   ]
  },
  {
   "cell_type": "code",
   "execution_count": 4,
   "metadata": {
    "pycharm": {
     "name": "#%%\n"
    }
   },
   "outputs": [
    {
     "data": {
      "text/plain": "            values\n2019-01-01     0.4\n2019-01-02     1.0\n2019-01-03     0.7\n2019-01-04     0.6"
     },
     "execution_count": 4,
     "metadata": {},
     "output_type": "execute_result"
    }
   ],
   "source": [
    "ts = ta.TimeSeries.create('2019-01-01', '2019-01-04', freq='1D')\n",
    "ts = ts.fill([0.4, 1.0, 0.7, 0.6])\n",
    "ts"
   ]
  },
  {
   "cell_type": "markdown",
   "metadata": {
    "pycharm": {
     "name": "#%% md\n"
    }
   },
   "source": [
    "Metadata\n",
    "--------\n",
    "\n",
    "Usually there are some important data that we would like to keep close\n",
    "the TimeSeries but are not directly part of the values of the TimeSeries.\n",
    "\n",
    "TimeAtlas has an object Metadata, where we can store these additional data.\n",
    "You can whatever data you feel is important to you by providing a dictionary."
   ]
  },
  {
   "cell_type": "code",
   "execution_count": 5,
   "metadata": {
    "pycharm": {
     "name": "#%%\n"
    }
   },
   "outputs": [
    {
     "data": {
      "text/plain": "{'Name': 'Test', 'Year': 2019, 'Nested': {1: 'test', 2: 'test', 3: 'test'}}"
     },
     "execution_count": 5,
     "metadata": {},
     "output_type": "execute_result"
    }
   ],
   "source": [
    "items = {'Name': \"Test\",\n",
    "         \"Year\": 2019,\n",
    "         \"Nested\": {1: \"test\",\n",
    "                    2: \"test\",\n",
    "                    3: \"test\",}}\n",
    "\n",
    "metadata = ta.Metadata(items=items)\n",
    "metadata"
   ]
  },
  {
   "cell_type": "markdown",
   "metadata": {
    "pycharm": {
     "name": "#%% md\n"
    }
   },
   "source": [
    "There are also some predefined information that might come in handy:\n",
    "\n",
    "- `Unit` : unit of the data in the TimeSeries\n",
    "- `Sensor` : Name of the sensor recording the data\n",
    "- `Coords` : coordinates/location, where the data is recorded"
   ]
  },
  {
   "cell_type": "code",
   "execution_count": 6,
   "metadata": {
    "pycharm": {
     "name": "#%%\n"
    }
   },
   "outputs": [],
   "source": [
    "from timeatlas.types import Unit, Sensor, Coords\n",
    "\n",
    "unit = Unit(name=\"Volt\", symbol=\"V\", data_type=\"float\")\n",
    "sensor = Sensor(id=1337, name=\"Temperatur Sensor A1\")\n",
    "location = Coords(long=7.1591, lat=46.7933)"
   ]
  },
  {
   "cell_type": "code",
   "execution_count": 7,
   "metadata": {
    "pycharm": {
     "name": "#%%\n"
    }
   },
   "outputs": [
    {
     "data": {
      "text/plain": "<timeatlas.types.unit.Unit at 0x7fbac1adb310>"
     },
     "execution_count": 7,
     "metadata": {},
     "output_type": "execute_result"
    }
   ],
   "source": [
    "unit"
   ]
  },
  {
   "cell_type": "code",
   "execution_count": 8,
   "metadata": {
    "pycharm": {
     "name": "#%%\n"
    }
   },
   "outputs": [
    {
     "data": {
      "text/plain": "Sensor ID: 1337; Name: Temperatur Sensor A1"
     },
     "execution_count": 8,
     "metadata": {},
     "output_type": "execute_result"
    }
   ],
   "source": [
    "sensor"
   ]
  },
  {
   "cell_type": "code",
   "execution_count": 9,
   "metadata": {
    "pycharm": {
     "name": "#%%\n"
    }
   },
   "outputs": [
    {
     "data": {
      "text/plain": "46.7933°N, 7.1591°E"
     },
     "execution_count": 9,
     "metadata": {},
     "output_type": "execute_result"
    }
   ],
   "source": [
    "location"
   ]
  },
  {
   "cell_type": "markdown",
   "metadata": {
    "pycharm": {
     "name": "#%% md\n"
    }
   },
   "source": [
    "Adding data to an existing MeteData-object."
   ]
  },
  {
   "cell_type": "code",
   "execution_count": 10,
   "metadata": {
    "pycharm": {
     "name": "#%%\n"
    }
   },
   "outputs": [
    {
     "data": {
      "text/plain": "{'Name': 'Test',\n 'Year': 2019,\n 'Nested': {1: 'test', 2: 'test', 3: 'test'},\n 'unit': <timeatlas.types.unit.Unit at 0x7fbac1adb310>,\n 'sensor': Sensor ID: 1337; Name: Temperatur Sensor A1,\n 'coords': 46.7933°N, 7.1591°E}"
     },
     "execution_count": 10,
     "metadata": {},
     "output_type": "execute_result"
    }
   ],
   "source": [
    "metadata.add(items=unit)\n",
    "metadata.add(items=sensor)\n",
    "metadata.add(items=location)"
   ]
  },
  {
   "cell_type": "code",
   "execution_count": 11,
   "metadata": {
    "pycharm": {
     "name": "#%%\n"
    }
   },
   "outputs": [
    {
     "data": {
      "text/plain": "{'Name': 'Test',\n 'Year': 2019,\n 'Nested': {1: 'test', 2: 'test', 3: 'test'},\n 'unit': <timeatlas.types.unit.Unit at 0x7fbac1adb310>,\n 'sensor': Sensor ID: 1337; Name: Temperatur Sensor A1,\n 'coords': 46.7933°N, 7.1591°E}"
     },
     "execution_count": 11,
     "metadata": {},
     "output_type": "execute_result"
    }
   ],
   "source": [
    "metadata"
   ]
  },
  {
   "cell_type": "code",
   "execution_count": 12,
   "metadata": {
    "pycharm": {
     "name": "#%%\n"
    }
   },
   "outputs": [
    {
     "data": {
      "text/plain": "['_abc_impl', 'data_type', 'items', 'name', 'symbol']"
     },
     "execution_count": 12,
     "metadata": {},
     "output_type": "execute_result"
    }
   ],
   "source": [
    "[a for a in dir(unit) if not a.startswith('__')]"
   ]
  },
  {
   "cell_type": "markdown",
   "source": [
    "TimeSeriesDataset\n",
    "-----------------\n",
    "\n",
    "In TimeAtlas, a TimeSeriesDataset is a collection TimeSeries. The behaviour in\n",
    "most cases is similar to a classical list, with some additional functionalities.\n",
    "\n",
    "To create a TimeSeriesDataset we first need a some TimeSeries. The\n",
    "TimeSeriesDataset will be represented by a small overview of statistic on each\n",
    "TimeSeries in it."
   ],
   "metadata": {
    "collapsed": false,
    "pycharm": {
     "name": "#%% md\n"
    }
   }
  },
  {
   "cell_type": "code",
   "execution_count": 13,
   "outputs": [
    {
     "data": {
      "text/plain": "   minimum  maximum  mean  median  kurtosis  skewness\n0        0        3   1.5     1.5      -1.2       0.0\n1        0       72  36.0    36.0      -1.2       0.0\n2        0        9   4.5     4.5      -1.2       0.0"
     },
     "execution_count": 13,
     "metadata": {},
     "output_type": "execute_result"
    }
   ],
   "source": [
    "ts = ta.TimeSeries.create('2019-01-01', '2019-01-04', freq='1D')\n",
    "ts = ts.fill([i for i in range(len(ts))])\n",
    "\n",
    "ts2 = ta.TimeSeries.create('2019-01-01', '2019-01-04', freq='H')\n",
    "ts2 = ts2.fill([i for i in range(len(ts2))])\n",
    "\n",
    "ts3 = ta.TimeSeries.create('2019-01-01', '2019-01-10', freq='1D')\n",
    "ts3 = ts3.fill([i for i in range(len(ts3))])\n",
    "\n",
    "tsd = ta.TimeSeriesDataset([ts, ts2, ts3])\n",
    "tsd"
   ],
   "metadata": {
    "collapsed": false,
    "pycharm": {
     "name": "#%%\n"
    }
   }
  },
  {
   "cell_type": "markdown",
   "source": [
    "Like in TimeSeries we can also use `TimeSeriesDataset.create()`. This will\n",
    "create the specified numbers of TimeSeries all with the same start, end and\n",
    "frequency."
   ],
   "metadata": {
    "collapsed": false
   }
  },
  {
   "cell_type": "code",
   "execution_count": 14,
   "outputs": [
    {
     "name": "stdout",
     "output_type": "stream",
     "text": [
      "TimeSeriesDataset.create() made a TimeSeriesDataset of length: 3\n"
     ]
    }
   ],
   "source": [
    "tsd = ta.TimeSeriesDataset.create(length=3, start='2019-01-01', end='2019-01-04', freq=\"1D\")\n",
    "print(f\"TimeSeriesDataset.create() made a TimeSeriesDataset of length: {len(tsd)}\")"
   ],
   "metadata": {
    "collapsed": false,
    "pycharm": {
     "name": "#%%\n"
    }
   }
  },
  {
   "cell_type": "code",
   "execution_count": null,
   "outputs": [],
   "source": [],
   "metadata": {
    "collapsed": false,
    "pycharm": {
     "name": "#%%\n"
    }
   }
  }
 ],
 "metadata": {
  "kernelspec": {
   "display_name": "PyCharm (timeatlas)",
   "language": "python",
   "name": "pycharm-9df7f84f"
  },
  "language_info": {
   "codemirror_mode": {
    "name": "ipython",
    "version": 3
   },
   "file_extension": ".py",
   "mimetype": "text/x-python",
   "name": "python",
   "nbconvert_exporter": "python",
   "pygments_lexer": "ipython3",
   "version": "3.7.5"
  }
 },
 "nbformat": 4,
 "nbformat_minor": 1
}