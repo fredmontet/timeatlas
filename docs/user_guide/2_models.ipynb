{
 "cells": [
  {
   "cell_type": "code",
   "metadata": {
    "pycharm": {
     "name": "#%% Import\n"
    }
   },
   "source": [
    "import timeatlas as ta\n",
    "from timeatlas import TimeSeries, Metadata\n",
    "from timeatlas import models\n",
    "from pandas import Series, DatetimeIndex\n",
    "import pandas as pd\n",
    "import os\n",
    "from pathlib import Path\n",
    "import fbprophet"
   ],
   "execution_count": null,
   "outputs": []
  },
  {
   "cell_type": "markdown",
   "metadata": {
    "pycharm": {
     "name": "#%% md\n"
    }
   },
   "source": [
    "---\n",
    "# Models\n",
    "\n",
    "How to create models with TimeAtlas? At first let's create a TimeSeries."
   ]
  },
  {
   "cell_type": "code",
   "execution_count": null,
   "outputs": [],
   "source": [
    "index = DatetimeIndex(['2019-01-01', '2019-01-02', '2019-01-03', '2019-01-04'])\n",
    "my_series = Series([0.4, 1.0, 0.7, 0.6], index=index)\n",
    "ts = TimeSeries(my_series)\n",
    "ts"
   ],
   "metadata": {
    "collapsed": false,
    "pycharm": {
     "name": "#%%\n"
    }
   }
  },
  {
   "cell_type": "markdown",
   "source": [
    "## Grammar\n",
    "\n",
    "Some definitions:\n",
    "\n",
    "- `time series` : self-explanatory, i.e. the TimeSeries object\n",
    "- `horizon` : the duration to predict after the last value of the time series\n",
    "- `frequency`: the number of values per unit of time. Usually, the frequency is given in Pandas offset aliases (https://pandas.pydata.org/pandas-docs/stable/user_guide/timeseries.html#offset-aliases)\n",
    "\n",
    "```\n",
    "                                horizon\n",
    "   |-------------------------|- - - - - -|\n",
    "                             |||||||||||||\n",
    "           time series         frequency\n",
    "\n",
    "```"
   ],
   "metadata": {
    "collapsed": false
   }
  },
  {
   "cell_type": "code",
   "execution_count": null,
   "outputs": [],
   "source": [
    "m = models.Prophet()"
   ],
   "metadata": {
    "collapsed": false,
    "pycharm": {
     "name": "#%%\n"
    }
   }
  },
  {
   "cell_type": "code",
   "execution_count": null,
   "outputs": [],
   "source": [
    "m.fit(ts)"
   ],
   "metadata": {
    "collapsed": false,
    "pycharm": {
     "name": "#%%\n"
    }
   }
  },
  {
   "cell_type": "code",
   "execution_count": null,
   "outputs": [],
   "source": [
    "Y_hat = m.predict('4 days')"
   ],
   "metadata": {
    "collapsed": false,
    "pycharm": {
     "name": "#%%\n"
    }
   }
  },
  {
   "cell_type": "code",
   "execution_count": null,
   "outputs": [],
   "source": [
    "m.X_train.plot()\n",
    "Y_hat.plot()"
   ],
   "metadata": {
    "collapsed": false,
    "pycharm": {
     "name": "#%%\n"
    }
   }
  }
 ],
 "metadata": {
  "kernelspec": {
   "display_name": "Python 3",
   "language": "python",
   "name": "python3"
  },
  "language_info": {
   "codemirror_mode": {
    "name": "ipython",
    "version": 3
   },
   "file_extension": ".py",
   "mimetype": "text/x-python",
   "name": "python",
   "nbconvert_exporter": "python",
   "pygments_lexer": "ipython3",
   "version": "3.7.7"
  }
 },
 "nbformat": 4,
 "nbformat_minor": 1
}