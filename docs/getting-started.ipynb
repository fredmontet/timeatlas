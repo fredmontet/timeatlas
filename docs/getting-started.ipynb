{
 "cells": [
  {
   "cell_type": "code",
   "execution_count": 1,
   "metadata": {
    "collapsed": true,
    "pycharm": {
     "name": "#%% Import\n"
    }
   },
   "outputs": [],
   "source": [
    "from timeatlas import TimeSeries, Metadata, Archive\n",
    "from timeatlas.types import Unit, Sensor\n",
    "from pandas import Series, DatetimeIndex\n",
    "import pandas as pd\n",
    "import os\n",
    "from pathlib import Path\n"
   ]
  },
  {
   "cell_type": "code",
   "execution_count": 12,
   "outputs": [
    {
     "data": {
      "text/plain": "dict_keys(['unit', 'sensor', 'location', 'coordinates'])"
     },
     "execution_count": 12,
     "metadata": {},
     "output_type": "execute_result"
    }
   ],
   "source": [
    "my_unit = Unit(\"power\", \"W\", \"float\")\n",
    "my_sensor = Sensor(2902, \"HB/floor2/22-23C/Prises_Power_Tot\")\n",
    "my_location = {\n",
    "    \"building\" : \"Blue Factory\",\n",
    "    \"floor\" : \"12\",\n",
    "    \"room\"  : \"22C\"\n",
    "}\n",
    "my_coordinates = {\n",
    "    \"lat\" : 46.796611,\n",
    "    \"lon\" : 7.147563\n",
    "}\n",
    "my_dict = {\n",
    "    \"unit\": my_unit,\n",
    "    \"sensor\": my_sensor,\n",
    "    \"location\": my_location,\n",
    "    \"coordinates\": my_coordinates\n",
    "}\n",
    "\n",
    "my_meta = Metadata(my_dict)\n",
    "my_meta.keys()"
   ],
   "metadata": {
    "collapsed": false,
    "pycharm": {
     "name": "#%% Create a metadata dictionary\n"
    }
   }
  },
  {
   "cell_type": "code",
   "execution_count": 10,
   "outputs": [
    {
     "data": {
      "text/plain": "DatetimeIndex(['2019-01-01', '2019-01-02', '2019-01-03', '2019-01-04'], dtype='datetime64[ns]', freq=None)"
     },
     "execution_count": 10,
     "metadata": {},
     "output_type": "execute_result"
    }
   ],
   "source": [
    "index = DatetimeIndex(['2019-01-01', '2019-01-02', '2019-01-03', '2019-01-04']) \n",
    "my_series = Series([0.4, 1.0, 0.7, 0.6], index=index)\n",
    "ts = TimeSeries(my_series, my_meta)"
   ],
   "metadata": {
    "collapsed": false,
    "pycharm": {
     "name": "#%%\n"
    }
   }
  },
  {
   "cell_type": "code",
   "execution_count": 4,
   "outputs": [],
   "source": [
    "target_dir = \"../src/timeatlas/data/test-export\""
   ],
   "metadata": {
    "collapsed": false,
    "pycharm": {
     "name": "#%% Path\n"
    }
   }
  },
  {
   "cell_type": "code",
   "execution_count": 5,
   "outputs": [
    {
     "ename": "TypeError",
     "evalue": "to_text() takes 2 positional arguments but 3 were given",
     "output_type": "error",
     "traceback": [
      "\u001B[0;31m---------------------------------------------------------------------------\u001B[0m",
      "\u001B[0;31mTypeError\u001B[0m                                 Traceback (most recent call last)",
      "\u001B[0;32m<ipython-input-5-5470380d38a4>\u001B[0m in \u001B[0;36m<module>\u001B[0;34m\u001B[0m\n\u001B[0;32m----> 1\u001B[0;31m \u001B[0mts\u001B[0m\u001B[0;34m.\u001B[0m\u001B[0mto_text\u001B[0m\u001B[0;34m(\u001B[0m\u001B[0mtarget_dir\u001B[0m\u001B[0;34m,\u001B[0m \u001B[0;34m\"test\"\u001B[0m\u001B[0;34m)\u001B[0m\u001B[0;34m\u001B[0m\u001B[0;34m\u001B[0m\u001B[0m\n\u001B[0m\u001B[1;32m      2\u001B[0m \u001B[0;34m\u001B[0m\u001B[0m\n",
      "\u001B[0;31mTypeError\u001B[0m: to_text() takes 2 positional arguments but 3 were given"
     ]
    }
   ],
   "source": [
    "ts.to_text(target_dir, \"test\")"
   ],
   "metadata": {
    "collapsed": false,
    "pycharm": {
     "name": "#%% Export a TimeSeries w/ metadata in JSON file\n"
    }
   }
  },
  {
   "cell_type": "code",
   "execution_count": null,
   "outputs": [],
   "source": [
    "ts_no_meta.to_text(target_dir, \"test-no-meta\")"
   ],
   "metadata": {
    "collapsed": false,
    "pycharm": {
     "name": "#%% Export a TimeSeries w/o metadata\n"
    }
   }
  },
  {
   "cell_type": "code",
   "execution_count": null,
   "outputs": [],
   "source": [
    "# ===========================================================================\n",
    "dataset_path = target_dir+\"/test\"\n",
    "arr = os.listdir(dataset_path)\n",
    "\n",
    "metadata_file = '{}/metadata.json'.format(dataset_path)\n",
    "data_dir = '{}/data'.format(dataset_path)\n",
    "print(metadata_file)"
   ],
   "metadata": {
    "collapsed": false,
    "pycharm": {
     "name": "#%% Read an exported TimeSeries\n"
    }
   }
  },
  {
   "cell_type": "code",
   "execution_count": null,
   "outputs": [],
   "source": [
    "my_metadata = Metadata()\n",
    "my_metadata.read(metadata_file)\n",
    "my_metadata.data"
   ],
   "metadata": {
    "collapsed": false,
    "pycharm": {
     "name": "#%%\n"
    }
   }
  },
  {
   "cell_type": "code",
   "execution_count": null,
   "outputs": [],
   "source": [
    "type(my_unit) == Unit"
   ],
   "metadata": {
    "collapsed": false,
    "pycharm": {
     "name": "#%%\n"
    }
   }
  },
  {
   "cell_type": "code",
   "execution_count": null,
   "outputs": [],
   "source": [
    "my_metadata.data[0]\n",
    "\n"
   ],
   "metadata": {
    "collapsed": false,
    "pycharm": {
     "name": "#%%\n"
    }
   }
  },
  {
   "cell_type": "code",
   "execution_count": null,
   "outputs": [],
   "source": [
    "import timeatlas as ta\n",
    "ts = ta.read_text(dataset_path)"
   ],
   "metadata": {
    "collapsed": false,
    "pycharm": {
     "name": "#%%\n"
    }
   }
  },
  {
   "cell_type": "code",
   "execution_count": null,
   "outputs": [],
   "source": [
    "ts.to_text(\".\", \"yolo\")"
   ],
   "metadata": {
    "collapsed": false,
    "pycharm": {
     "name": "#%%\n"
    }
   }
  },
  {
   "cell_type": "code",
   "execution_count": null,
   "outputs": [],
   "source": [],
   "metadata": {
    "collapsed": false,
    "pycharm": {
     "name": "#%%\n"
    }
   }
  },
  {
   "cell_type": "code",
   "execution_count": null,
   "outputs": [],
   "source": [],
   "metadata": {
    "collapsed": false,
    "pycharm": {
     "name": "#%%\n"
    }
   }
  }
 ],
 "metadata": {
  "kernelspec": {
   "name": "python3",
   "language": "python",
   "display_name": "Python 3"
  },
  "language_info": {
   "codemirror_mode": {
    "name": "ipython",
    "version": 2
   },
   "file_extension": ".py",
   "mimetype": "text/x-python",
   "name": "python",
   "nbconvert_exporter": "python",
   "pygments_lexer": "ipython2",
   "version": "2.7.6"
  }
 },
 "nbformat": 4,
 "nbformat_minor": 0
}