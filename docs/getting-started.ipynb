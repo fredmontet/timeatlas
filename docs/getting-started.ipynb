{
 "cells": [
  {
   "cell_type": "code",
   "execution_count": null,
   "metadata": {
    "pycharm": {
     "is_executing": true,
     "name": "#%% Import\n"
    }
   },
   "outputs": [],
   "source": [
    "import timeatlas as ta\n",
    "from timeatlas import TimeSeries, Metadata\n",
    "from timeatlas.types import Unit, Sensor\n",
    "from timeatlas import models\n",
    "from pandas import Series, DatetimeIndex\n",
    "import pandas as pd\n",
    "import os\n",
    "from pathlib import Path\n",
    "import fbprophet"
   ]
  },
  {
   "cell_type": "markdown",
   "metadata": {},
   "source": [
    "---\n",
    "# TimeAtlas Getting Started\n",
    "\n",
    "This notebook contains some examples of TimeAtlas usage"
   ]
  },
  {
   "cell_type": "markdown",
   "metadata": {},
   "source": [
    "## Define a TimeSeries\n",
    "\n",
    "The two essential components are a Pandas Series and a DatetimeIndex"
   ]
  },
  {
   "cell_type": "code",
   "execution_count": 4,
   "metadata": {
    "pycharm": {
     "name": "#%%\n"
    }
   },
   "outputs": [
    {
     "data": {
      "text/plain": [
       "<timeatlas.time_series.time_series.TimeSeries at 0x7ff64f1e58d0>"
      ]
     },
     "execution_count": 4,
     "metadata": {},
     "output_type": "execute_result"
    }
   ],
   "source": [
    "index = DatetimeIndex(['2019-01-01', '2019-01-02', '2019-01-03', '2019-01-04']) \n",
    "my_series = Series([0.4, 1.0, 0.7, 0.6], index=index)\n",
    "ts = TimeSeries(my_series)\n",
    "ts"
   ]
  },
  {
   "cell_type": "markdown",
   "metadata": {},
   "source": [
    "## Define a Metadata object"
   ]
  },
  {
   "cell_type": "code",
   "execution_count": 5,
   "metadata": {
    "pycharm": {
     "name": "#%%\n"
    }
   },
   "outputs": [],
   "source": [
    "# You can use some typed metadata object\n",
    "my_unit = Unit(\"power\", \"W\", \"float\")\n",
    "my_sensor = Sensor(2902, \"HB/floor2/22-23C/Prises_Power_Tot\")\n",
    "\n",
    "# Or use Python dictionaries\n",
    "my_location = {\n",
    "    \"building\" : \"Blue Factory\",\n",
    "    \"floor\" : \"12\",\n",
    "    \"room\"  : \"22C\"\n",
    "}\n",
    "my_coordinates = {\n",
    "    \"lat\" : 46.796611,\n",
    "    \"lon\" : 7.147563\n",
    "}\n",
    "my_dict = {\n",
    "    \"unit\": my_unit,\n",
    "    \"sensor\": my_sensor,\n",
    "    \"location\": my_location,\n",
    "    \"coordinates\": my_coordinates\n",
    "}\n",
    "\n",
    "# Finally, create the Metadata object\n",
    "my_meta = Metadata(my_dict)"
   ]
  },
  {
   "cell_type": "markdown",
   "metadata": {},
   "source": [
    "## Define a TimeSeries with Metadata"
   ]
  },
  {
   "cell_type": "code",
   "execution_count": null,
   "metadata": {
    "pycharm": {
     "name": "#%% Create a TimeSeries\n"
    }
   },
   "outputs": [],
   "source": [
    "ts_meta = TimeSeries(my_series, my_meta)\n",
    "ts_meta"
   ]
  },
  {
   "cell_type": "markdown",
   "metadata": {
    "pycharm": {
     "name": "#%% md\n"
    }
   },
   "source": [
    "## Make Predictions\n",
    "\n",
    "Some definitions:\n",
    "\n",
    "- `time series` : an ordered set of time-indexed values\n",
    "- `horizon` : the duration to predict after the last value of the time series\n",
    "- `frequency`: the number of values per unit of time. Usually, the frequency is given in Pandas offset aliases (https://pandas.pydata.org/pandas-docs/stable/user_guide/timeseries.html#offset-aliases)\n",
    "\n",
    "```\n",
    "                                horizon\n",
    "   |-------------------------|- - - - - -|\n",
    "                             |||||||||||||\n",
    "           time series         frequency\n",
    "\n",
    "```"
   ]
  },
  {
   "cell_type": "markdown",
   "metadata": {
    "pycharm": {
     "name": "#%% md\n"
    }
   },
   "source": [
    "### Create a model\n",
    "m = models.Prophet()\n",
    "m.fit(ts)\n",
    "\n",
    "### Predict values\n",
    "m.predict('2 hours')"
   ]
  },
  {
   "cell_type": "markdown",
   "metadata": {},
   "source": [
    "## Integrating Arteficial Anomalies\n"
   ]
  },
  {
   "cell_type": "markdown",
   "metadata": {
    "pycharm": {
     "name": "#%% md\n"
    }
   },
   "source": [
    "### Creating the anomaly generator config.ini"
   ]
  },
  {
   "cell_type": "code",
   "execution_count": 27,
   "metadata": {},
   "outputs": [],
   "source": [
    "from timeatlas import AnomalyGeneratorTemplate"
   ]
  },
  {
   "cell_type": "code",
   "execution_count": 28,
   "metadata": {},
   "outputs": [],
   "source": [
    "filename = \"test\"\n",
    "seed = 1234\n",
    "functions = ['flatline', 'hard_knee']\n",
    "threshold = 1234\n",
    "num_animalies = None\n",
    "write = True\n",
    "anomaly_name = \"ANOMALY\""
   ]
  },
  {
   "cell_type": "code",
   "execution_count": 29,
   "metadata": {},
   "outputs": [],
   "source": [
    "template = AnomalyGeneratorTemplate(filename=filename,\n",
    "                                    seed=seed,\n",
    "                                    functions=functions,\n",
    "                                    threshold=threshold,\n",
    "                                    num_anomalies=num_animalies,\n",
    "                                    anomaly_name=anomaly_name)"
   ]
  },
  {
   "cell_type": "markdown",
   "metadata": {},
   "source": [
    "With `template.write()` we can save the config under the given filename"
   ]
  },
  {
   "cell_type": "code",
   "execution_count": 30,
   "metadata": {},
   "outputs": [],
   "source": [
    "#template.write()"
   ]
  },
  {
   "cell_type": "markdown",
   "metadata": {},
   "source": [
    "### Using the anomaly generator"
   ]
  },
  {
   "cell_type": "code",
   "execution_count": 32,
   "metadata": {},
   "outputs": [],
   "source": [
    "from timeatlas import AnomalyGenerator"
   ]
  },
  {
   "cell_type": "code",
   "execution_count": 35,
   "metadata": {},
   "outputs": [],
   "source": [
    "index = DatetimeIndex(['2019-01-01', '2019-01-02', '2019-01-03', '2019-01-04']) \n",
    "my_series = Series([0.4, 1.0, 0.7, 0.6], index=index)\n",
    "ts = TimeSeries(my_series)"
   ]
  },
  {
   "cell_type": "code",
   "execution_count": 37,
   "metadata": {},
   "outputs": [
    {
     "ename": "AssertionError",
     "evalue": "",
     "output_type": "error",
     "traceback": [
      "\u001B[0;31m---------------------------------------------------------------------------\u001B[0m",
      "\u001B[0;31mAssertionError\u001B[0m                            Traceback (most recent call last)",
      "\u001B[0;32m<ipython-input-37-872cb2028d88>\u001B[0m in \u001B[0;36m<module>\u001B[0;34m\u001B[0m\n\u001B[0;32m----> 1\u001B[0;31m \u001B[0mgenerator\u001B[0m \u001B[0;34m=\u001B[0m \u001B[0mAnomalyGenerator\u001B[0m\u001B[0;34m(\u001B[0m\u001B[0mdata\u001B[0m\u001B[0;34m=\u001B[0m\u001B[0mts\u001B[0m\u001B[0;34m,\u001B[0m \u001B[0mconf_file\u001B[0m\u001B[0;34m=\u001B[0m\u001B[0;34m'test.ini'\u001B[0m\u001B[0;34m)\u001B[0m\u001B[0;34m\u001B[0m\u001B[0;34m\u001B[0m\u001B[0m\n\u001B[0m",
      "\u001B[0;32m~/Documents/timeatlas/src/timeatlas/generator/anomaly_generator/anomaly_generator.py\u001B[0m in \u001B[0;36m__init__\u001B[0;34m(self, data, conf_file, axis)\u001B[0m\n\u001B[1;32m     19\u001B[0m         \u001B[0;31m# assertions\u001B[0m\u001B[0;34m\u001B[0m\u001B[0;34m\u001B[0m\u001B[0;34m\u001B[0m\u001B[0m\n\u001B[1;32m     20\u001B[0m         \u001B[0;32massert\u001B[0m \u001B[0maxis\u001B[0m \u001B[0;34m==\u001B[0m \u001B[0;36m0\u001B[0m \u001B[0;32mor\u001B[0m \u001B[0maxis\u001B[0m \u001B[0;34m==\u001B[0m \u001B[0;36m1\u001B[0m\u001B[0;34m\u001B[0m\u001B[0;34m\u001B[0m\u001B[0m\n\u001B[0;32m---> 21\u001B[0;31m         \u001B[0;32massert\u001B[0m \u001B[0misinstance\u001B[0m\u001B[0;34m(\u001B[0m\u001B[0mdata\u001B[0m\u001B[0;34m,\u001B[0m \u001B[0mpd\u001B[0m\u001B[0;34m.\u001B[0m\u001B[0mDataFrame\u001B[0m\u001B[0;34m)\u001B[0m\u001B[0;34m\u001B[0m\u001B[0;34m\u001B[0m\u001B[0m\n\u001B[0m\u001B[1;32m     22\u001B[0m \u001B[0;34m\u001B[0m\u001B[0m\n\u001B[1;32m     23\u001B[0m         \u001B[0;31m# setting the iterator for the dataframe -> 0 = rows; 1 = columns\u001B[0m\u001B[0;34m\u001B[0m\u001B[0;34m\u001B[0m\u001B[0;34m\u001B[0m\u001B[0m\n",
      "\u001B[0;31mAssertionError\u001B[0m: "
     ]
    }
   ],
   "source": [
    "generator = AnomalyGenerator(data=ts, conf_file='test.ini')"
   ]
  },
  {
   "cell_type": "code",
   "execution_count": null,
   "metadata": {},
   "outputs": [],
   "source": []
  },
  {
   "cell_type": "code",
   "execution_count": null,
   "metadata": {},
   "outputs": [],
   "source": []
  },
  {
   "cell_type": "markdown",
   "metadata": {
    "pycharm": {
     "name": "#%% md\n"
    }
   },
   "source": [
    "---\n",
    "\n",
    "## Authors\n",
    "    \n",
    "- frederic.montet@hefr.ch\n",
    "- lorenz.rychener@hefr.ch"
   ]
  }
 ],
 "metadata": {
  "kernelspec": {
   "display_name": "PyCharm (timeatlas)",
   "language": "python",
   "name": "pycharm-9df7f84f"
  },
  "language_info": {
   "codemirror_mode": {
    "name": "ipython",
    "version": 3
   },
   "file_extension": ".py",
   "mimetype": "text/x-python",
   "name": "python",
   "nbconvert_exporter": "python",
   "pygments_lexer": "ipython3",
   "version": "3.7.5"
  }
 },
 "nbformat": 4,
 "nbformat_minor": 1
}