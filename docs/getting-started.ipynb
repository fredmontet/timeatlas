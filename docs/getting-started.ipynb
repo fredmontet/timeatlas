{
 "cells": [
  {
   "cell_type": "code",
   "execution_count": 5,
   "metadata": {
    "collapsed": true,
    "pycharm": {
     "is_executing": false,
     "name": "#%% Import\n"
    }
   },
   "outputs": [],
   "source": [
    "from timeatlas import TimeSeries, Metadata\n",
    "from timeatlas.types import Unit, Sensor\n",
    "from pandas import Series, DatetimeIndex"
   ]
  },
  {
   "cell_type": "code",
   "execution_count": 6,
   "outputs": [],
   "source": [
    "my_unit = Unit(\"power\", \"W\", \"float\")\n",
    "my_sensor = Sensor(2902, \"HB/floor2/22-23C/Prises_Power_Tot\")\n",
    "\n",
    "my_meta = {\n",
    "    \"unit\": my_unit,\n",
    "    \"sensor\": my_sensor    \n",
    "}\n",
    "\n",
    "index = DatetimeIndex(['2019-01-01', '2019-01-02', '2019-01-03', '2019-01-04']) \n",
    "my_series = Series([0.4, 1.0, 0.7, 0.6], index=index)\n",
    "\n",
    "ts = TimeSeries(my_series, my_meta)"
   ],
   "metadata": {
    "collapsed": false,
    "pycharm": {
     "name": "#%% Create all the necessary element in a complete TimeSeries\n",
     "is_executing": false
    }
   }
  },
  {
   "cell_type": "code",
   "execution_count": 7,
   "outputs": [],
   "source": [
    "target_dir = \"../src/timeatlas/data/test-export\""
   ],
   "metadata": {
    "collapsed": false,
    "pycharm": {
     "name": "#%% Path\n",
     "is_executing": false
    }
   }
  },
  {
   "cell_type": "code",
   "execution_count": 8,
   "outputs": [],
   "source": [
    "ts.write(target_dir, \"test\")"
   ],
   "metadata": {
    "collapsed": false,
    "pycharm": {
     "name": "#%% IN PROGRESS : Save a metadata in JSON file\n",
     "is_executing": false
    }
   }
  }
 ],
 "metadata": {
  "kernelspec": {
   "name": "python3",
   "language": "python",
   "display_name": "Python 3"
  },
  "language_info": {
   "codemirror_mode": {
    "name": "ipython",
    "version": 2
   },
   "file_extension": ".py",
   "mimetype": "text/x-python",
   "name": "python",
   "nbconvert_exporter": "python",
   "pygments_lexer": "ipython2",
   "version": "2.7.6"
  },
  "pycharm": {
   "stem_cell": {
    "cell_type": "raw",
    "source": [],
    "metadata": {
     "collapsed": false
    }
   }
  }
 },
 "nbformat": 4,
 "nbformat_minor": 0
}