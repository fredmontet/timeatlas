{
 "cells": [
  {
   "cell_type": "code",
   "execution_count": 1,
   "metadata": {
    "collapsed": true,
    "pycharm": {
     "name": "#%% Import\n"
    }
   },
   "outputs": [],
   "source": [
    "from timeatlas import TimeSeries, Metadata, MetadataItems\n",
    "from timeatlas.types import Unit, Sensor\n",
    "from pandas import Series, DatetimeIndex\n",
    "import pandas as pd\n",
    "import os\n",
    "from pathlib import Path\n"
   ]
  },
  {
   "cell_type": "code",
   "execution_count": 2,
   "outputs": [],
   "source": [
    "my_unit = Unit(\"power\", \"W\", \"float\")\n",
    "\n",
    "my_sensor = Sensor(2902, \"HB/floor2/22-23C/Prises_Power_Tot\")\n",
    "\n",
    "my_location = {\n",
    "    \"building\" : \"Blue Factory\",\n",
    "    \"floor\" : \"12\",\n",
    "    \"room\"  : \"22C\"\n",
    "}\n",
    "my_coordinates = {\n",
    "    \"lat\" : 46.796611,\n",
    "    \"lon\" : 7.147563\n",
    "}\n",
    "\n",
    "my_meta = {\n",
    "    \"unit\": my_unit,\n",
    "    \"sensor\": my_sensor,\n",
    "    \"location\": my_location,\n",
    "    \"coordinates\": my_coordinates\n",
    "}"
   ],
   "metadata": {
    "collapsed": false,
    "pycharm": {
     "name": "#%% Create all the necessary element in a complete TimeSerie\n"
    }
   }
  },
  {
   "cell_type": "code",
   "execution_count": 3,
   "outputs": [
    {
     "data": {
      "text/plain": "{'sensor': Sensor ID 2902}"
     },
     "execution_count": 3,
     "metadata": {},
     "output_type": "execute_result"
    }
   ],
   "source": [
    "my_test = {\n",
    "    \"sensor\": {\n",
    "        'name': 'HB/floor2/22-23C/Prises_Power_Tot',\n",
    "        'sensor_id': 2902\n",
    "    }\n",
    "}\n",
    "\n",
    "my_item = MetadataItems(my_test)\n",
    "my_item"
   ],
   "metadata": {
    "collapsed": false,
    "pycharm": {
     "name": "#%%\n"
    }
   }
  },
  {
   "cell_type": "code",
   "execution_count": 4,
   "outputs": [],
   "source": [
    "index = DatetimeIndex(['2019-01-01', '2019-01-02', '2019-01-03', '2019-01-04']) \n",
    "my_series = Series([0.4, 1.0, 0.7, 0.6], index=index)\n",
    "\n",
    "ts = TimeSeries(my_series, my_meta)\n",
    "ts_no_meta = TimeSeries(my_series)"
   ],
   "metadata": {
    "collapsed": false,
    "pycharm": {
     "name": "#%%\n"
    }
   }
  },
  {
   "cell_type": "code",
   "execution_count": 5,
   "outputs": [],
   "source": [
    "target_dir = \"../src/timeatlas/data/test-export\""
   ],
   "metadata": {
    "collapsed": false,
    "pycharm": {
     "name": "#%% Path\n"
    }
   }
  },
  {
   "cell_type": "code",
   "execution_count": 6,
   "outputs": [],
   "source": [
    "ts.write(target_dir, \"test\")"
   ],
   "metadata": {
    "collapsed": false,
    "pycharm": {
     "name": "#%% Export a TimeSeries w/ metadata in JSON file\n"
    }
   }
  },
  {
   "cell_type": "code",
   "execution_count": 7,
   "outputs": [],
   "source": [
    "ts_no_meta.write(target_dir, \"test-no-meta\")"
   ],
   "metadata": {
    "collapsed": false,
    "pycharm": {
     "name": "#%% Export a TimeSeries w/o metadata\n"
    }
   }
  },
  {
   "cell_type": "code",
   "execution_count": 8,
   "outputs": [
    {
     "name": "stdout",
     "output_type": "stream",
     "text": [
      "../src/timeatlas/data/test-export/test/metadata.json\n"
     ]
    }
   ],
   "source": [
    "# ===========================================================================\n",
    "dataset_path = target_dir+\"/test\"\n",
    "arr = os.listdir(dataset_path)\n",
    "\n",
    "metadata_file = '{}/metadata.json'.format(dataset_path)\n",
    "data_dir = '{}/data'.format(dataset_path)\n",
    "print(metadata_file)"
   ],
   "metadata": {
    "collapsed": false,
    "pycharm": {
     "name": "#%% Read an exported TimeSeries\n"
    }
   }
  },
  {
   "cell_type": "code",
   "execution_count": 9,
   "outputs": [
    {
     "data": {
      "text/plain": "[{'coordinates': {'lat': 46.796611, 'lon': 7.147563},\n  'location': {'building': 'Blue Factory', 'floor': '12', 'room': '22C'},\n  'path': './data/0.csv',\n  'sensor': Sensor ID 2902,\n  'unit': <timeatlas.types.unit.unit.Unit at 0x106d1e250>}]"
     },
     "execution_count": 9,
     "metadata": {},
     "output_type": "execute_result"
    }
   ],
   "source": [
    "my_metadata = Metadata()\n",
    "my_metadata.from_json(metadata_file)\n",
    "my_metadata.data"
   ],
   "metadata": {
    "collapsed": false,
    "pycharm": {
     "name": "#%%\n"
    }
   }
  },
  {
   "cell_type": "code",
   "execution_count": 10,
   "outputs": [
    {
     "data": {
      "text/plain": "True"
     },
     "execution_count": 10,
     "metadata": {},
     "output_type": "execute_result"
    }
   ],
   "source": [
    "type(my_unit) == Unit"
   ],
   "metadata": {
    "collapsed": false,
    "pycharm": {
     "name": "#%%\n"
    }
   }
  },
  {
   "cell_type": "code",
   "execution_count": 11,
   "outputs": [
    {
     "data": {
      "text/plain": "{'coordinates': {'lat': 46.796611, 'lon': 7.147563},\n 'location': {'building': 'Blue Factory', 'floor': '12', 'room': '22C'},\n 'path': './data/0.csv',\n 'sensor': Sensor ID 2902,\n 'unit': <timeatlas.types.unit.unit.Unit at 0x106d1e250>}"
     },
     "execution_count": 11,
     "metadata": {},
     "output_type": "execute_result"
    }
   ],
   "source": [
    "my_metadata.data[0]\n",
    "\n"
   ],
   "metadata": {
    "collapsed": false,
    "pycharm": {
     "name": "#%%\n"
    }
   }
  },
  {
   "cell_type": "code",
   "execution_count": 15,
   "outputs": [
    {
     "name": "stdout",
     "output_type": "stream",
     "text": [
      "timestamp\n",
      "2019-01-01    0.4\n",
      "2019-01-02    1.0\n",
      "2019-01-03    0.7\n",
      "2019-01-04    0.6\n",
      "Name: values, dtype: float64\n",
      "{'coordinates': {'lat': 46.796611, 'lon': 7.147563}, 'location': {'building': 'Blue Factory', 'floor': '12', 'room': '22C'}, 'sensor': Sensor ID 2902, 'unit': <timeatlas.types.unit.unit.Unit object at 0x11a873090>}\n"
     ]
    }
   ],
   "source": [
    "s, m = TimeSeries().read(dataset_path)"
   ],
   "metadata": {
    "collapsed": false,
    "pycharm": {
     "name": "#%%\n"
    }
   }
  },
  {
   "cell_type": "code",
   "execution_count": 17,
   "outputs": [
    {
     "data": {
      "text/plain": "timestamp\n2019-01-01    0.4\n2019-01-02    1.0\n2019-01-03    0.7\n2019-01-04    0.6\nName: values, dtype: float64"
     },
     "execution_count": 17,
     "metadata": {},
     "output_type": "execute_result"
    }
   ],
   "source": [
    "s"
   ],
   "metadata": {
    "collapsed": false,
    "pycharm": {
     "name": "#%%\n"
    }
   }
  },
  {
   "cell_type": "code",
   "execution_count": 16,
   "outputs": [
    {
     "data": {
      "text/plain": "{'coordinates': {'lat': 46.796611, 'lon': 7.147563},\n 'location': {'building': 'Blue Factory', 'floor': '12', 'room': '22C'},\n 'sensor': Sensor ID 2902,\n 'unit': <timeatlas.types.unit.unit.Unit at 0x11a873090>}"
     },
     "execution_count": 16,
     "metadata": {},
     "output_type": "execute_result"
    }
   ],
   "source": [
    "m\n",
    "\n"
   ],
   "metadata": {
    "collapsed": false,
    "pycharm": {
     "name": "#%%\n"
    }
   }
  }
 ],
 "metadata": {
  "kernelspec": {
   "name": "python3",
   "language": "python",
   "display_name": "Python 3"
  },
  "language_info": {
   "codemirror_mode": {
    "name": "ipython",
    "version": 2
   },
   "file_extension": ".py",
   "mimetype": "text/x-python",
   "name": "python",
   "nbconvert_exporter": "python",
   "pygments_lexer": "ipython2",
   "version": "2.7.6"
  }
 },
 "nbformat": 4,
 "nbformat_minor": 0
}