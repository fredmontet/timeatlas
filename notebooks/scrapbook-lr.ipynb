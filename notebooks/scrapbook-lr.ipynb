{
 "cells": [
  {
   "cell_type": "code",
   "execution_count": 1,
   "metadata": {},
   "outputs": [
    {
     "name": "stderr",
     "output_type": "stream",
     "text": [
      "Importing plotly failed. Interactive plots will not work.\n"
     ]
    }
   ],
   "source": [
    "from timeatlas import TimeSeries, TimeSeriesDataset\n",
    "from timeatlas.config.constants import (\n",
    "    TIME_SERIES_VALUES,\n",
    "    TIME_SERIES_FILENAME,\n",
    "    TIME_SERIES_EXT,\n",
    "    METADATA_FILENAME,\n",
    "    METADATA_EXT\n",
    ")\n",
    "\n",
    "from pandas import Series, DatetimeIndex\n",
    "\n",
    "import numpy as np\n"
   ]
  },
  {
   "cell_type": "markdown",
   "metadata": {},
   "source": [
    "### TimeSeries to_array()"
   ]
  },
  {
   "cell_type": "code",
   "execution_count": 2,
   "metadata": {
    "pycharm": {
     "is_executing": true,
     "name": "#%%\n"
    }
   },
   "outputs": [],
   "source": [
    "index = DatetimeIndex(['2019-01-01', '2019-01-02', '2019-01-03', '2019-01-04','2019-01-05', '2019-01-06', '2019-01-07', '2019-01-08','2019-01-09', '2019-01-10', '2019-01-11', '2019-01-12'])\n",
    "my_series = Series([0.4, 1.0, 0.7, 0.6, 0.4, 1.0, 0.7, 0.6, 0.4, 1.0, 0.7, 0.6], index=index)\n",
    "\n",
    "ts = TimeSeries(my_series)"
   ]
  },
  {
   "cell_type": "code",
   "execution_count": 3,
   "metadata": {},
   "outputs": [
    {
     "data": {
      "text/plain": [
       "            values\n",
       "2019-01-01     0.4\n",
       "2019-01-02     1.0\n",
       "2019-01-03     0.7\n",
       "2019-01-04     0.6\n",
       "2019-01-05     0.4\n",
       "2019-01-06     1.0\n",
       "2019-01-07     0.7\n",
       "2019-01-08     0.6\n",
       "2019-01-09     0.4\n",
       "2019-01-10     1.0\n",
       "2019-01-11     0.7\n",
       "2019-01-12     0.6"
      ]
     },
     "execution_count": 3,
     "metadata": {},
     "output_type": "execute_result"
    }
   ],
   "source": [
    "ts"
   ]
  },
  {
   "cell_type": "code",
   "execution_count": 4,
   "metadata": {},
   "outputs": [],
   "source": [
    "def to_array(ts):\n",
    "    \"\"\"\n",
    "    \n",
    "    \"\"\"\n",
    "    \n",
    "    return ts.series[TIME_SERIES_VALUES].to_numpy()"
   ]
  },
  {
   "cell_type": "code",
   "execution_count": 5,
   "metadata": {},
   "outputs": [
    {
     "data": {
      "text/plain": [
       "array([0.4, 1. , 0.7, 0.6, 0.4, 1. , 0.7, 0.6, 0.4, 1. , 0.7, 0.6])"
      ]
     },
     "execution_count": 5,
     "metadata": {},
     "output_type": "execute_result"
    }
   ],
   "source": [
    "to_array(ts)"
   ]
  },
  {
   "cell_type": "markdown",
   "metadata": {},
   "source": [
    "### TimeSeriesDataset to_array()"
   ]
  },
  {
   "cell_type": "code",
   "execution_count": 6,
   "metadata": {},
   "outputs": [],
   "source": [
    "tsd = TimeSeriesDataset([ts for i in range(5)])"
   ]
  },
  {
   "cell_type": "code",
   "execution_count": 7,
   "metadata": {},
   "outputs": [
    {
     "data": {
      "text/plain": [
       "[            values\n",
       "2019-01-01     0.4\n",
       "2019-01-02     1.0\n",
       "2019-01-03     0.7\n",
       "2019-01-04     0.6\n",
       "2019-01-05     0.4\n",
       "2019-01-06     1.0\n",
       "2019-01-07     0.7\n",
       "2019-01-08     0.6\n",
       "2019-01-09     0.4\n",
       "2019-01-10     1.0\n",
       "2019-01-11     0.7\n",
       "2019-01-12     0.6,             values\n",
       "2019-01-01     0.4\n",
       "2019-01-02     1.0\n",
       "2019-01-03     0.7\n",
       "2019-01-04     0.6\n",
       "2019-01-05     0.4\n",
       "2019-01-06     1.0\n",
       "2019-01-07     0.7\n",
       "2019-01-08     0.6\n",
       "2019-01-09     0.4\n",
       "2019-01-10     1.0\n",
       "2019-01-11     0.7\n",
       "2019-01-12     0.6,             values\n",
       "2019-01-01     0.4\n",
       "2019-01-02     1.0\n",
       "2019-01-03     0.7\n",
       "2019-01-04     0.6\n",
       "2019-01-05     0.4\n",
       "2019-01-06     1.0\n",
       "2019-01-07     0.7\n",
       "2019-01-08     0.6\n",
       "2019-01-09     0.4\n",
       "2019-01-10     1.0\n",
       "2019-01-11     0.7\n",
       "2019-01-12     0.6,             values\n",
       "2019-01-01     0.4\n",
       "2019-01-02     1.0\n",
       "2019-01-03     0.7\n",
       "2019-01-04     0.6\n",
       "2019-01-05     0.4\n",
       "2019-01-06     1.0\n",
       "2019-01-07     0.7\n",
       "2019-01-08     0.6\n",
       "2019-01-09     0.4\n",
       "2019-01-10     1.0\n",
       "2019-01-11     0.7\n",
       "2019-01-12     0.6,             values\n",
       "2019-01-01     0.4\n",
       "2019-01-02     1.0\n",
       "2019-01-03     0.7\n",
       "2019-01-04     0.6\n",
       "2019-01-05     0.4\n",
       "2019-01-06     1.0\n",
       "2019-01-07     0.7\n",
       "2019-01-08     0.6\n",
       "2019-01-09     0.4\n",
       "2019-01-10     1.0\n",
       "2019-01-11     0.7\n",
       "2019-01-12     0.6]"
      ]
     },
     "execution_count": 7,
     "metadata": {},
     "output_type": "execute_result"
    }
   ],
   "source": [
    "tsd"
   ]
  },
  {
   "cell_type": "code",
   "execution_count": 8,
   "metadata": {},
   "outputs": [],
   "source": [
    "def to_array(tsd):\n",
    "    \n",
    "    return np.array([ts.to_array() for ts in tsd.data])"
   ]
  },
  {
   "cell_type": "code",
   "execution_count": 9,
   "metadata": {},
   "outputs": [
    {
     "data": {
      "text/plain": [
       "array([[0.4, 1. , 0.7, 0.6, 0.4, 1. , 0.7, 0.6, 0.4, 1. , 0.7, 0.6],\n",
       "       [0.4, 1. , 0.7, 0.6, 0.4, 1. , 0.7, 0.6, 0.4, 1. , 0.7, 0.6],\n",
       "       [0.4, 1. , 0.7, 0.6, 0.4, 1. , 0.7, 0.6, 0.4, 1. , 0.7, 0.6],\n",
       "       [0.4, 1. , 0.7, 0.6, 0.4, 1. , 0.7, 0.6, 0.4, 1. , 0.7, 0.6],\n",
       "       [0.4, 1. , 0.7, 0.6, 0.4, 1. , 0.7, 0.6, 0.4, 1. , 0.7, 0.6]])"
      ]
     },
     "execution_count": 9,
     "metadata": {},
     "output_type": "execute_result"
    }
   ],
   "source": [
    "to_array(tsd)"
   ]
  },
  {
   "cell_type": "markdown",
   "metadata": {},
   "source": [
    "## Read TSD from File"
   ]
  },
  {
   "cell_type": "code",
   "execution_count": 14,
   "metadata": {},
   "outputs": [],
   "source": [
    "from timeatlas import read_text"
   ]
  },
  {
   "cell_type": "code",
   "execution_count": 13,
   "metadata": {},
   "outputs": [],
   "source": [
    "tsd.to_text('../data/')"
   ]
  },
  {
   "cell_type": "code",
   "execution_count": 16,
   "metadata": {},
   "outputs": [],
   "source": [
    "ts = read_text('../data/0')"
   ]
  },
  {
   "cell_type": "code",
   "execution_count": 4,
   "metadata": {},
   "outputs": [
    {
     "name": "stderr",
     "output_type": "stream",
     "text": [
      "Importing plotly failed. Interactive plots will not work.\n"
     ]
    }
   ],
   "source": [
    "\n",
    "from timeatlas.models import LSTMPrediction"
   ]
  },
  {
   "cell_type": "markdown",
   "metadata": {
    "pycharm": {
     "name": "#%%\n"
    }
   },
   "source": [
    "## TSD REPR\n"
   ]
  },
  {
   "cell_type": "code",
   "execution_count": 1,
   "metadata": {},
   "outputs": [
    {
     "name": "stderr",
     "output_type": "stream",
     "text": [
      "Importing plotly failed. Interactive plots will not work.\n"
     ]
    }
   ],
   "source": [
    "from timeatlas import TimeSeries, TimeSeriesDataset\n",
    "from timeatlas.config.constants import (\n",
    "    TIME_SERIES_VALUES,\n",
    "    TIME_SERIES_FILENAME,\n",
    "    TIME_SERIES_EXT,\n",
    "    METADATA_FILENAME,\n",
    "    METADATA_EXT\n",
    ")\n",
    "\n",
    "from pandas import Series, DatetimeIndex\n",
    "\n",
    "import numpy as np"
   ]
  },
  {
   "cell_type": "code",
   "execution_count": 2,
   "metadata": {},
   "outputs": [],
   "source": [
    "index = DatetimeIndex(['2019-01-01', '2019-01-02', '2019-01-03', '2019-01-04','2019-01-05', '2019-01-06', '2019-01-07', '2019-01-08','2019-01-09', '2019-01-10', '2019-01-11', '2019-01-12'])\n",
    "my_series = Series([0.4, 1.0, 0.7, 0.6, 0.4, 1.0, 0.7, 0.6, 0.4, 1.0, 0.7, 0.6], index=index)\n",
    "\n",
    "ts1 = TimeSeries(my_series)\n",
    "\n",
    "index = DatetimeIndex(['2019-01-01', '2019-01-02', '2019-01-03', '2019-01-04','2019-01-05', '2019-01-06', '2019-01-07', '2019-01-08','2019-01-09'])\n",
    "my_series = Series([0.4, 1.0, 0.7, 0.6, 0.4, 10, 0.8, 0.6, 0.4], index=index)\n",
    "\n",
    "ts2 = TimeSeries(my_series)\n",
    "\n",
    "tsd = TimeSeriesDataset([ts1, ts2])"
   ]
  },
  {
   "cell_type": "code",
   "execution_count": 3,
   "metadata": {},
   "outputs": [
    {
     "data": {
      "text/html": [
       "<div>\n",
       "<style scoped>\n",
       "    .dataframe tbody tr th:only-of-type {\n",
       "        vertical-align: middle;\n",
       "    }\n",
       "\n",
       "    .dataframe tbody tr th {\n",
       "        vertical-align: top;\n",
       "    }\n",
       "\n",
       "    .dataframe thead th {\n",
       "        text-align: right;\n",
       "    }\n",
       "</style>\n",
       "<table border=\"1\" class=\"dataframe\">\n",
       "  <thead>\n",
       "    <tr style=\"text-align: right;\">\n",
       "      <th></th>\n",
       "      <th>minimum</th>\n",
       "      <th>maximum</th>\n",
       "      <th>mean</th>\n",
       "      <th>median</th>\n",
       "      <th>kurtosis</th>\n",
       "      <th>skewness</th>\n",
       "    </tr>\n",
       "  </thead>\n",
       "  <tbody>\n",
       "    <tr>\n",
       "      <th>0</th>\n",
       "      <td>0.4</td>\n",
       "      <td>1.0</td>\n",
       "      <td>0.675000</td>\n",
       "      <td>0.65</td>\n",
       "      <td>-0.976735</td>\n",
       "      <td>0.371462</td>\n",
       "    </tr>\n",
       "    <tr>\n",
       "      <th>1</th>\n",
       "      <td>0.4</td>\n",
       "      <td>10.0</td>\n",
       "      <td>1.655556</td>\n",
       "      <td>0.60</td>\n",
       "      <td>8.892405</td>\n",
       "      <td>2.976042</td>\n",
       "    </tr>\n",
       "  </tbody>\n",
       "</table>\n",
       "</div>"
      ],
      "text/plain": [
       "   minimum  maximum      mean  median  kurtosis  skewness\n",
       "0      0.4      1.0  0.675000    0.65 -0.976735  0.371462\n",
       "1      0.4     10.0  1.655556    0.60  8.892405  2.976042"
      ]
     },
     "execution_count": 3,
     "metadata": {},
     "output_type": "execute_result"
    }
   ],
   "source": [
    "tsd.describe()"
   ]
  },
  {
   "cell_type": "code",
   "execution_count": 4,
   "metadata": {},
   "outputs": [
    {
     "name": "stdout",
     "output_type": "stream",
     "text": [
      "<class 'str'>\n"
     ]
    },
    {
     "data": {
      "text/plain": [
       "   minimum  maximum      mean  median  kurtosis  skewness\n",
       "0      0.4      1.0  0.675000    0.65 -0.976735  0.371462\n",
       "1      0.4     10.0  1.655556    0.60  8.892405  2.976042"
      ]
     },
     "execution_count": 4,
     "metadata": {},
     "output_type": "execute_result"
    }
   ],
   "source": [
    "tsd"
   ]
  },
  {
   "cell_type": "code",
   "execution_count": null,
   "metadata": {},
   "outputs": [],
   "source": []
  }
 ],
 "metadata": {
  "kernelspec": {
   "display_name": "PyCharm (timeatlas)",
   "language": "python",
   "name": "pycharm-9df7f84f"
  },
  "language_info": {
   "codemirror_mode": {
    "name": "ipython",
    "version": 3
   },
   "file_extension": ".py",
   "mimetype": "text/x-python",
   "name": "python",
   "nbconvert_exporter": "python",
   "pygments_lexer": "ipython3",
   "version": "3.7.5"
  }
 },
 "nbformat": 4,
 "nbformat_minor": 1
}
