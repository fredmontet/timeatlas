{
 "cells": [
  {
   "cell_type": "code",
   "execution_count": 1,
   "metadata": {},
   "outputs": [
    {
     "name": "stderr",
     "output_type": "stream",
     "text": [
      "Importing plotly failed. Interactive plots will not work.\n"
     ]
    }
   ],
   "source": [
    "from timeatlas import TimeSeries, TimeSeriesDataset\n",
    "from timeatlas.config.constants import (\n",
    "    TIME_SERIES_VALUES,\n",
    "    TIME_SERIES_FILENAME,\n",
    "    TIME_SERIES_EXT,\n",
    "    METADATA_FILENAME,\n",
    "    METADATA_EXT\n",
    ")\n",
    "\n",
    "from pandas import Series, DatetimeIndex\n",
    "\n",
    "import numpy as np\n"
   ]
  },
  {
   "cell_type": "markdown",
   "metadata": {},
   "source": [
    "### TimeSeries to_array()"
   ]
  },
  {
   "cell_type": "code",
   "execution_count": 2,
   "metadata": {
    "pycharm": {
     "name": "#%%\n"
    }
   },
   "outputs": [],
   "source": [
    "index = DatetimeIndex(['2019-01-01', '2019-01-02', '2019-01-03', '2019-01-04','2019-01-05', '2019-01-06', '2019-01-07', '2019-01-08','2019-01-09', '2019-01-10', '2019-01-11', '2019-01-12'])\n",
    "my_series = Series([0.4, 1.0, 0.7, 0.6, 0.4, 1.0, 0.7, 0.6, 0.4, 1.0, 0.7, 0.6], index=index)\n",
    "\n",
    "ts = TimeSeries(my_series)"
   ]
  },
  {
   "cell_type": "code",
   "execution_count": 3,
   "metadata": {},
   "outputs": [
    {
     "data": {
      "text/plain": [
       "            values\n",
       "2019-01-01     0.4\n",
       "2019-01-02     1.0\n",
       "2019-01-03     0.7\n",
       "2019-01-04     0.6\n",
       "2019-01-05     0.4\n",
       "2019-01-06     1.0\n",
       "2019-01-07     0.7\n",
       "2019-01-08     0.6\n",
       "2019-01-09     0.4\n",
       "2019-01-10     1.0\n",
       "2019-01-11     0.7\n",
       "2019-01-12     0.6"
      ]
     },
     "execution_count": 3,
     "metadata": {},
     "output_type": "execute_result"
    }
   ],
   "source": [
    "ts"
   ]
  },
  {
   "cell_type": "code",
   "execution_count": 4,
   "metadata": {},
   "outputs": [],
   "source": [
    "def to_array(ts):\n",
    "    \"\"\"\n",
    "    \n",
    "    \"\"\"\n",
    "    \n",
    "    return ts.series[TIME_SERIES_VALUES].to_numpy()"
   ]
  },
  {
   "cell_type": "code",
   "execution_count": 5,
   "metadata": {},
   "outputs": [
    {
     "data": {
      "text/plain": [
       "array([0.4, 1. , 0.7, 0.6, 0.4, 1. , 0.7, 0.6, 0.4, 1. , 0.7, 0.6])"
      ]
     },
     "execution_count": 5,
     "metadata": {},
     "output_type": "execute_result"
    }
   ],
   "source": [
    "to_array(ts)"
   ]
  },
  {
   "cell_type": "markdown",
   "metadata": {},
   "source": [
    "### TimeSeriesDataset to_array()"
   ]
  },
  {
   "cell_type": "code",
   "execution_count": 6,
   "metadata": {},
   "outputs": [],
   "source": [
    "tsd = TimeSeriesDataset([ts for i in range(5)])"
   ]
  },
  {
   "cell_type": "code",
   "execution_count": 7,
   "metadata": {},
   "outputs": [
    {
     "data": {
      "text/plain": [
       "[            values\n",
       "2019-01-01     0.4\n",
       "2019-01-02     1.0\n",
       "2019-01-03     0.7\n",
       "2019-01-04     0.6\n",
       "2019-01-05     0.4\n",
       "2019-01-06     1.0\n",
       "2019-01-07     0.7\n",
       "2019-01-08     0.6\n",
       "2019-01-09     0.4\n",
       "2019-01-10     1.0\n",
       "2019-01-11     0.7\n",
       "2019-01-12     0.6,             values\n",
       "2019-01-01     0.4\n",
       "2019-01-02     1.0\n",
       "2019-01-03     0.7\n",
       "2019-01-04     0.6\n",
       "2019-01-05     0.4\n",
       "2019-01-06     1.0\n",
       "2019-01-07     0.7\n",
       "2019-01-08     0.6\n",
       "2019-01-09     0.4\n",
       "2019-01-10     1.0\n",
       "2019-01-11     0.7\n",
       "2019-01-12     0.6,             values\n",
       "2019-01-01     0.4\n",
       "2019-01-02     1.0\n",
       "2019-01-03     0.7\n",
       "2019-01-04     0.6\n",
       "2019-01-05     0.4\n",
       "2019-01-06     1.0\n",
       "2019-01-07     0.7\n",
       "2019-01-08     0.6\n",
       "2019-01-09     0.4\n",
       "2019-01-10     1.0\n",
       "2019-01-11     0.7\n",
       "2019-01-12     0.6,             values\n",
       "2019-01-01     0.4\n",
       "2019-01-02     1.0\n",
       "2019-01-03     0.7\n",
       "2019-01-04     0.6\n",
       "2019-01-05     0.4\n",
       "2019-01-06     1.0\n",
       "2019-01-07     0.7\n",
       "2019-01-08     0.6\n",
       "2019-01-09     0.4\n",
       "2019-01-10     1.0\n",
       "2019-01-11     0.7\n",
       "2019-01-12     0.6,             values\n",
       "2019-01-01     0.4\n",
       "2019-01-02     1.0\n",
       "2019-01-03     0.7\n",
       "2019-01-04     0.6\n",
       "2019-01-05     0.4\n",
       "2019-01-06     1.0\n",
       "2019-01-07     0.7\n",
       "2019-01-08     0.6\n",
       "2019-01-09     0.4\n",
       "2019-01-10     1.0\n",
       "2019-01-11     0.7\n",
       "2019-01-12     0.6]"
      ]
     },
     "execution_count": 7,
     "metadata": {},
     "output_type": "execute_result"
    }
   ],
   "source": [
    "tsd"
   ]
  },
  {
   "cell_type": "code",
   "execution_count": 8,
   "metadata": {},
   "outputs": [],
   "source": [
    "def to_array(tsd):\n",
    "    \n",
    "    return np.array([ts.to_array() for ts in tsd.data])"
   ]
  },
  {
   "cell_type": "code",
   "execution_count": 9,
   "metadata": {},
   "outputs": [
    {
     "data": {
      "text/plain": [
       "array([[0.4, 1. , 0.7, 0.6, 0.4, 1. , 0.7, 0.6, 0.4, 1. , 0.7, 0.6],\n",
       "       [0.4, 1. , 0.7, 0.6, 0.4, 1. , 0.7, 0.6, 0.4, 1. , 0.7, 0.6],\n",
       "       [0.4, 1. , 0.7, 0.6, 0.4, 1. , 0.7, 0.6, 0.4, 1. , 0.7, 0.6],\n",
       "       [0.4, 1. , 0.7, 0.6, 0.4, 1. , 0.7, 0.6, 0.4, 1. , 0.7, 0.6],\n",
       "       [0.4, 1. , 0.7, 0.6, 0.4, 1. , 0.7, 0.6, 0.4, 1. , 0.7, 0.6]])"
      ]
     },
     "execution_count": 9,
     "metadata": {},
     "output_type": "execute_result"
    }
   ],
   "source": [
    "to_array(tsd)"
   ]
  },
  {
   "cell_type": "markdown",
   "metadata": {},
   "source": [
    "## Read TSD from File"
   ]
  },
  {
   "cell_type": "code",
   "execution_count": 14,
   "metadata": {},
   "outputs": [],
   "source": [
    "from timeatlas import read_text"
   ]
  },
  {
   "cell_type": "code",
   "execution_count": 13,
   "metadata": {},
   "outputs": [],
   "source": [
    "tsd.to_text('../data/')"
   ]
  },
  {
   "cell_type": "code",
   "execution_count": 16,
   "metadata": {},
   "outputs": [],
   "source": [
    "ts = read_text('../data/0')"
   ]
  },
  {
   "cell_type": "code",
   "execution_count": 4,
   "metadata": {},
   "outputs": [
    {
     "name": "stderr",
     "output_type": "stream",
     "text": [
      "Importing plotly failed. Interactive plots will not work.\n"
     ]
    }
   ],
   "source": []
  },
  {
   "cell_type": "markdown",
   "source": [
    "### Merge by Class Label"
   ],
   "metadata": {
    "collapsed": false,
    "pycharm": {
     "name": "#%% md\n"
    }
   }
  },
  {
   "cell_type": "code",
   "execution_count": 1,
   "outputs": [
    {
     "name": "stderr",
     "output_type": "stream",
     "text": [
      "Importing plotly failed. Interactive plots will not work.\n"
     ]
    }
   ],
   "source": [
    "from timeatlas import TimeSeries, TimeSeriesDataset\n",
    "from timeatlas.config.constants import (\n",
    "    TIME_SERIES_VALUES,\n",
    "    TIME_SERIES_FILENAME,\n",
    "    TIME_SERIES_EXT,\n",
    "    METADATA_FILENAME,\n",
    "    METADATA_EXT\n",
    ")\n",
    "\n",
    "from pandas import Series, DatetimeIndex\n",
    "\n",
    "import numpy as np"
   ],
   "metadata": {
    "collapsed": false,
    "pycharm": {
     "name": "#%%\n"
    }
   }
  },
  {
   "cell_type": "code",
   "execution_count": 4,
   "outputs": [],
   "source": [
    "index = DatetimeIndex(['2019-01-01', '2019-01-02', '2019-01-03', '2019-01-04','2019-01-05', '2019-01-06', '2019-01-07', '2019-01-08','2019-01-09', '2019-01-10', '2019-01-11', '2019-01-12'])\n",
    "my_series = Series([0.4, 1.0, 0.7, 0.6, 0.4, 1.0, 0.7, 0.6, 0.4, 1.0, 0.7, 0.6], index=index)\n",
    "\n",
    "ts1 = TimeSeries(my_series)\n",
    "ts1.label = \"banana\"\n",
    "\n",
    "index = DatetimeIndex(['2019-01-01', '2019-01-02', '2019-01-03', '2019-01-04','2019-01-05', '2019-01-06', '2019-01-07', '2019-01-08','2019-01-09', '2019-01-10', '2019-01-11', '2019-01-12'])\n",
    "my_series = Series([0.4, 1.0, 0.7, 0.6, 0.4, 1.0, 0.7, 0.6, 0.4, 1.0, 0.7, 0.6], index=index)\n",
    "\n",
    "ts2 = TimeSeries(my_series)\n",
    "ts2.label = \"orange\"\n",
    "\n",
    "tsd1 = TimeSeriesDataset([ts1, ts2])\n",
    "\n",
    "index = DatetimeIndex(['2019-01-01', '2019-01-02', '2019-01-03', '2019-01-04','2019-01-05', '2019-01-06', '2019-01-07', '2019-01-08','2019-01-09', '2019-01-10', '2019-01-11', '2019-01-12'])\n",
    "my_series = Series([0.4, 1.0, 0.7, 0.6, 0.4, 1.0, 0.7, 0.6, 0.4, 1.0, 0.7, 0.6], index=index)\n",
    "\n",
    "ts3 = TimeSeries(my_series)\n",
    "ts3.label = \"banana\"\n",
    "\n",
    "tsd2 = TimeSeriesDataset([ts3])"
   ],
   "metadata": {
    "collapsed": false,
    "pycharm": {
     "name": "#%%\n"
    }
   }
  },
  {
   "cell_type": "code",
   "execution_count": 5,
   "outputs": [
    {
     "name": "stdout",
     "output_type": "stream",
     "text": [
      "[0]\n",
      "[]\n"
     ]
    }
   ],
   "source": [
    "merged_tsd = tsd1.merge_by_class_labels(tsd2)"
   ],
   "metadata": {
    "collapsed": false,
    "pycharm": {
     "name": "#%%\n"
    }
   }
  },
  {
   "cell_type": "code",
   "execution_count": 6,
   "outputs": [
    {
     "data": {
      "text/plain": "[            values\n 2019-01-01     0.4\n 2019-01-01     0.4\n 2019-01-02     1.0\n 2019-01-02     1.0\n 2019-01-03     0.7\n 2019-01-03     0.7\n 2019-01-04     0.6\n 2019-01-04     0.6\n 2019-01-05     0.4\n 2019-01-05     0.4\n 2019-01-06     1.0\n 2019-01-06     1.0\n 2019-01-07     0.7\n 2019-01-07     0.7\n 2019-01-08     0.6\n 2019-01-08     0.6\n 2019-01-09     0.4\n 2019-01-09     0.4\n 2019-01-10     1.0\n 2019-01-10     1.0\n 2019-01-11     0.7\n 2019-01-11     0.7\n 2019-01-12     0.6\n 2019-01-12     0.6,\n             values\n 2019-01-01     0.4\n 2019-01-02     1.0\n 2019-01-03     0.7\n 2019-01-04     0.6\n 2019-01-05     0.4\n 2019-01-06     1.0\n 2019-01-07     0.7\n 2019-01-08     0.6\n 2019-01-09     0.4\n 2019-01-10     1.0\n 2019-01-11     0.7\n 2019-01-12     0.6]"
     },
     "execution_count": 6,
     "metadata": {},
     "output_type": "execute_result"
    }
   ],
   "source": [
    "merged_tsd.data"
   ],
   "metadata": {
    "collapsed": false,
    "pycharm": {
     "name": "#%%\n"
    }
   }
  },
  {
   "cell_type": "code",
   "execution_count": null,
   "outputs": [],
   "source": [],
   "metadata": {
    "collapsed": false,
    "pycharm": {
     "name": "#%%\n"
    }
   }
  }
 ],
 "metadata": {
  "kernelspec": {
   "name": "pycharm-9df7f84f",
   "language": "python",
   "display_name": "PyCharm (timeatlas)"
  },
  "language_info": {
   "codemirror_mode": {
    "name": "ipython",
    "version": 3
   },
   "file_extension": ".py",
   "mimetype": "text/x-python",
   "name": "python",
   "nbconvert_exporter": "python",
   "pygments_lexer": "ipython3",
   "version": "3.7.5"
  }
 },
 "nbformat": 4,
 "nbformat_minor": 1
}