{
 "cells": [
  {
   "cell_type": "markdown",
   "metadata": {},
   "source": [
    "# Scrapbook\n",
    "\n",
    "This notebook is used for development, its content can change at any time."
   ]
  },
  {
   "cell_type": "code",
   "execution_count": 7,
   "metadata": {},
   "outputs": [],
   "source": [
    "import timeatlas as ta\n",
    "import pandas as pd"
   ]
  },
  {
   "cell_type": "code",
   "execution_count": 10,
   "metadata": {},
   "outputs": [],
   "source": [
    "s = pd.read_csv(\"../data/bbdata/2902.csv\")\n",
    "s = pd.DataFrame(data=s[\"value\"].values, index=pd.to_datetime(s[\"timestamp\"]).values)\n",
    "ts = ta.TimeSeries(s)"
   ]
  },
  {
   "cell_type": "code",
   "execution_count": 11,
   "metadata": {},
   "outputs": [
    {
     "data": {
      "text/plain": [
       "                         values\n",
       "2018-02-01 00:13:09.829   6.132\n",
       "2018-02-01 00:28:09.753   4.971\n",
       "2018-02-01 00:43:09.721   6.050\n",
       "2018-02-01 00:58:09.638   6.056\n",
       "2018-02-01 01:13:09.588   6.187\n",
       "...                         ...\n",
       "2018-02-01 22:58:04.549   6.065\n",
       "2018-02-01 23:13:04.487   5.414\n",
       "2018-02-01 23:28:04.422   5.707\n",
       "2018-02-01 23:43:04.373   6.188\n",
       "2018-02-01 23:58:04.327   5.326\n",
       "\n",
       "[95 rows x 1 columns]"
      ]
     },
     "execution_count": 11,
     "metadata": {},
     "output_type": "execute_result"
    }
   ],
   "source": [
    "ts"
   ]
  },
  {
   "cell_type": "code",
   "execution_count": 12,
   "metadata": {},
   "outputs": [
    {
     "data": {
      "text/plain": [
       "                         values\n",
       "2018-02-01 00:13:09.829     NaN\n",
       "2018-02-01 00:28:09.753     NaN\n",
       "2018-02-01 00:43:09.721     NaN\n",
       "2018-02-01 00:58:09.638     NaN\n",
       "2018-02-01 01:13:09.588     NaN\n",
       "...                         ...\n",
       "2018-02-01 22:58:04.549     NaN\n",
       "2018-02-01 23:13:04.487     NaN\n",
       "2018-02-01 23:28:04.422     NaN\n",
       "2018-02-01 23:43:04.373     NaN\n",
       "2018-02-01 23:58:04.327     NaN\n",
       "\n",
       "[95 rows x 1 columns]"
      ]
     },
     "execution_count": 12,
     "metadata": {},
     "output_type": "execute_result"
    }
   ],
   "source": [
    "ts.erase()"
   ]
  },
  {
   "cell_type": "code",
   "execution_count": 13,
   "metadata": {},
   "outputs": [
    {
     "data": {
      "image/png": "[encoded data removed]",
      "text/plain": [
       "<Figure size 1296x144 with 1 Axes>"
      ]
     },
     "metadata": {
      "needs_background": "light"
     },
     "output_type": "display_data"
    }
   ],
   "source": [
    "ts.plot()"
   ]
  },
  {
   "cell_type": "code",
   "execution_count": 14,
   "metadata": {},
   "outputs": [
    {
     "data": {
      "text/html": [
       "<div>\n",
       "<style scoped>\n",
       "    .dataframe tbody tr th:only-of-type {\n",
       "        vertical-align: middle;\n",
       "    }\n",
       "\n",
       "    .dataframe tbody tr th {\n",
       "        vertical-align: top;\n",
       "    }\n",
       "\n",
       "    .dataframe thead th {\n",
       "        text-align: right;\n",
       "    }\n",
       "</style>\n",
       "<table border=\"1\" class=\"dataframe\">\n",
       "  <thead>\n",
       "    <tr style=\"text-align: right;\">\n",
       "      <th></th>\n",
       "      <th>values</th>\n",
       "    </tr>\n",
       "  </thead>\n",
       "  <tbody>\n",
       "    <tr>\n",
       "      <th>count</th>\n",
       "      <td>95.000000</td>\n",
       "    </tr>\n",
       "    <tr>\n",
       "      <th>mean</th>\n",
       "      <td>16.754200</td>\n",
       "    </tr>\n",
       "    <tr>\n",
       "      <th>std</th>\n",
       "      <td>19.096193</td>\n",
       "    </tr>\n",
       "    <tr>\n",
       "      <th>min</th>\n",
       "      <td>4.095000</td>\n",
       "    </tr>\n",
       "    <tr>\n",
       "      <th>25%</th>\n",
       "      <td>5.959500</td>\n",
       "    </tr>\n",
       "    <tr>\n",
       "      <th>50%</th>\n",
       "      <td>6.620000</td>\n",
       "    </tr>\n",
       "    <tr>\n",
       "      <th>75%</th>\n",
       "      <td>23.790001</td>\n",
       "    </tr>\n",
       "    <tr>\n",
       "      <th>max</th>\n",
       "      <td>91.604996</td>\n",
       "    </tr>\n",
       "  </tbody>\n",
       "</table>\n",
       "</div>"
      ],
      "text/plain": [
       "          values\n",
       "count  95.000000\n",
       "mean   16.754200\n",
       "std    19.096193\n",
       "min     4.095000\n",
       "25%     5.959500\n",
       "50%     6.620000\n",
       "75%    23.790001\n",
       "max    91.604996"
      ]
     },
     "execution_count": 14,
     "metadata": {},
     "output_type": "execute_result"
    }
   ],
   "source": [
    "ts.describe()"
   ]
  },
  {
   "cell_type": "code",
   "execution_count": 15,
   "metadata": {},
   "outputs": [
    {
     "data": {
      "text/plain": [
       "values    4.095\n",
       "dtype: float64"
      ]
     },
     "execution_count": 15,
     "metadata": {},
     "output_type": "execute_result"
    }
   ],
   "source": [
    "ts.min()"
   ]
  },
  {
   "cell_type": "code",
   "execution_count": 16,
   "metadata": {},
   "outputs": [
    {
     "data": {
      "text/plain": [
       "values    91.604996\n",
       "dtype: float64"
      ]
     },
     "execution_count": 16,
     "metadata": {},
     "output_type": "execute_result"
    }
   ],
   "source": [
    "ts.max()"
   ]
  },
  {
   "cell_type": "code",
   "execution_count": 17,
   "metadata": {},
   "outputs": [
    {
     "data": {
      "text/plain": [
       "(Timestamp('2018-02-01 00:13:09.829000'),\n",
       " Timestamp('2018-02-01 23:58:04.327000'))"
      ]
     },
     "execution_count": 17,
     "metadata": {},
     "output_type": "execute_result"
    }
   ],
   "source": [
    "ts.boundaries()"
   ]
  },
  {
   "cell_type": "code",
   "execution_count": 18,
   "metadata": {},
   "outputs": [
    {
     "data": {
      "text/plain": [
       "Timedelta('0 days 23:44:54.498000')"
      ]
     },
     "execution_count": 18,
     "metadata": {},
     "output_type": "execute_result"
    }
   ],
   "source": [
    "ts.duration()"
   ]
  },
  {
   "cell_type": "code",
   "execution_count": 19,
   "metadata": {},
   "outputs": [
    {
     "data": {
      "image/png": "[encoded data removed]",
      "text/plain": [
       "<Figure size 1296x144 with 1 Axes>"
      ]
     },
     "metadata": {
      "needs_background": "light"
     },
     "output_type": "display_data"
    }
   ],
   "source": [
    "ts.resolution().plot()"
   ]
  },
  {
   "cell_type": "code",
   "execution_count": 21,
   "metadata": {},
   "outputs": [
    {
     "data": {
      "image/png": "[encoded data removed]",
      "text/plain": [
       "<Figure size 1296x144 with 1 Axes>"
      ]
     },
     "metadata": {
      "needs_background": "light"
     },
     "output_type": "display_data"
    }
   ],
   "source": [
    "ts.apply(lambda x : x**2).plot()"
   ]
  },
  {
   "cell_type": "code",
   "execution_count": 22,
   "metadata": {},
   "outputs": [
    {
     "data": {
      "image/png": "[encoded data removed]",
      "text/plain": [
       "<Figure size 1296x144 with 1 Axes>"
      ]
     },
     "metadata": {
      "needs_background": "light"
     },
     "output_type": "display_data"
    }
   ],
   "source": [
    "ts.apply(lambda x,y: x+y, ts).plot()"
   ]
  },
  {
   "cell_type": "markdown",
   "metadata": {},
   "source": [
    "## Define a Metadata object"
   ]
  },
  {
   "cell_type": "code",
   "execution_count": null,
   "metadata": {
    "pycharm": {
     "name": "#%%\n"
    }
   },
   "outputs": [],
   "source": [
    "from timeatlas import Metadata, types\n",
    "\n",
    "# You can use some typed metadata object\n",
    "my_unit = types.Unit(\"power\", \"W\", \"float\")\n",
    "my_sensor = types.Sensor(2902, \"HB/floor2/22-23C/Prises_Power_Tot\")\n",
    "\n",
    "# Or use Python dictionaries\n",
    "my_location = {\n",
    "    \"building\" : \"Blue Factory\",\n",
    "    \"floor\" : \"12\",\n",
    "    \"room\"  : \"22C\"\n",
    "}\n",
    "my_coordinates = {\n",
    "    \"lat\" : 46.796611,\n",
    "    \"lon\" : 7.147563\n",
    "}\n",
    "my_dict = {\n",
    "    \"unit\": my_unit,\n",
    "    \"sensor\": my_sensor,\n",
    "    \"location\": my_location,\n",
    "    \"coordinates\": my_coordinates\n",
    "}\n",
    "\n",
    "# Create the Metadata object\n",
    "my_meta = Metadata(my_dict)\n"
   ]
  },
  {
   "cell_type": "markdown",
   "metadata": {},
   "source": [
    "## Define a TimeSeries with Metadata"
   ]
  },
  {
   "cell_type": "code",
   "execution_count": null,
   "metadata": {
    "pycharm": {
     "name": "#%% Create a TimeSeries\n"
    }
   },
   "outputs": [],
   "source": [
    "ts_meta = TimeSeries(s, my_meta)\n",
    "ts_meta"
   ]
  },
  {
   "cell_type": "markdown",
   "metadata": {
    "pycharm": {
     "name": "#%% md\n"
    }
   },
   "source": [
    "## Make Predictions\n",
    "\n",
    "Some definitions:\n",
    "\n",
    "- `time series` : self-explanatory, i.e. the TimeSeries object\n",
    "- `horizon` : the duration to predict after the last value of the time series\n",
    "- `frequency`: the number of values per unit of time. Usually, the frequency is given in Pandas offset aliases (https://pandas.pydata.org/pandas-docs/stable/user_guide/timeseries.html#offset-aliases)\n",
    "\n",
    "```\n",
    "                                horizon\n",
    "   |-------------------------|- - - - - -|\n",
    "                             |||||||||||||\n",
    "           time series         frequency\n",
    "\n",
    "```"
   ]
  },
  {
   "cell_type": "code",
   "execution_count": null,
   "metadata": {},
   "outputs": [],
   "source": [
    "from timeatlas import models"
   ]
  },
  {
   "cell_type": "code",
   "execution_count": null,
   "metadata": {},
   "outputs": [],
   "source": [
    "m1 = models.Prophet()\n",
    "m1.fit(ts_meta)\n",
    "pts1 = m1.predict(ts_meta)\n",
    "pts2 = m1.predict(\"24 hours\")"
   ]
  },
  {
   "cell_type": "code",
   "execution_count": null,
   "metadata": {},
   "outputs": [],
   "source": [
    "m2 = models.LinearRegression()\n",
    "m2.fit(ts_meta)\n",
    "pts3 = m2.predict(ts_meta)\n",
    "pts4 = m2.predict(\"14 days\")"
   ]
  },
  {
   "cell_type": "code",
   "execution_count": null,
   "metadata": {},
   "outputs": [],
   "source": [
    "from timeatlas import plots\n",
    "\n",
    "plots.prediction(ts_meta, pts1)"
   ]
  },
  {
   "cell_type": "markdown",
   "metadata": {},
   "source": [
    "## Detect Anomalies\n"
   ]
  },
  {
   "cell_type": "code",
   "execution_count": null,
   "metadata": {},
   "outputs": [],
   "source": [
    "from timeatlas import detectors, metrics"
   ]
  },
  {
   "cell_type": "code",
   "execution_count": null,
   "metadata": {},
   "outputs": [],
   "source": [
    "ts.apply(lambda x: x+1).series.head()"
   ]
  },
  {
   "cell_type": "code",
   "execution_count": null,
   "metadata": {},
   "outputs": [],
   "source": [
    "# Create the base of the detector. \n",
    "# i.e. this detector is based on this model and compute this error\n",
    "d = detectors.Surprise(m1, metrics.relative_error)\n",
    "\n",
    "# Set the alerts\n",
    "d.alerts(\"quantile\", [0.65, 0.8, 0.85, 0.95])\\\n",
    "\n",
    "# Fit the detector with a specific Time Series\n",
    "d.fit(ts_meta)"
   ]
  },
  {
   "cell_type": "code",
   "execution_count": null,
   "metadata": {},
   "outputs": [],
   "source": [
    "# Detect anomalies with the fitted detector\n",
    "a = d.detect(ts2)"
   ]
  },
  {
   "cell_type": "code",
   "execution_count": null,
   "metadata": {},
   "outputs": [],
   "source": [
    "a.plot()"
   ]
  },
  {
   "cell_type": "code",
   "execution_count": null,
   "metadata": {},
   "outputs": [],
   "source": [
    "d.truth.plot()\n",
    "d.prediction.plot()"
   ]
  },
  {
   "cell_type": "markdown",
   "metadata": {},
   "source": [
    "## Scalers"
   ]
  },
  {
   "cell_type": "code",
   "execution_count": null,
   "metadata": {},
   "outputs": [],
   "source": [
    "from timeatlas.processing import scalers"
   ]
  },
  {
   "cell_type": "code",
   "execution_count": null,
   "metadata": {},
   "outputs": [],
   "source": [
    "ts_meta.plot()"
   ]
  },
  {
   "cell_type": "code",
   "execution_count": null,
   "metadata": {},
   "outputs": [],
   "source": [
    "y = scalers.minmax(ts_meta)"
   ]
  },
  {
   "cell_type": "code",
   "execution_count": null,
   "metadata": {},
   "outputs": [],
   "source": [
    "y.plot()"
   ]
  },
  {
   "cell_type": "code",
   "execution_count": null,
   "metadata": {},
   "outputs": [],
   "source": []
  }
 ],
 "metadata": {
  "kernelspec": {
   "display_name": "Python 3",
   "language": "python",
   "name": "python3"
  },
  "language_info": {
   "codemirror_mode": {
    "name": "ipython",
    "version": 3
   },
   "file_extension": ".py",
   "mimetype": "text/x-python",
   "name": "python",
   "nbconvert_exporter": "python",
   "pygments_lexer": "ipython3",
   "version": "3.7.7"
  }
 },
 "nbformat": 4,
 "nbformat_minor": 1
}
